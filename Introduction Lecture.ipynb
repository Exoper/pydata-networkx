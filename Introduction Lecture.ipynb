{
 "cells": [
  {
   "cell_type": "code",
   "execution_count": 1,
   "metadata": {
    "slideshow": {
     "slide_type": "slide"
    }
   },
   "outputs": [],
   "source": [
    "import networkx as nx\n",
    "import matplotlib.pyplot as plt\n",
    "import numpy as np\n",
    "import warnings\n",
    "warnings.filterwarnings('ignore')\n",
    "\n",
    "%matplotlib inline"
   ]
  },
  {
   "cell_type": "code",
   "execution_count": 2,
   "metadata": {
    "slideshow": {
     "slide_type": "slide"
    }
   },
   "outputs": [],
   "source": [
    "# Create an empty graph object with no nodes and edges.\n",
    "G = nx.Graph() # DiGraph, MultiGraph, MultiDiGraph"
   ]
  },
  {
   "cell_type": "code",
   "execution_count": 3,
   "metadata": {},
   "outputs": [],
   "source": [
    "\n",
    "\n",
    "\n",
    "## Add nodes to our graph object\n",
    "# In NetworkX, nodes can be any hashable object e.g. a text string, an image,\n",
    "# an XML object, another Graph, a customized node object, etc.\n",
    "\n",
    "G.add_node('1')\n",
    "G.add_node(1)\n",
    "G.add_node('second')"
   ]
  },
  {
   "cell_type": "code",
   "execution_count": 4,
   "metadata": {},
   "outputs": [
    {
     "data": {
      "text/plain": [
       "NodeView(('1', 1, 'second'))"
      ]
     },
     "execution_count": 4,
     "metadata": {},
     "output_type": "execute_result"
    }
   ],
   "source": [
    "G.nodes()"
   ]
  },
  {
   "cell_type": "code",
   "execution_count": 5,
   "metadata": {},
   "outputs": [
    {
     "ename": "TypeError",
     "evalue": "unhashable type: 'dict'",
     "output_type": "error",
     "traceback": [
      "\u001b[0;31m---------------------------------------------------------------------------\u001b[0m",
      "\u001b[0;31mTypeError\u001b[0m                                 Traceback (most recent call last)",
      "\u001b[0;32m<ipython-input-5-6e07fcc35834>\u001b[0m in \u001b[0;36m<module>\u001b[0;34m()\u001b[0m\n\u001b[0;32m----> 1\u001b[0;31m \u001b[0mG\u001b[0m\u001b[0;34m.\u001b[0m\u001b[0madd_node\u001b[0m\u001b[0;34m(\u001b[0m\u001b[0;34m{\u001b[0m\u001b[0;34m'dictionary'\u001b[0m\u001b[0;34m:\u001b[0m \u001b[0;34m'will throw error'\u001b[0m\u001b[0;34m}\u001b[0m\u001b[0;34m)\u001b[0m\u001b[0;34m\u001b[0m\u001b[0m\n\u001b[0m\u001b[1;32m      2\u001b[0m \u001b[0;31m# G.add_node([1, 2])\u001b[0m\u001b[0;34m\u001b[0m\u001b[0;34m\u001b[0m\u001b[0m\n",
      "\u001b[0;32m~/dev/venv/nyc/lib/python3.6/site-packages/networkx/classes/graph.py\u001b[0m in \u001b[0;36madd_node\u001b[0;34m(self, n, **attr)\u001b[0m\n\u001b[1;32m    477\u001b[0m         \u001b[0mdoesn\u001b[0m\u001b[0;31m'\u001b[0m\u001b[0mt\u001b[0m \u001b[0mchange\u001b[0m \u001b[0mon\u001b[0m \u001b[0mmutables\u001b[0m\u001b[0;34m.\u001b[0m\u001b[0;34m\u001b[0m\u001b[0m\n\u001b[1;32m    478\u001b[0m         \"\"\"\n\u001b[0;32m--> 479\u001b[0;31m         \u001b[0;32mif\u001b[0m \u001b[0mn\u001b[0m \u001b[0;32mnot\u001b[0m \u001b[0;32min\u001b[0m \u001b[0mself\u001b[0m\u001b[0;34m.\u001b[0m\u001b[0m_node\u001b[0m\u001b[0;34m:\u001b[0m\u001b[0;34m\u001b[0m\u001b[0m\n\u001b[0m\u001b[1;32m    480\u001b[0m             \u001b[0mself\u001b[0m\u001b[0;34m.\u001b[0m\u001b[0m_adj\u001b[0m\u001b[0;34m[\u001b[0m\u001b[0mn\u001b[0m\u001b[0;34m]\u001b[0m \u001b[0;34m=\u001b[0m \u001b[0mself\u001b[0m\u001b[0;34m.\u001b[0m\u001b[0madjlist_inner_dict_factory\u001b[0m\u001b[0;34m(\u001b[0m\u001b[0;34m)\u001b[0m\u001b[0;34m\u001b[0m\u001b[0m\n\u001b[1;32m    481\u001b[0m             \u001b[0mself\u001b[0m\u001b[0;34m.\u001b[0m\u001b[0m_node\u001b[0m\u001b[0;34m[\u001b[0m\u001b[0mn\u001b[0m\u001b[0;34m]\u001b[0m \u001b[0;34m=\u001b[0m \u001b[0mattr\u001b[0m\u001b[0;34m\u001b[0m\u001b[0m\n",
      "\u001b[0;31mTypeError\u001b[0m: unhashable type: 'dict'"
     ]
    }
   ],
   "source": [
    "G.add_node({'dictionary': 'will throw error'})\n",
    "# G.add_node([1, 2])"
   ]
  },
  {
   "cell_type": "code",
   "execution_count": 6,
   "metadata": {},
   "outputs": [
    {
     "data": {
      "text/plain": [
       "NodeView(('1', 1, 'second'))"
      ]
     },
     "execution_count": 6,
     "metadata": {},
     "output_type": "execute_result"
    }
   ],
   "source": [
    "G.nodes()"
   ]
  },
  {
   "cell_type": "code",
   "execution_count": 7,
   "metadata": {},
   "outputs": [
    {
     "name": "stdout",
     "output_type": "stream",
     "text": [
      "[0, 1, 2, 3, 4, 5, 6]\n"
     ]
    }
   ],
   "source": [
    "list_of_nodes = [1, 2, 3, 'node4']\n",
    "G.add_nodes_from(list_of_nodes)\n",
    "# \n",
    "# NetworkX has a lot of graph generators path_graph is one of them.\n",
    "H = nx.path_graph(7)\n",
    "print(H.nodes())"
   ]
  },
  {
   "cell_type": "code",
   "execution_count": 8,
   "metadata": {},
   "outputs": [
    {
     "data": {
      "image/png": "[encoded data removed]",
      "text/plain": [
       "<matplotlib.figure.Figure at 0x10e83b080>"
      ]
     },
     "metadata": {},
     "output_type": "display_data"
    }
   ],
   "source": [
    "nx.draw(H)"
   ]
  },
  {
   "cell_type": "markdown",
   "metadata": {
    "slideshow": {
     "slide_type": "-"
    }
   },
   "source": [
    "Difference between `G.add_node(H)` and `G.add_nodes_from(H)`?"
   ]
  },
  {
   "cell_type": "code",
   "execution_count": 9,
   "metadata": {},
   "outputs": [
    {
     "name": "stdout",
     "output_type": "stream",
     "text": [
      "['1', 1, 'second', 2, 3, 'node4', 0, 4, 5, 6]\n"
     ]
    }
   ],
   "source": [
    "G.add_nodes_from(H)\n",
    "print(G.nodes())"
   ]
  },
  {
   "cell_type": "code",
   "execution_count": 10,
   "metadata": {},
   "outputs": [
    {
     "name": "stdout",
     "output_type": "stream",
     "text": [
      "['1', 1, 'second', 2, 3, 'node4', 0, 4, 5, 6, <networkx.classes.graph.Graph object at 0x10c978588>]\n"
     ]
    }
   ],
   "source": [
    "G.add_node(H)\n",
    "print(G.nodes())"
   ]
  },
  {
   "cell_type": "code",
   "execution_count": 11,
   "metadata": {},
   "outputs": [
    {
     "data": {
      "text/plain": [
       "EdgeView([('second', 0), ('second', 'node4'), (2, 3), ('node4', 0), (4, 5)])"
      ]
     },
     "execution_count": 11,
     "metadata": {},
     "output_type": "execute_result"
    }
   ],
   "source": [
    "# Now let's talk about edges.\n",
    "# Edge between two nodes means that they share some property/relationship\n",
    "# G.add_node(H)\n",
    "G.add_edge(0, 'second')\n",
    "G.add_edge(2, 3)\n",
    "G.add_edge('second', 'node4')\n",
    "\n",
    "list_of_edges = [(2, 3), (4, 5), ('node4', 0)]\n",
    "G.add_edges_from(list_of_edges)\n",
    "\n",
    "# Check out edges\n",
    "G.edges()"
   ]
  },
  {
   "cell_type": "code",
   "execution_count": 12,
   "metadata": {},
   "outputs": [
    {
     "name": "stdout",
     "output_type": "stream",
     "text": [
      "11 11 11\n",
      "5 5\n",
      "['1', 1, 'second', 2, 3, 'node4', 0, 4, 5, 6, <networkx.classes.graph.Graph object at 0x10c978588>]\n",
      "['1', 1, 'second', 2, 3, 'node4', 4, 5, 6, <networkx.classes.graph.Graph object at 0x10c978588>]\n",
      "[('second', 'node4'), (2, 3), (4, 5)]\n",
      "[('second', 'node4'), (2, 3)]\n",
      "[] []\n"
     ]
    }
   ],
   "source": [
    "# Number of nodes and edges.\n",
    "print(G.number_of_nodes(), len(G), len(G.nodes()))\n",
    "print(G.number_of_edges(), len(G.edges()))\n",
    "\n",
    "print(G.nodes())\n",
    "G.remove_node(0)\n",
    "print(G.nodes())\n",
    "\n",
    "print(G.edges())\n",
    "G.remove_edge(4, 5)\n",
    "print(G.edges())\n",
    "\n",
    "G.clear()\n",
    "print(G.nodes(), G.edges())"
   ]
  },
  {
   "cell_type": "code",
   "execution_count": 20,
   "metadata": {
    "slideshow": {
     "slide_type": "slide"
    }
   },
   "outputs": [
    {
     "name": "stdout",
     "output_type": "stream",
     "text": [
      "[0, 1, 2, 3, 4, 5, 6, 7, 8, 9, 10, 11, 12, 13, 14, 15, 16, 17, 18, 19, 20, 21, 22, 23, 24, 25, 26, 27, 28, 29, 30, 31, 32, 33, 34, 35, 36, 37, 38, 39, 40, 41, 42, 43, 44, 45, 46, 47, 48, 49]\n",
      "[(0, 9), (0, 10), (0, 14), (0, 20), (0, 21), (0, 27), (0, 36), (1, 9), (1, 24), (1, 25), (1, 44), (2, 6), (2, 18), (2, 29), (2, 30), (2, 31), (2, 37), (2, 46), (3, 10), (3, 11), (3, 28), (3, 39), (3, 41), (4, 18), (4, 35), (5, 8), (5, 9), (5, 19), (5, 28), (5, 30), (5, 33), (6, 8), (6, 9), (6, 15), (6, 30), (6, 49), (7, 9), (7, 11), (7, 12), (7, 21), (7, 35), (7, 49), (8, 18), (8, 22), (8, 32), (8, 49), (9, 10), (9, 32), (9, 39), (10, 30), (10, 33), (11, 31), (11, 42), (12, 22), (13, 18), (13, 24), (13, 35), (14, 22), (15, 17), (15, 19), (15, 23), (15, 32), (15, 47), (16, 26), (16, 29), (16, 35), (16, 36), (16, 38), (16, 41), (16, 42), (17, 21), (17, 28), (17, 45), (17, 46), (18, 20), (18, 27), (18, 29), (18, 31), (18, 32), (19, 33), (19, 36), (20, 21), (21, 25), (21, 26), (21, 33), (21, 34), (21, 39), (22, 39), (22, 45), (24, 39), (25, 33), (25, 37), (25, 44), (26, 41), (27, 43), (29, 37), (29, 49), (30, 40), (30, 41), (30, 44), (31, 33), (31, 39), (31, 40), (31, 45), (31, 46), (33, 40), (34, 44), (36, 39), (37, 41), (37, 43), (37, 45), (37, 46), (40, 41), (41, 42), (42, 44), (43, 44), (47, 49), (48, 49)]\n"
     ]
    },
    {
     "data": {
      "image/png": "[encoded data removed]",
      "text/plain": [
       "<matplotlib.figure.Figure at 0x10f0725c0>"
      ]
     },
     "metadata": {},
     "output_type": "display_data"
    }
   ],
   "source": [
    "# One more graph generator. This will create\n",
    "# a Erdos-Reyni Graph\n",
    "G = nx.erdos_renyi_graph(50, 0.1, seed=1)\n",
    "\n",
    "# Let's checkout nodes and edges\n",
    "print(G.nodes())\n",
    "print(G.edges())\n",
    "nx.draw(G)"
   ]
  },
  {
   "cell_type": "code",
   "execution_count": 21,
   "metadata": {
    "slideshow": {
     "slide_type": "slide"
    }
   },
   "outputs": [
    {
     "data": {
      "image/png": "[encoded data removed]",
      "text/plain": [
       "<matplotlib.figure.Figure at 0x10f511748>"
      ]
     },
     "metadata": {},
     "output_type": "display_data"
    }
   ],
   "source": [
    "matrix = nx.to_numpy_matrix(G)\n",
    "# print matrix\n",
    "\n",
    "fig = plt.figure()\n",
    "ax = fig.add_subplot(1,1,1)\n",
    "ax.set_aspect('equal')\n",
    "plt.imshow(matrix, interpolation='nearest', cmap=plt.cm.gray)\n",
    "plt.show()"
   ]
  },
  {
   "cell_type": "markdown",
   "metadata": {
    "slideshow": {
     "slide_type": "slide"
    }
   },
   "source": [
    "Adding attributes and weights."
   ]
  },
  {
   "cell_type": "code",
   "execution_count": 22,
   "metadata": {
    "slideshow": {
     "slide_type": "-"
    }
   },
   "outputs": [],
   "source": [
    "G.add_edge(1, 2, weight=4.7, flow_capacity=100)"
   ]
  },
  {
   "cell_type": "code",
   "execution_count": 23,
   "metadata": {},
   "outputs": [],
   "source": [
    "G.add_edges_from([(3, 4), (4, 5)], color='red')\n",
    "\n",
    "G.add_edges_from([(1, 2, {'color': 'blue'}), (2, 3, {'weight': 8})])"
   ]
  },
  {
   "cell_type": "code",
   "execution_count": null,
   "metadata": {},
   "outputs": [],
   "source": [
    "G[1][2]['weight'] = 4.1"
   ]
  },
  {
   "cell_type": "code",
   "execution_count": 27,
   "metadata": {},
   "outputs": [
    {
     "data": {
      "text/plain": [
       "EdgeDataView([(0, 9, {}), (0, 10, {}), (0, 14, {}), (0, 20, {}), (0, 21, {}), (0, 27, {}), (0, 36, {}), (1, 9, {}), (1, 24, {}), (1, 25, {}), (1, 44, {}), (1, 2, {'weight': 4.7, 'flow_capacity': 100, 'color': 'blue'}), (2, 6, {}), (2, 18, {}), (2, 29, {}), (2, 30, {}), (2, 31, {}), (2, 37, {}), (2, 46, {}), (2, 3, {'weight': 8}), (3, 10, {}), (3, 11, {}), (3, 28, {}), (3, 39, {}), (3, 41, {}), (3, 4, {'color': 'red'}), (4, 18, {}), (4, 35, {}), (4, 5, {'color': 'red'}), (5, 8, {}), (5, 9, {}), (5, 19, {}), (5, 28, {}), (5, 30, {}), (5, 33, {}), (6, 8, {}), (6, 9, {}), (6, 15, {}), (6, 30, {}), (6, 49, {}), (7, 9, {}), (7, 11, {}), (7, 12, {}), (7, 21, {}), (7, 35, {}), (7, 49, {}), (8, 18, {}), (8, 22, {}), (8, 32, {}), (8, 49, {}), (9, 10, {}), (9, 32, {}), (9, 39, {}), (10, 30, {}), (10, 33, {}), (11, 31, {}), (11, 42, {}), (12, 22, {}), (13, 18, {}), (13, 24, {}), (13, 35, {}), (14, 22, {}), (15, 17, {}), (15, 19, {}), (15, 23, {}), (15, 32, {}), (15, 47, {}), (16, 26, {}), (16, 29, {}), (16, 35, {}), (16, 36, {}), (16, 38, {}), (16, 41, {}), (16, 42, {}), (17, 21, {}), (17, 28, {}), (17, 45, {}), (17, 46, {}), (18, 20, {}), (18, 27, {}), (18, 29, {}), (18, 31, {}), (18, 32, {}), (19, 33, {}), (19, 36, {}), (20, 21, {}), (21, 25, {}), (21, 26, {}), (21, 33, {}), (21, 34, {}), (21, 39, {}), (22, 39, {}), (22, 45, {}), (24, 39, {}), (25, 33, {}), (25, 37, {}), (25, 44, {}), (26, 41, {}), (27, 43, {}), (29, 37, {}), (29, 49, {}), (30, 40, {}), (30, 41, {}), (30, 44, {}), (31, 33, {}), (31, 39, {}), (31, 40, {}), (31, 45, {}), (31, 46, {}), (33, 40, {}), (34, 44, {}), (36, 39, {}), (37, 41, {}), (37, 43, {}), (37, 45, {}), (37, 46, {}), (40, 41, {}), (41, 42, {}), (42, 44, {}), (43, 44, {}), (47, 49, {}), (48, 49, {})])"
      ]
     },
     "execution_count": 27,
     "metadata": {},
     "output_type": "execute_result"
    }
   ],
   "source": [
    "G.edges(data=True)"
   ]
  },
  {
   "cell_type": "markdown",
   "metadata": {
    "slideshow": {
     "slide_type": "slide"
    }
   },
   "source": [
    "### Exercise "
   ]
  },
  {
   "cell_type": "code",
   "execution_count": 38,
   "metadata": {},
   "outputs": [
    {
     "name": "stdout",
     "output_type": "stream",
     "text": [
      "[('Paris', 'Warsaw'), ('Paris', 'Barcelona'), ('Warsaw', 'Berlin'), ('Berlin', 'London')]\n"
     ]
    }
   ],
   "source": [
    "G = nx.Graph()\n",
    "list_of_cities = [('Paris', 'Warsaw', 841), ('Warsaw', 'Berlin', 584), ('Berlin', 'London', 1101), ('Paris', 'Barcelona', 1038)]\n",
    "G.add_weighted_edges_from(list_of_cities)\n",
    "\n",
    "# print G.nodes()\n",
    "print(G.edges())\n",
    "# Iterate through the edges and find the highest weight."
   ]
  },
  {
   "cell_type": "code",
   "execution_count": 33,
   "metadata": {
    "slideshow": {
     "slide_type": "slide"
    }
   },
   "outputs": [
    {
     "name": "stdout",
     "output_type": "stream",
     "text": [
      "1101\n"
     ]
    }
   ],
   "source": [
    "result = max([w['weight'] for u, v, w in G.edges(data=True)])\n",
    "print(result)\n",
    "\n",
    "# max(G.edges(data=True), key=lambda x:x[2])"
   ]
  },
  {
   "cell_type": "markdown",
   "metadata": {
    "collapsed": true,
    "slideshow": {
     "slide_type": "slide"
    }
   },
   "source": [
    "### Now let's try to understand the dynamics of a network.\n",
    "\n",
    "Let's start with a random erdos reyni graph.\n",
    "\n",
    "https://en.wikipedia.org/wiki/Erdős–Rényi_model\n"
   ]
  },
  {
   "cell_type": "code",
   "execution_count": 43,
   "metadata": {},
   "outputs": [],
   "source": [
    "G = nx.erdos_renyi_graph(10, 0.1, seed=1)"
   ]
  },
  {
   "cell_type": "code",
   "execution_count": 44,
   "metadata": {},
   "outputs": [
    {
     "data": {
      "image/png": "[encoded data removed]",
      "text/plain": [
       "<matplotlib.figure.Figure at 0x10ee68dd8>"
      ]
     },
     "metadata": {},
     "output_type": "display_data"
    }
   ],
   "source": [
    "nx.draw_spring(G, with_labels=True)"
   ]
  },
  {
   "cell_type": "markdown",
   "metadata": {
    "collapsed": true
   },
   "source": [
    "### Hubs: How do we evaluate the importance of some individuals in a network?\n",
    "\n",
    "Within a social network, there will be certain individuals which perform certain important functions. For example, there may be hyper-connected individuals who are connected to many, many more people. They would be of use in the spreading of information. Alternatively, if this were a disease contact network, identifying them would be useful in stopping the spread of diseases. How would one identify these people?"
   ]
  },
  {
   "cell_type": "markdown",
   "metadata": {
    "collapsed": true
   },
   "source": [
    "#### Approach 1: Neighbors\n",
    "\n",
    "One way we could compute this is to find out the number of people an individual is conencted to. NetworkX let's us do this by giving us a `G.neighbors(node)` function."
   ]
  },
  {
   "cell_type": "code",
   "execution_count": 42,
   "metadata": {},
   "outputs": [
    {
     "data": {
      "text/plain": [
       "[18]"
      ]
     },
     "execution_count": 42,
     "metadata": {},
     "output_type": "execute_result"
    }
   ],
   "source": [
    "# Let's find out the neighbors of node 12\n",
    "list(G.neighbors(12))"
   ]
  },
  {
   "cell_type": "markdown",
   "metadata": {},
   "source": [
    "#### Approach 2: Degree Centrality\n",
    "\n",
    "The number of other nodes that one node is connected to is a measure of its centrality. NetworkX implements a **degree centrality**, which is defined as the number of neighbors that a node has normalized to the number of individuals it could be connected to in the entire graph. This is accessed by using `nx.degree_centrality(G)`"
   ]
  },
  {
   "cell_type": "code",
   "execution_count": 45,
   "metadata": {},
   "outputs": [
    {
     "data": {
      "text/plain": [
       "{0: 0.1111111111111111,\n",
       " 1: 0.2222222222222222,\n",
       " 2: 0.3333333333333333,\n",
       " 3: 0.1111111111111111,\n",
       " 4: 0.0,\n",
       " 5: 0.2222222222222222,\n",
       " 6: 0.4444444444444444,\n",
       " 7: 0.0,\n",
       " 8: 0.0,\n",
       " 9: 0.1111111111111111}"
      ]
     },
     "execution_count": 45,
     "metadata": {},
     "output_type": "execute_result"
    }
   ],
   "source": [
    "nx.degree_centrality(G)\n",
    "# list(nx.degree_centrality(G).items())[0:5]"
   ]
  },
  {
   "cell_type": "markdown",
   "metadata": {},
   "source": [
    "There are other measures of centrality, namely betweenness centrality, flow centrality and load centrality. You can take a look at their definitions on the NetworkX API docs and their cited references. You can also define your own measures if those don't fit your needs, but that is an advanced topic that won't be dealt with here.\n",
    "The NetworkX API docs that document the centrality measures are here: http://networkx.readthedocs.io/en/networkx-1.11/reference/algorithms.centrality.html?highlight=centrality#module-networkx.algorithms.centrality"
   ]
  },
  {
   "cell_type": "markdown",
   "metadata": {
    "slideshow": {
     "slide_type": "slide"
    }
   },
   "source": [
    "Let's work on a read world network.\n",
    "\n",
    "Arxiv GR-QC (General Relativity and Quantum Cosmology) collaboration network is from the e-print arXiv and covers scientific collaborations between authors papers submitted to General Relativity and Quantum Cosmology category. If an author i co-authored a paper with author j, the graph contains a undirected edge from i to j. If the paper is co-authored by k authors this generates a completely connected (sub)graph on k nodes.\n",
    "\n",
    "source: http://snap.stanford.edu/data/index.html#canets"
   ]
  },
  {
   "cell_type": "code",
   "execution_count": 46,
   "metadata": {},
   "outputs": [
    {
     "data": {
      "image/png": "[encoded data removed]",
      "text/plain": [
       "<matplotlib.figure.Figure at 0x10eb11390>"
      ]
     },
     "metadata": {},
     "output_type": "display_data"
    }
   ],
   "source": [
    "nx.draw(nx.complete_graph(6))"
   ]
  },
  {
   "cell_type": "code",
   "execution_count": 47,
   "metadata": {},
   "outputs": [],
   "source": [
    "import csv\n",
    "authors_graph = nx.Graph()\n",
    "with open('CA-GrQc.txt', 'r') as f:\n",
    "    reader = csv.reader(f, delimiter='\\t')\n",
    "    for row in reader:\n",
    "        authors_graph.add_edge(row[0], row[1])"
   ]
  },
  {
   "cell_type": "code",
   "execution_count": 48,
   "metadata": {
    "slideshow": {
     "slide_type": "slide"
    }
   },
   "outputs": [
    {
     "name": "stdout",
     "output_type": "stream",
     "text": [
      "14496\n",
      "5242\n"
     ]
    }
   ],
   "source": [
    "print(authors_graph.number_of_edges())\n",
    "print(authors_graph.number_of_nodes())"
   ]
  },
  {
   "cell_type": "markdown",
   "metadata": {
    "slideshow": {
     "slide_type": "-"
    }
   },
   "source": [
    "Neighbors of a node."
   ]
  },
  {
   "cell_type": "code",
   "execution_count": 49,
   "metadata": {},
   "outputs": [
    {
     "name": "stdout",
     "output_type": "stream",
     "text": [
      "33\n",
      "[('22504', 33)]\n",
      "[('22504', 33)]\n"
     ]
    }
   ],
   "source": [
    "# Neighbors/ degree of node is one way of calculating the importance\n",
    "# of the node. Influential nodes.\n",
    "# print(list(authors_graph.neighbors('22504')))\n",
    "print(len(list(authors_graph.neighbors('22504'))))\n",
    "print(nx.degree(authors_graph,['22504']))\n",
    "print(authors_graph.degree(['22504']))"
   ]
  },
  {
   "cell_type": "markdown",
   "metadata": {
    "slideshow": {
     "slide_type": "slide"
    }
   },
   "source": [
    "### Exercise \n",
    "\n",
    "Create a list of (node, degree of node) tuples and find the node with maximum degree."
   ]
  },
  {
   "cell_type": "code",
   "execution_count": 50,
   "metadata": {
    "slideshow": {
     "slide_type": "slide"
    }
   },
   "outputs": [],
   "source": [
    "result = [(node, len(list(authors_graph.neighbors(node)))) for node in authors_graph.nodes()]"
   ]
  },
  {
   "cell_type": "code",
   "execution_count": 53,
   "metadata": {},
   "outputs": [
    {
     "data": {
      "text/plain": [
       "('21012', 81)"
      ]
     },
     "execution_count": 53,
     "metadata": {},
     "output_type": "execute_result"
    }
   ],
   "source": [
    "max(result, key=lambda node:node[1])"
   ]
  },
  {
   "cell_type": "code",
   "execution_count": 55,
   "metadata": {},
   "outputs": [
    {
     "data": {
      "text/plain": [
       "81"
      ]
     },
     "execution_count": 55,
     "metadata": {},
     "output_type": "execute_result"
    }
   ],
   "source": [
    "authors_graph.degree()['21012']\n",
    "# returns a dictionary of degree keyed by node"
   ]
  },
  {
   "cell_type": "code",
   "execution_count": null,
   "metadata": {
    "slideshow": {
     "slide_type": "slide"
    }
   },
   "outputs": [],
   "source": [
    "authors_graph.degree()"
   ]
  },
  {
   "cell_type": "code",
   "execution_count": 57,
   "metadata": {
    "slideshow": {
     "slide_type": "slide"
    }
   },
   "outputs": [
    {
     "data": {
      "text/plain": [
       "{'3466': 0.0015264262545315779,\n",
       " '937': 0.0009540164090822362,\n",
       " '5233': 0.00038160656363289447,\n",
       " '8579': 0.0009540164090822362,\n",
       " '10310': 0.002480442663613814,\n",
       " '15931': 0.0019080328181644724,\n",
       " '17038': 0.003243655790879603,\n",
       " '18720': 0.0005724098454493417,\n",
       " '19607': 0.0007632131272657889,\n",
       " '1854': 0.0015264262545315779,\n",
       " '4583': 0.0005724098454493417,\n",
       " '9572': 0.006487311581759206,\n",
       " '10841': 0.0013356229727151307,\n",
       " '13056': 0.0019080328181644724,\n",
       " '14982': 0.00038160656363289447,\n",
       " '16310': 0.003243655790879603,\n",
       " '19640': 0.004770082045411181,\n",
       " '23855': 0.0015264262545315779,\n",
       " '24372': 0.00019080328181644724,\n",
       " '24814': 0.0040068689181453915,\n",
       " '5052': 0.00553329517267697,\n",
       " '899': 0.0005724098454493417,\n",
       " '1796': 0.00038160656363289447,\n",
       " '2287': 0.0026712459454302615,\n",
       " '3096': 0.0022896393817973667,\n",
       " '3386': 0.0020988360999809196,\n",
       " '4472': 0.0007632131272657889,\n",
       " '5346': 0.003816065636328945,\n",
       " '5740': 0.00019080328181644724,\n",
       " '6094': 0.0007632131272657889,\n",
       " '6376': 0.00038160656363289447,\n",
       " '9124': 0.0045792787635947334,\n",
       " '10235': 0.002480442663613814,\n",
       " '10427': 0.0015264262545315779,\n",
       " '10597': 0.0011448196908986834,\n",
       " '15159': 0.0007632131272657889,\n",
       " '16148': 0.00343445907269605,\n",
       " '16741': 0.0013356229727151307,\n",
       " '18235': 0.00019080328181644724,\n",
       " '18549': 0.00019080328181644724,\n",
       " '19297': 0.0030528525090631558,\n",
       " '20511': 0.0061057050181263115,\n",
       " '20595': 0.001717229536348025,\n",
       " '20613': 0.0019080328181644724,\n",
       " '24371': 0.004197672199961839,\n",
       " '24559': 0.004388475481778287,\n",
       " '24731': 0.00019080328181644724,\n",
       " '25102': 0.0013356229727151307,\n",
       " '25271': 0.0030528525090631558,\n",
       " '25396': 0.004388475481778287,\n",
       " '1658': 0.0011448196908986834,\n",
       " '4822': 0.00038160656363289447,\n",
       " '6864': 0.00038160656363289447,\n",
       " '7689': 0.0061057050181263115,\n",
       " '7926': 0.001717229536348025,\n",
       " '10268': 0.0013356229727151307,\n",
       " '12971': 0.00019080328181644724,\n",
       " '18600': 0.0007632131272657889,\n",
       " '20421': 0.0005724098454493417,\n",
       " '20886': 0.00038160656363289447,\n",
       " '21048': 0.0011448196908986834,\n",
       " '22393': 0.0009540164090822362,\n",
       " '23186': 0.0011448196908986834,\n",
       " '23214': 0.0007632131272657889,\n",
       " '23298': 0.00038160656363289447,\n",
       " '23945': 0.0005724098454493417,\n",
       " '24939': 0.0005724098454493417,\n",
       " '339': 0.005724098454493417,\n",
       " '624': 0.003243655790879603,\n",
       " '3731': 0.001717229536348025,\n",
       " '4743': 0.004770082045411181,\n",
       " '5407': 0.001717229536348025,\n",
       " '6610': 0.012974623163518412,\n",
       " '6700': 0.005914901736309864,\n",
       " '8045': 0.0028620492272467086,\n",
       " '9099': 0.001717229536348025,\n",
       " '9639': 0.005914901736309864,\n",
       " '9785': 0.012974623163518412,\n",
       " '12141': 0.0009540164090822362,\n",
       " '15184': 0.002480442663613814,\n",
       " '15784': 0.0020988360999809196,\n",
       " '18719': 0.004197672199961839,\n",
       " '19870': 0.0040068689181453915,\n",
       " '20532': 0.003816065636328945,\n",
       " '22527': 0.004770082045411181,\n",
       " '23576': 0.0007632131272657889,\n",
       " '23577': 0.001717229536348025,\n",
       " '23649': 0.001717229536348025,\n",
       " '24199': 0.0011448196908986834,\n",
       " '24293': 0.003816065636328945,\n",
       " '25201': 0.002480442663613814,\n",
       " '10243': 0.0026712459454302615,\n",
       " '6774': 0.005151688609044075,\n",
       " '8049': 0.0015264262545315779,\n",
       " '8053': 0.0005724098454493417,\n",
       " '8517': 0.0013356229727151307,\n",
       " '11964': 0.002480442663613814,\n",
       " '15538': 0.0026712459454302615,\n",
       " '16694': 0.001717229536348025,\n",
       " '18648': 0.0007632131272657889,\n",
       " '19423': 0.012020606754436176,\n",
       " '21012': 0.015455065827132226,\n",
       " '22457': 0.005724098454493417,\n",
       " '22691': 0.014691852699866437,\n",
       " '23452': 0.004197672199961839,\n",
       " '16174': 0.0007632131272657889,\n",
       " '16470': 0.00019080328181644724,\n",
       " '17822': 0.00019080328181644724,\n",
       " '14265': 0.007059721427208548,\n",
       " '392': 0.00019080328181644724,\n",
       " '2485': 0.00038160656363289447,\n",
       " '2949': 0.001717229536348025,\n",
       " '3173': 0.00019080328181644724,\n",
       " '3441': 0.0011448196908986834,\n",
       " '3593': 0.0011448196908986834,\n",
       " '3853': 0.00019080328181644724,\n",
       " '3927': 0.00038160656363289447,\n",
       " '3937': 0.0007632131272657889,\n",
       " '3939': 0.00343445907269605,\n",
       " '5107': 0.00343445907269605,\n",
       " '5218': 0.00038160656363289447,\n",
       " '5230': 0.00038160656363289447,\n",
       " '6030': 0.0007632131272657889,\n",
       " '7350': 0.0036252623545124977,\n",
       " '7504': 0.0020988360999809196,\n",
       " '7601': 0.00038160656363289447,\n",
       " '8718': 0.00038160656363289447,\n",
       " '9522': 0.0009540164090822362,\n",
       " '11621': 0.0013356229727151307,\n",
       " '12498': 0.00038160656363289447,\n",
       " '12691': 0.00038160656363289447,\n",
       " '15251': 0.00019080328181644724,\n",
       " '16020': 0.0013356229727151307,\n",
       " '16261': 0.00019080328181644724,\n",
       " '17156': 0.0005724098454493417,\n",
       " '17626': 0.0030528525090631558,\n",
       " '18622': 0.00038160656363289447,\n",
       " '19059': 0.0011448196908986834,\n",
       " '19525': 0.0005724098454493417,\n",
       " '19738': 0.0009540164090822362,\n",
       " '20122': 0.0007632131272657889,\n",
       " '20432': 0.0009540164090822362,\n",
       " '21866': 0.00019080328181644724,\n",
       " '22074': 0.0019080328181644724,\n",
       " '23721': 0.0005724098454493417,\n",
       " '8916': 0.0020988360999809196,\n",
       " '13556': 0.003816065636328945,\n",
       " '14485': 0.0040068689181453915,\n",
       " '8612': 0.00343445907269605,\n",
       " '615': 0.00343445907269605,\n",
       " '743': 0.001717229536348025,\n",
       " '2076': 0.00038160656363289447,\n",
       " '4515': 0.0015264262545315779,\n",
       " '5773': 0.0007632131272657889,\n",
       " '9482': 0.0040068689181453915,\n",
       " '10822': 0.00038160656363289447,\n",
       " '11175': 0.001717229536348025,\n",
       " '11604': 0.0009540164090822362,\n",
       " '14004': 0.00038160656363289447,\n",
       " '15003': 0.011829803472619728,\n",
       " '15552': 0.00343445907269605,\n",
       " '15814': 0.0022896393817973667,\n",
       " '16083': 0.0019080328181644724,\n",
       " '17932': 0.0020988360999809196,\n",
       " '20001': 0.00019080328181644724,\n",
       " '20100': 0.0022896393817973667,\n",
       " '23481': 0.0009540164090822362,\n",
       " '16258': 0.002480442663613814,\n",
       " '1356': 0.0007632131272657889,\n",
       " '1727': 0.0013356229727151307,\n",
       " '2752': 0.0007632131272657889,\n",
       " '4125': 0.0009540164090822362,\n",
       " '6667': 0.0005724098454493417,\n",
       " '6825': 0.00038160656363289447,\n",
       " '10039': 0.0020988360999809196,\n",
       " '10351': 0.0005724098454493417,\n",
       " '11082': 0.0022896393817973667,\n",
       " '14123': 0.002480442663613814,\n",
       " '16676': 0.00038160656363289447,\n",
       " '21194': 0.00019080328181644724,\n",
       " '10912': 0.0005724098454493417,\n",
       " '14534': 0.0022896393817973667,\n",
       " '17268': 0.0007632131272657889,\n",
       " '19783': 0.00019080328181644724,\n",
       " '21705': 0.0005724098454493417,\n",
       " '22836': 0.0005724098454493417,\n",
       " '2710': 0.006296508299942759,\n",
       " '62': 0.0013356229727151307,\n",
       " '106': 0.0007632131272657889,\n",
       " '260': 0.0009540164090822362,\n",
       " '2959': 0.0019080328181644724,\n",
       " '3677': 0.0022896393817973667,\n",
       " '4708': 0.0005724098454493417,\n",
       " '5172': 0.0019080328181644724,\n",
       " '5541': 0.0011448196908986834,\n",
       " '5794': 0.0005724098454493417,\n",
       " '5807': 0.001717229536348025,\n",
       " '6575': 0.0020988360999809196,\n",
       " '8458': 0.00038160656363289447,\n",
       " '10601': 0.00038160656363289447,\n",
       " '11401': 0.00038160656363289447,\n",
       " '13026': 0.0007632131272657889,\n",
       " '13205': 0.0009540164090822362,\n",
       " '13659': 0.0015264262545315779,\n",
       " '13989': 0.0019080328181644724,\n",
       " '14007': 0.0007632131272657889,\n",
       " '14009': 0.0005724098454493417,\n",
       " '14599': 0.005724098454493417,\n",
       " '15301': 0.00038160656363289447,\n",
       " '18757': 0.0015264262545315779,\n",
       " '20934': 0.0009540164090822362,\n",
       " '21543': 0.0013356229727151307,\n",
       " '22184': 0.0013356229727151307,\n",
       " '23647': 0.0022896393817973667,\n",
       " '23708': 0.0030528525090631558,\n",
       " '25916': 0.0019080328181644724,\n",
       " '26023': 0.0005724098454493417,\n",
       " '26051': 0.00038160656363289447,\n",
       " '26100': 0.00038160656363289447,\n",
       " '214': 0.0013356229727151307,\n",
       " '5435': 0.0005724098454493417,\n",
       " '6512': 0.009349360809005915,\n",
       " '10590': 0.0013356229727151307,\n",
       " '23559': 0.0005724098454493417,\n",
       " '1765': 0.0015264262545315779,\n",
       " '3032': 0.0022896393817973667,\n",
       " '5302': 0.0020988360999809196,\n",
       " '7383': 0.002480442663613814,\n",
       " '7442': 0.00343445907269605,\n",
       " '7768': 0.0019080328181644724,\n",
       " '13276': 0.004960885327227628,\n",
       " '17266': 0.001717229536348025,\n",
       " '22415': 0.0022896393817973667,\n",
       " '10794': 0.00038160656363289447,\n",
       " '7050': 0.0011448196908986834,\n",
       " '25850': 0.00038160656363289447,\n",
       " '10113': 0.0022896393817973667,\n",
       " '10657': 0.00038160656363289447,\n",
       " '12130': 0.0020988360999809196,\n",
       " '17172': 0.0015264262545315779,\n",
       " '4846': 0.004197672199961839,\n",
       " '676': 0.004960885327227628,\n",
       " '824': 0.002480442663613814,\n",
       " '2133': 0.0022896393817973667,\n",
       " '2654': 0.007250524709024995,\n",
       " '4748': 0.0036252623545124977,\n",
       " '5672': 0.00038160656363289447,\n",
       " '10549': 0.0007632131272657889,\n",
       " '12928': 0.0020988360999809196,\n",
       " '13220': 0.0020988360999809196,\n",
       " '14419': 0.0026712459454302615,\n",
       " '17330': 0.003243655790879603,\n",
       " '17439': 0.00553329517267697,\n",
       " '18487': 0.005151688609044075,\n",
       " '20850': 0.0028620492272467086,\n",
       " '22779': 0.0020988360999809196,\n",
       " '23382': 0.005724098454493417,\n",
       " '24029': 0.0009540164090822362,\n",
       " '11785': 0.0040068689181453915,\n",
       " '45': 0.009349360809005915,\n",
       " '46': 0.008013737836290783,\n",
       " '570': 0.009158557527189467,\n",
       " '773': 0.010494180499904597,\n",
       " '1653': 0.010684983781721046,\n",
       " '2212': 0.00896775424537302,\n",
       " '2741': 0.01240221331806907,\n",
       " '2952': 0.008586147681740125,\n",
       " '3372': 0.009349360809005915,\n",
       " '4046': 0.00019080328181644724,\n",
       " '4164': 0.01030337721808815,\n",
       " '4511': 0.008586147681740125,\n",
       " '4513': 0.008204541118107232,\n",
       " '5262': 0.00019080328181644724,\n",
       " '6179': 0.008776950963556573,\n",
       " '6830': 0.008586147681740125,\n",
       " '7956': 0.010684983781721046,\n",
       " '8879': 0.008586147681740125,\n",
       " '11241': 0.009349360809005915,\n",
       " '11472': 0.008586147681740125,\n",
       " '12365': 0.014691852699866437,\n",
       " '12496': 0.009158557527189467,\n",
       " '12678': 0.0007632131272657889,\n",
       " '12781': 0.010875787063537493,\n",
       " '12851': 0.008586147681740125,\n",
       " '14540': 0.008776950963556573,\n",
       " '14807': 0.011448196908986834,\n",
       " '15659': 0.008586147681740125,\n",
       " '16159': 0.0007632131272657889,\n",
       " '17655': 0.012593016599885518,\n",
       " '17692': 0.008586147681740125,\n",
       " '18894': 0.00896775424537302,\n",
       " '19961': 0.008586147681740125,\n",
       " '20108': 0.008586147681740125,\n",
       " '20562': 0.008586147681740125,\n",
       " '20635': 0.00896775424537302,\n",
       " '21281': 0.01507345926349933,\n",
       " '21508': 0.012783819881701965,\n",
       " '21847': 0.009158557527189467,\n",
       " '22798': 0.0011448196908986834,\n",
       " '22887': 0.00896775424537302,\n",
       " '23293': 0.010112573936271704,\n",
       " '24955': 0.009730967372638809,\n",
       " '25346': 0.010684983781721046,\n",
       " '25758': 0.009730967372638809,\n",
       " '934': 0.0013356229727151307,\n",
       " '5579': 0.00019080328181644724,\n",
       " '9755': 0.005914901736309864,\n",
       " '10550': 0.0007632131272657889,\n",
       " '16032': 0.0030528525090631558,\n",
       " '17331': 0.00019080328181644724,\n",
       " '17603': 0.0007632131272657889,\n",
       " '20644': 0.0011448196908986834,\n",
       " '22497': 0.0007632131272657889,\n",
       " '23387': 0.00038160656363289447,\n",
       " '23907': 0.0009540164090822362,\n",
       " '24924': 0.004197672199961839,\n",
       " '25080': 0.0026712459454302615,\n",
       " '12422': 0.0005724098454493417,\n",
       " '1339': 0.0009540164090822362,\n",
       " '3164': 0.0011448196908986834,\n",
       " '15580': 0.0013356229727151307,\n",
       " '16393': 0.0007632131272657889,\n",
       " '20478': 0.004960885327227628,\n",
       " '20956': 0.00019080328181644724,\n",
       " '3890': 0.001717229536348025,\n",
       " '5621': 0.004197672199961839,\n",
       " '8824': 0.00038160656363289447,\n",
       " '11613': 0.0005724098454493417,\n",
       " '12306': 0.0005724098454493417,\n",
       " '12860': 0.0005724098454493417,\n",
       " '14547': 0.00019080328181644724,\n",
       " '18182': 0.0005724098454493417,\n",
       " '21707': 0.0005724098454493417,\n",
       " '24696': 0.003816065636328945,\n",
       " '2661': 0.0013356229727151307,\n",
       " '7899': 0.0009540164090822362,\n",
       " '8067': 0.0009540164090822362,\n",
       " '8208': 0.0005724098454493417,\n",
       " '11132': 0.0013356229727151307,\n",
       " '11402': 0.0007632131272657889,\n",
       " '12980': 0.0015264262545315779,\n",
       " '13364': 0.0015264262545315779,\n",
       " '14969': 0.0013356229727151307,\n",
       " '16389': 0.004960885327227628,\n",
       " '18109': 0.0009540164090822362,\n",
       " '18365': 0.0026712459454302615,\n",
       " '23038': 0.006296508299942759,\n",
       " '24845': 0.0015264262545315779,\n",
       " '25379': 0.00038160656363289447,\n",
       " '13740': 0.0020988360999809196,\n",
       " '4550': 0.0040068689181453915,\n",
       " '4702': 0.00038160656363289447,\n",
       " '7264': 0.0028620492272467086,\n",
       " '13096': 0.004197672199961839,\n",
       " '14128': 0.0007632131272657889,\n",
       " '19489': 0.0030528525090631558,\n",
       " '19527': 0.0007632131272657889,\n",
       " '19784': 0.00038160656363289447,\n",
       " '22476': 0.0013356229727151307,\n",
       " '25006': 0.004197672199961839,\n",
       " '25486': 0.0005724098454493417,\n",
       " '26': 0.0009540164090822362,\n",
       " '1407': 0.0011448196908986834,\n",
       " '1488': 0.005914901736309864,\n",
       " '8219': 0.00038160656363289447,\n",
       " '10762': 0.005724098454493417,\n",
       " '11801': 0.0020988360999809196,\n",
       " '12665': 0.00019080328181644724,\n",
       " '12688': 0.0005724098454493417,\n",
       " '13142': 0.005342491890860523,\n",
       " '15108': 0.004197672199961839,\n",
       " '15321': 0.0009540164090822362,\n",
       " '20647': 0.0005724098454493417,\n",
       " '20827': 0.0015264262545315779,\n",
       " '20879': 0.0028620492272467086,\n",
       " '23614': 0.004960885327227628,\n",
       " '3909': 0.003243655790879603,\n",
       " '17979': 0.0009540164090822362,\n",
       " '3872': 0.0015264262545315779,\n",
       " '5109': 0.00038160656363289447,\n",
       " '7533': 0.0015264262545315779,\n",
       " '12409': 0.0005724098454493417,\n",
       " '20101': 0.00019080328181644724,\n",
       " '23096': 0.00019080328181644724,\n",
       " '8862': 0.0013356229727151307,\n",
       " '78': 0.0007632131272657889,\n",
       " '4877': 0.0005724098454493417,\n",
       " '7459': 0.0022896393817973667,\n",
       " '8254': 0.002480442663613814,\n",
       " '12155': 0.0005724098454493417,\n",
       " '22598': 0.00343445907269605,\n",
       " '24932': 0.0009540164090822362,\n",
       " '888': 0.0011448196908986834,\n",
       " '1520': 0.0011448196908986834,\n",
       " '6468': 0.0011448196908986834,\n",
       " '6627': 0.0005724098454493417,\n",
       " '7007': 0.004770082045411181,\n",
       " '7712': 0.00343445907269605,\n",
       " '10711': 0.004388475481778287,\n",
       " '13614': 0.0030528525090631558,\n",
       " '14102': 0.0013356229727151307,\n",
       " '18517': 0.001717229536348025,\n",
       " '18676': 0.001717229536348025,\n",
       " '23351': 0.001717229536348025,\n",
       " '23689': 0.0005724098454493417,\n",
       " '24114': 0.00019080328181644724,\n",
       " '2465': 0.0007632131272657889,\n",
       " '2592': 0.00038160656363289447,\n",
       " '3977': 0.0013356229727151307,\n",
       " '5055': 0.00019080328181644724,\n",
       " '5993': 0.002480442663613814,\n",
       " '9265': 0.00019080328181644724,\n",
       " '12334': 0.002480442663613814,\n",
       " '19890': 0.0011448196908986834,\n",
       " '20341': 0.00019080328181644724,\n",
       " '21560': 0.00038160656363289447,\n",
       " '17309': 0.00019080328181644724,\n",
       " '24833': 0.003243655790879603,\n",
       " '543': 0.0045792787635947334,\n",
       " '1958': 0.0036252623545124977,\n",
       " '2193': 0.0011448196908986834,\n",
       " '3917': 0.0005724098454493417,\n",
       " '6858': 0.0005724098454493417,\n",
       " '8148': 0.0005724098454493417,\n",
       " '9092': 0.0005724098454493417,\n",
       " '12478': 0.0019080328181644724,\n",
       " '15366': 0.0005724098454493417,\n",
       " '18125': 0.0005724098454493417,\n",
       " '18398': 0.0005724098454493417,\n",
       " '19675': 0.0030528525090631558,\n",
       " '21806': 0.0011448196908986834,\n",
       " '23693': 0.001717229536348025,\n",
       " '26196': 0.0013356229727151307,\n",
       " '10115': 0.00038160656363289447,\n",
       " '10134': 0.00019080328181644724,\n",
       " '23916': 0.00019080328181644724,\n",
       " '7893': 0.001717229536348025,\n",
       " '593': 0.0030528525090631558,\n",
       " '5510': 0.0013356229727151307,\n",
       " '9360': 0.0019080328181644724,\n",
       " '12627': 0.0028620492272467086,\n",
       " '16778': 0.0015264262545315779,\n",
       " '18037': 0.0005724098454493417,\n",
       " '18051': 0.0019080328181644724,\n",
       " '13385': 0.00019080328181644724,\n",
       " '19578': 0.00019080328181644724,\n",
       " '12386': 0.0009540164090822362,\n",
       " '13333': 0.0009540164090822362,\n",
       " '23896': 0.0028620492272467086,\n",
       " '8978': 0.0007632131272657889,\n",
       " '9017': 0.005342491890860523,\n",
       " '15170': 0.0007632131272657889,\n",
       " '15455': 0.003243655790879603,\n",
       " '16589': 0.0009540164090822362,\n",
       " '2255': 0.0009540164090822362,\n",
       " '3056': 0.0005724098454493417,\n",
       " '6158': 0.0007632131272657889,\n",
       " '7307': 0.004960885327227628,\n",
       " '7324': 0.0007632131272657889,\n",
       " '8365': 0.0022896393817973667,\n",
       " '9023': 0.00019080328181644724,\n",
       " '11444': 0.0005724098454493417,\n",
       " '12324': 0.0009540164090822362,\n",
       " '12472': 0.0020988360999809196,\n",
       " '13831': 0.0030528525090631558,\n",
       " '14746': 0.004770082045411181,\n",
       " '16128': 0.0007632131272657889,\n",
       " '17075': 0.0036252623545124977,\n",
       " '18875': 0.0015264262545315779,\n",
       " '19900': 0.0007632131272657889,\n",
       " '20000': 0.0009540164090822362,\n",
       " '20806': 0.00038160656363289447,\n",
       " '21944': 0.0007632131272657889,\n",
       " '21968': 0.002480442663613814,\n",
       " '23302': 0.0005724098454493417,\n",
       " '23665': 0.0022896393817973667,\n",
       " '23758': 0.00038160656363289447,\n",
       " '24722': 0.0007632131272657889,\n",
       " '12045': 0.00019080328181644724,\n",
       " '12287': 0.0005724098454493417,\n",
       " '14181': 0.0019080328181644724,\n",
       " '20257': 0.0005724098454493417,\n",
       " '21613': 0.0005724098454493417,\n",
       " '7510': 0.00038160656363289447,\n",
       " '197': 0.00038160656363289447,\n",
       " '8851': 0.0020988360999809196,\n",
       " '1343': 0.0007632131272657889,\n",
       " '2991': 0.00038160656363289447,\n",
       " '8299': 0.00019080328181644724,\n",
       " '15416': 0.00038160656363289447,\n",
       " '18088': 0.0015264262545315779,\n",
       " '25286': 0.002480442663613814,\n",
       " '1254': 0.0005724098454493417,\n",
       " '3420': 0.0005724098454493417,\n",
       " '10130': 0.0028620492272467086,\n",
       " '2250': 0.003243655790879603,\n",
       " '3243': 0.0005724098454493417,\n",
       " '7717': 0.003243655790879603,\n",
       " '7985': 0.0028620492272467086,\n",
       " '11015': 0.004197672199961839,\n",
       " '12085': 0.001717229536348025,\n",
       " '13714': 0.003243655790879603,\n",
       " '14767': 0.003243655790879603,\n",
       " '16056': 0.0022896393817973667,\n",
       " '16994': 0.003816065636328945,\n",
       " '17414': 0.001717229536348025,\n",
       " '18971': 0.003243655790879603,\n",
       " '19216': 0.003243655790879603,\n",
       " '20534': 0.003243655790879603,\n",
       " '21776': 0.0009540164090822362,\n",
       " '21860': 0.0015264262545315779,\n",
       " '25205': 0.003243655790879603,\n",
       " '178': 0.0015264262545315779,\n",
       " '1248': 0.0005724098454493417,\n",
       " '1403': 0.0013356229727151307,\n",
       " '2368': 0.001717229536348025,\n",
       " '2420': 0.0009540164090822362,\n",
       " '16210': 0.002480442663613814,\n",
       " '18681': 0.0005724098454493417,\n",
       " '20641': 0.00038160656363289447,\n",
       " '24762': 0.0007632131272657889,\n",
       " '2307': 0.00038160656363289447,\n",
       " '6934': 0.0026712459454302615,\n",
       " '22423': 0.0030528525090631558,\n",
       " '231': 0.005724098454493417,\n",
       " '345': 0.002480442663613814,\n",
       " '1186': 0.003243655790879603,\n",
       " '1234': 0.0013356229727151307,\n",
       " '1841': 0.0011448196908986834,\n",
       " '1997': 0.0015264262545315779,\n",
       " '2404': 0.0015264262545315779,\n",
       " '2450': 0.00038160656363289447,\n",
       " '2980': 0.0045792787635947334,\n",
       " '3409': 0.0030528525090631558,\n",
       " '5134': 0.0013356229727151307,\n",
       " '5578': 0.0013356229727151307,\n",
       " '8503': 0.0026712459454302615,\n",
       " '9341': 0.0007632131272657889,\n",
       " '9889': 0.003816065636328945,\n",
       " '12503': 0.001717229536348025,\n",
       " '13060': 0.001717229536348025,\n",
       " '13597': 0.003243655790879603,\n",
       " '16611': 0.0011448196908986834,\n",
       " '18208': 0.0045792787635947334,\n",
       " '18543': 0.0015264262545315779,\n",
       " '18866': 0.008395344399923678,\n",
       " '22421': 0.0011448196908986834,\n",
       " '22937': 0.00343445907269605,\n",
       " '23363': 0.0019080328181644724,\n",
       " '23628': 0.0011448196908986834,\n",
       " '25053': 0.001717229536348025,\n",
       " '25251': 0.00038160656363289447,\n",
       " '2982': 0.0005724098454493417,\n",
       " '4036': 0.0005724098454493417,\n",
       " '4115': 0.0009540164090822362,\n",
       " '12938': 0.0015264262545315779,\n",
       " '13032': 0.00038160656363289447,\n",
       " '19215': 0.00038160656363289447,\n",
       " '21432': 0.00343445907269605,\n",
       " '22726': 0.0005724098454493417,\n",
       " '22834': 0.0011448196908986834,\n",
       " '22966': 0.0007632131272657889,\n",
       " '23511': 0.0007632131272657889,\n",
       " '25528': 0.0005724098454493417,\n",
       " '25836': 0.0015264262545315779,\n",
       " '14376': 0.00019080328181644724,\n",
       " '8710': 0.00038160656363289447,\n",
       " '22483': 0.0015264262545315779,\n",
       " '1375': 0.00038160656363289447,\n",
       " '2846': 0.0030528525090631558,\n",
       " '5555': 0.0015264262545315779,\n",
       " '5564': 0.0019080328181644724,\n",
       " '5787': 0.0015264262545315779,\n",
       " '9721': 0.00038160656363289447,\n",
       " '10158': 0.00019080328181644724,\n",
       " '10942': 0.0020988360999809196,\n",
       " '13600': 0.00038160656363289447,\n",
       " '13929': 0.008586147681740125,\n",
       " '21075': 0.0030528525090631558,\n",
       " '21316': 0.00019080328181644724,\n",
       " '22900': 0.00019080328181644724,\n",
       " '23637': 0.0019080328181644724,\n",
       " '23770': 0.0019080328181644724,\n",
       " '25143': 0.00038160656363289447,\n",
       " '25601': 0.00019080328181644724,\n",
       " '25980': 0.00038160656363289447,\n",
       " '17394': 0.00019080328181644724,\n",
       " '18924': 0.0015264262545315779,\n",
       " '3113': 0.003243655790879603,\n",
       " '8312': 0.0013356229727151307,\n",
       " '10765': 0.0011448196908986834,\n",
       " '17538': 0.0011448196908986834,\n",
       " '25978': 0.0011448196908986834,\n",
       " '1172': 0.0015264262545315779,\n",
       " '5674': 0.00019080328181644724,\n",
       " '26194': 0.00038160656363289447,\n",
       " '375': 0.00019080328181644724,\n",
       " '1838': 0.00038160656363289447,\n",
       " '12733': 0.0019080328181644724,\n",
       " '7188': 0.0022896393817973667,\n",
       " '896': 0.0009540164090822362,\n",
       " '921': 0.00038160656363289447,\n",
       " '1508': 0.0005724098454493417,\n",
       " '6815': 0.0005724098454493417,\n",
       " '7209': 0.0005724098454493417,\n",
       " '8279': 0.0009540164090822362,\n",
       " '13008': 0.0036252623545124977,\n",
       " '18605': 0.00019080328181644724,\n",
       " '21158': 0.0005724098454493417,\n",
       " '4632': 0.0022896393817973667,\n",
       " '7844': 0.002480442663613814,\n",
       " '11053': 0.0011448196908986834,\n",
       " '11148': 0.0019080328181644724,\n",
       " '13411': 0.0015264262545315779,\n",
       " '14512': 0.0026712459454302615,\n",
       " '16594': 0.0036252623545124977,\n",
       " '16722': 0.0013356229727151307,\n",
       " '16726': 0.0005724098454493417,\n",
       " '16876': 0.0013356229727151307,\n",
       " '19954': 0.0011448196908986834,\n",
       " '19992': 0.0028620492272467086,\n",
       " '20391': 0.0013356229727151307,\n",
       " '20774': 0.0028620492272467086,\n",
       " '23403': 0.0020988360999809196,\n",
       " '4870': 0.0005724098454493417,\n",
       " '5175': 0.0011448196908986834,\n",
       " '8282': 0.0005724098454493417,\n",
       " '22046': 0.0020988360999809196,\n",
       " '2449': 0.006487311581759206,\n",
       " '4766': 0.00038160656363289447,\n",
       " '3561': 0.001717229536348025,\n",
       " '4868': 0.0011448196908986834,\n",
       " '8352': 0.00038160656363289447,\n",
       " '10456': 0.001717229536348025,\n",
       " '15365': 0.0009540164090822362,\n",
       " '16931': 0.0015264262545315779,\n",
       " '8157': 0.00019080328181644724,\n",
       " '2120': 0.00019080328181644724,\n",
       " '7713': 0.00019080328181644724,\n",
       " '19052': 0.00019080328181644724,\n",
       " '8302': 0.00019080328181644724,\n",
       " '16484': 0.00019080328181644724,\n",
       " '17778': 0.0009540164090822362,\n",
       " '2556': 0.0020988360999809196,\n",
       " '19159': 0.0011448196908986834,\n",
       " '21699': 0.0005724098454493417,\n",
       " '25382': 0.0005724098454493417,\n",
       " '8701': 0.0019080328181644724,\n",
       " '523': 0.00038160656363289447,\n",
       " '5464': 0.0011448196908986834,\n",
       " '7774': 0.0007632131272657889,\n",
       " '17379': 0.0026712459454302615,\n",
       " '18008': 0.0007632131272657889,\n",
       " '23385': 0.00019080328181644724,\n",
       " '25868': 0.00019080328181644724,\n",
       " '26170': 0.00038160656363289447,\n",
       " '1310': 0.0020988360999809196,\n",
       " '2922': 0.0005724098454493417,\n",
       " '3651': 0.0066781148635756534,\n",
       " '6891': 0.0013356229727151307,\n",
       " '10162': 0.00038160656363289447,\n",
       " '10620': 0.0005724098454493417,\n",
       " '11112': 0.0007632131272657889,\n",
       " '13174': 0.0007632131272657889,\n",
       " '14864': 0.0019080328181644724,\n",
       " '17536': 0.0019080328181644724,\n",
       " '23153': 0.00038160656363289447,\n",
       " '24340': 0.0005724098454493417,\n",
       " '11102': 0.0009540164090822362,\n",
       " '18592': 0.0009540164090822362,\n",
       " '22765': 0.00038160656363289447,\n",
       " '1896': 0.0015264262545315779,\n",
       " '6838': 0.0013356229727151307,\n",
       " '25220': 0.00038160656363289447,\n",
       " '4180': 0.0011448196908986834,\n",
       " '10055': 0.003243655790879603,\n",
       " '12637': 0.0005724098454493417,\n",
       " '1832': 0.0005724098454493417,\n",
       " '4383': 0.00019080328181644724,\n",
       " '7014': 0.00038160656363289447,\n",
       " '9397': 0.004388475481778287,\n",
       " '14344': 0.0005724098454493417,\n",
       " '14385': 0.0005724098454493417,\n",
       " '21379': 0.004197672199961839,\n",
       " '24163': 0.00038160656363289447,\n",
       " '4416': 0.0036252623545124977,\n",
       " '9241': 0.002480442663613814,\n",
       " '2620': 0.0015264262545315779,\n",
       " '3679': 0.0005724098454493417,\n",
       " '4364': 0.006296508299942759,\n",
       " '5712': 0.0026712459454302615,\n",
       " '13955': 0.0022896393817973667,\n",
       " '14003': 0.0011448196908986834,\n",
       " '15235': 0.0015264262545315779,\n",
       " '18227': 0.0007632131272657889,\n",
       " '19445': 0.00019080328181644724,\n",
       " '19495': 0.00019080328181644724,\n",
       " '20168': 0.0019080328181644724,\n",
       " '23967': 0.0028620492272467086,\n",
       " '1116': 0.001717229536348025,\n",
       " '15399': 0.0005724098454493417,\n",
       " '18222': 0.0007632131272657889,\n",
       " '21287': 0.0015264262545315779,\n",
       " '23227': 0.00019080328181644724,\n",
       " '4624': 0.0022896393817973667,\n",
       " '5355': 0.00038160656363289447,\n",
       " '6863': 0.00038160656363289447,\n",
       " '12606': 0.0013356229727151307,\n",
       " '12968': 0.0019080328181644724,\n",
       " '15770': 0.0009540164090822362,\n",
       " '21322': 0.00019080328181644724,\n",
       " '22265': 0.0020988360999809196,\n",
       " '22336': 0.0020988360999809196,\n",
       " '23099': 0.00038160656363289447,\n",
       " '23880': 0.0013356229727151307,\n",
       " '25111': 0.0009540164090822362,\n",
       " '4319': 0.0005724098454493417,\n",
       " '12758': 0.0005724098454493417,\n",
       " '22023': 0.00019080328181644724,\n",
       " '14337': 0.001717229536348025,\n",
       " '5849': 0.0005724098454493417,\n",
       " '10763': 0.00019080328181644724,\n",
       " '11121': 0.00019080328181644724,\n",
       " '11194': 0.0011448196908986834,\n",
       " '15799': 0.001717229536348025,\n",
       " '16511': 0.0007632131272657889,\n",
       " '16575': 0.0011448196908986834,\n",
       " '16945': 0.00019080328181644724,\n",
       " '21157': 0.00019080328181644724,\n",
       " '2326': 0.0013356229727151307,\n",
       " '10253': 0.00038160656363289447,\n",
       " '13190': 0.0020988360999809196,\n",
       " '14325': 0.00038160656363289447,\n",
       " '19048': 0.0022896393817973667,\n",
       " '20182': 0.0013356229727151307,\n",
       " '3595': 0.0007632131272657889,\n",
       " '18174': 0.0007632131272657889,\n",
       " '17850': 0.00019080328181644724,\n",
       " '20620': 0.00019080328181644724,\n",
       " '12380': 0.0005724098454493417,\n",
       " '3197': 0.0005724098454493417,\n",
       " '6160': 0.0005724098454493417,\n",
       " '8589': 0.0013356229727151307,\n",
       " '9417': 0.00038160656363289447,\n",
       " '9829': 0.0028620492272467086,\n",
       " '14638': 0.0009540164090822362,\n",
       " '14924': 0.004388475481778287,\n",
       " '15972': 0.00019080328181644724,\n",
       " '17228': 0.0022896393817973667,\n",
       " '18940': 0.0028620492272467086,\n",
       " '19090': 0.0005724098454493417,\n",
       " '19475': 0.0005724098454493417,\n",
       " '20207': 0.0019080328181644724,\n",
       " '22644': 0.0022896393817973667,\n",
       " '22790': 0.0015264262545315779,\n",
       " '24001': 0.0011448196908986834,\n",
       " '25228': 0.0009540164090822362,\n",
       " '9710': 0.003816065636328945,\n",
       " '3345': 0.0028620492272467086,\n",
       " '3430': 0.0009540164090822362,\n",
       " '5266': 0.0011448196908986834,\n",
       " '5995': 0.0005724098454493417,\n",
       " '7999': 0.00019080328181644724,\n",
       " '8047': 0.00038160656363289447,\n",
       " '8178': 0.00038160656363289447,\n",
       " '8868': 0.00019080328181644724,\n",
       " '10824': 0.00038160656363289447,\n",
       " '15144': 0.002480442663613814,\n",
       " '19107': 0.0011448196908986834,\n",
       " '19806': 0.00038160656363289447,\n",
       " '22439': 0.0005724098454493417,\n",
       " '23304': 0.00019080328181644724,\n",
       " '24431': 0.0015264262545315779,\n",
       " '11077': 0.0026712459454302615,\n",
       " '10211': 0.0019080328181644724,\n",
       " '14972': 0.0005724098454493417,\n",
       " '15300': 0.0036252623545124977,\n",
       " '17158': 0.0005724098454493417,\n",
       " '17162': 0.00038160656363289447,\n",
       " '17403': 0.0007632131272657889,\n",
       " '20149': 0.00038160656363289447,\n",
       " '20519': 0.0005724098454493417,\n",
       " '21389': 0.0009540164090822362,\n",
       " '22951': 0.0015264262545315779,\n",
       " '23912': 0.0005724098454493417,\n",
       " '23918': 0.0007632131272657889,\n",
       " '25589': 0.0005724098454493417,\n",
       " '6895': 0.00019080328181644724,\n",
       " '3076': 0.0007632131272657889,\n",
       " '7444': 0.005342491890860523,\n",
       " '8972': 0.0007632131272657889,\n",
       " '17308': 0.00038160656363289447,\n",
       " '20574': 0.007059721427208548,\n",
       " '21629': 0.0013356229727151307,\n",
       " '245': 0.00038160656363289447,\n",
       " '4983': 0.00038160656363289447,\n",
       " '13480': 0.0011448196908986834,\n",
       " '14562': 0.00019080328181644724,\n",
       " '15912': 0.00038160656363289447,\n",
       " '16976': 0.0020988360999809196,\n",
       " '19974': 0.0007632131272657889,\n",
       " '22245': 0.00019080328181644724,\n",
       " '414': 0.00019080328181644724,\n",
       " '8708': 0.00019080328181644724,\n",
       " '23776': 0.00019080328181644724,\n",
       " '1044': 0.0015264262545315779,\n",
       " '4975': 0.0009540164090822362,\n",
       " '5809': 0.00038160656363289447,\n",
       " '12587': 0.0028620492272467086,\n",
       " '16123': 0.0009540164090822362,\n",
       " '20303': 0.0019080328181644724,\n",
       " '4451': 0.00038160656363289447,\n",
       " '9983': 0.00019080328181644724,\n",
       " '15205': 0.0007632131272657889,\n",
       " '15666': 0.0005724098454493417,\n",
       " '15667': 0.0005724098454493417,\n",
       " '19093': 0.0009540164090822362,\n",
       " '21031': 0.00038160656363289447,\n",
       " '24330': 0.003816065636328945,\n",
       " '5840': 0.00038160656363289447,\n",
       " '6732': 0.0013356229727151307,\n",
       " '8614': 0.00019080328181644724,\n",
       " '13847': 0.0013356229727151307,\n",
       " '15081': 0.0007632131272657889,\n",
       " '22609': 0.0005724098454493417,\n",
       " '3310': 0.0030528525090631558,\n",
       " '5143': 0.00038160656363289447,\n",
       " '9735': 0.0007632131272657889,\n",
       " '17396': 0.00019080328181644724,\n",
       " '26138': 0.00038160656363289447,\n",
       " '4700': 0.00038160656363289447,\n",
       " '5606': 0.00038160656363289447,\n",
       " '1386': 0.0005724098454493417,\n",
       " '1738': 0.0005724098454493417,\n",
       " '2566': 0.0005724098454493417,\n",
       " '2720': 0.0005724098454493417,\n",
       " '5634': 0.00038160656363289447,\n",
       " '9870': 0.0005724098454493417,\n",
       " '16779': 0.00038160656363289447,\n",
       " '24475': 0.0005724098454493417,\n",
       " '25931': 0.0019080328181644724,\n",
       " '1817': 0.0009540164090822362,\n",
       " '3725': 0.0007632131272657889,\n",
       " '5366': 0.00038160656363289447,\n",
       " '15911': 0.0007632131272657889,\n",
       " '9800': 0.001717229536348025,\n",
       " '26141': 0.0007632131272657889,\n",
       " '18001': 0.00038160656363289447,\n",
       " '22177': 0.0040068689181453915,\n",
       " '25480': 0.0013356229727151307,\n",
       " '1425': 0.001717229536348025,\n",
       " '2501': 0.0019080328181644724,\n",
       " '2823': 0.0007632131272657889,\n",
       " '5136': 0.00038160656363289447,\n",
       " '7105': 0.0009540164090822362,\n",
       " '7317': 0.0013356229727151307,\n",
       " '9127': 0.0007632131272657889,\n",
       " '14615': 0.0019080328181644724,\n",
       " '17089': 0.0011448196908986834,\n",
       " '19454': 0.0005724098454493417,\n",
       " '22758': 0.0020988360999809196,\n",
       " '23841': 0.0019080328181644724,\n",
       " '3207': 0.00019080328181644724,\n",
       " '7125': 0.0019080328181644724,\n",
       " '20683': 0.0013356229727151307,\n",
       " '25419': 0.0009540164090822362,\n",
       " '2591': 0.0011448196908986834,\n",
       " '8932': 0.00019080328181644724,\n",
       " '9188': 0.0005724098454493417,\n",
       " '9773': 0.00038160656363289447,\n",
       " '13713': 0.00038160656363289447,\n",
       " '19179': 0.0013356229727151307,\n",
       " '14818': 0.0009540164090822362,\n",
       " '26190': 0.0009540164090822362,\n",
       " '3839': 0.0028620492272467086,\n",
       " '13615': 0.0005724098454493417,\n",
       " '16674': 0.002480442663613814,\n",
       " '7042': 0.0007632131272657889,\n",
       " '9269': 0.00038160656363289447,\n",
       " '11661': 0.0015264262545315779,\n",
       " '21994': 0.003243655790879603,\n",
       " '9943': 0.0020988360999809196,\n",
       " '10096': 0.00343445907269605,\n",
       " '15614': 0.0013356229727151307,\n",
       " '16368': 0.0020988360999809196,\n",
       " '17285': 0.0011448196908986834,\n",
       " '21407': 0.0011448196908986834,\n",
       " '8715': 0.0007632131272657889,\n",
       " '21142': 0.00038160656363289447,\n",
       " '21167': 0.00038160656363289447,\n",
       " '13621': 0.00019080328181644724,\n",
       " '25388': 0.00019080328181644724,\n",
       " '284': 0.00019080328181644724,\n",
       " '6427': 0.0011448196908986834,\n",
       " '16835': 0.00038160656363289447,\n",
       " '18677': 0.00038160656363289447,\n",
       " '21696': 0.00038160656363289447,\n",
       " '25854': 0.00038160656363289447,\n",
       " '25940': 0.00038160656363289447,\n",
       " '9485': 0.00038160656363289447,\n",
       " '10435': 0.0005724098454493417,\n",
       " '14698': 0.00019080328181644724,\n",
       " '21823': 0.0005724098454493417,\n",
       " '811': 0.001717229536348025,\n",
       " '9964': 0.0007632131272657889,\n",
       " '11919': 0.0007632131272657889,\n",
       " '15123': 0.0005724098454493417,\n",
       " '17021': 0.00038160656363289447,\n",
       " '19517': 0.0015264262545315779,\n",
       " '22989': 0.0009540164090822362,\n",
       " '23485': 0.0011448196908986834,\n",
       " '8069': 0.00038160656363289447,\n",
       " '2127': 0.00019080328181644724,\n",
       " '11712': 0.0022896393817973667,\n",
       " '10871': 0.0026712459454302615,\n",
       " '15829': 0.0007632131272657889,\n",
       " '16106': 0.0007632131272657889,\n",
       " '17207': 0.0019080328181644724,\n",
       " '17670': 0.0007632131272657889,\n",
       " '18286': 0.0013356229727151307,\n",
       " '18612': 0.0007632131272657889,\n",
       " '19234': 0.00019080328181644724,\n",
       " '19724': 0.0005724098454493417,\n",
       " '22876': 0.002480442663613814,\n",
       " '3412': 0.0005724098454493417,\n",
       " '894': 0.0009540164090822362,\n",
       " '4814': 0.0019080328181644724,\n",
       " '5441': 0.0015264262545315779,\n",
       " '5717': 0.001717229536348025,\n",
       " '5934': 0.003243655790879603,\n",
       " '9075': 0.00038160656363289447,\n",
       " '10623': 0.0011448196908986834,\n",
       " '11223': 0.0007632131272657889,\n",
       " '11491': 0.0005724098454493417,\n",
       " '12659': 0.001717229536348025,\n",
       " '14351': 0.001717229536348025,\n",
       " '19807': 0.00038160656363289447,\n",
       " '21324': 0.0009540164090822362,\n",
       " '21665': 0.0007632131272657889,\n",
       " '22734': 0.0005724098454493417,\n",
       " '22778': 0.0019080328181644724,\n",
       " '23246': 0.0011448196908986834,\n",
       " '25698': 0.002480442663613814,\n",
       " '7615': 0.0013356229727151307,\n",
       " '12806': 0.0011448196908986834,\n",
       " '1620': 0.0013356229727151307,\n",
       " '3922': 0.0019080328181644724,\n",
       " '9133': 0.00019080328181644724,\n",
       " '9895': 0.00019080328181644724,\n",
       " '9907': 0.0019080328181644724,\n",
       " '11791': 0.0005724098454493417,\n",
       " '18457': 0.00019080328181644724,\n",
       " '19131': 0.00019080328181644724,\n",
       " '19997': 0.00019080328181644724,\n",
       " '21491': 0.003816065636328945,\n",
       " '22426': 0.0011448196908986834,\n",
       " '22791': 0.00038160656363289447,\n",
       " '25158': 0.0005724098454493417,\n",
       " '25316': 0.0011448196908986834,\n",
       " '352': 0.0005724098454493417,\n",
       " '3996': 0.0009540164090822362,\n",
       " '10555': 0.0011448196908986834,\n",
       " '15850': 0.0009540164090822362,\n",
       " '19101': 0.0009540164090822362,\n",
       " '20533': 0.0005724098454493417,\n",
       " '21943': 0.002480442663613814,\n",
       " '22603': 0.00038160656363289447,\n",
       " '23513': 0.0007632131272657889,\n",
       " '25034': 0.0036252623545124977,\n",
       " '1280': 0.0005724098454493417,\n",
       " '5851': 0.0005724098454493417,\n",
       " '11591': 0.0015264262545315779,\n",
       " '13520': 0.0030528525090631558,\n",
       " '16921': 0.0022896393817973667,\n",
       " '21646': 0.001717229536348025,\n",
       " '17559': 0.002480442663613814,\n",
       " '1674': 0.0011448196908986834,\n",
       " '3323': 0.0009540164090822362,\n",
       " '8680': 0.0009540164090822362,\n",
       " '9184': 0.0040068689181453915,\n",
       " '13813': 0.002480442663613814,\n",
       " '19204': 0.0020988360999809196,\n",
       " '19206': 0.0005724098454493417,\n",
       " '19657': 0.0019080328181644724,\n",
       " '20373': 0.004770082045411181,\n",
       " '23204': 0.0022896393817973667,\n",
       " '409': 0.0005724098454493417,\n",
       " '2474': 0.0005724098454493417,\n",
       " '4241': 0.00343445907269605,\n",
       " '6746': 0.0005724098454493417,\n",
       " '10476': 0.0007632131272657889,\n",
       " '16568': 0.0007632131272657889,\n",
       " '21771': 0.0013356229727151307,\n",
       " '24620': 0.0005724098454493417,\n",
       " '2081': 0.00019080328181644724,\n",
       " '2664': 0.00019080328181644724,\n",
       " '12212': 0.0028620492272467086,\n",
       " '13528': 0.00038160656363289447,\n",
       " '14628': 0.00038160656363289447,\n",
       " '22574': 0.001717229536348025,\n",
       " ...}"
      ]
     },
     "execution_count": 57,
     "metadata": {},
     "output_type": "execute_result"
    }
   ],
   "source": [
    "nx.degree_centrality(authors_graph)"
   ]
  },
  {
   "cell_type": "markdown",
   "metadata": {
    "slideshow": {
     "slide_type": "slide"
    }
   },
   "source": [
    "### Exercise\n",
    "\n",
    "Plot degree centrality of authors_graph.\n",
    "\n",
    "(count vs degree centrality)"
   ]
  },
  {
   "cell_type": "code",
   "execution_count": 60,
   "metadata": {
    "slideshow": {
     "slide_type": "slide"
    }
   },
   "outputs": [
    {
     "data": {
      "image/png": "[encoded data removed]",
      "text/plain": [
       "<matplotlib.figure.Figure at 0x10e920048>"
      ]
     },
     "metadata": {},
     "output_type": "display_data"
    },
    {
     "data": {
      "image/png": "[encoded data removed]",
      "text/plain": [
       "<matplotlib.figure.Figure at 0x10e7adc50>"
      ]
     },
     "metadata": {},
     "output_type": "display_data"
    },
    {
     "data": {
      "image/png": "[encoded data removed]",
      "text/plain": [
       "<matplotlib.figure.Figure at 0x10fd94358>"
      ]
     },
     "metadata": {},
     "output_type": "display_data"
    }
   ],
   "source": [
    "plt.hist(list(nx.degree_centrality(authors_graph).values()))\n",
    "plt.show()\n",
    "\n",
    "G = nx.erdos_renyi_graph(1000, 0.3, seed=1)\n",
    "plt.hist(list(nx.degree_centrality(G).values()))\n",
    "plt.show()\n",
    "\n",
    "H = nx.barabasi_albert_graph(1000, 30, 0.3)\n",
    "# K = nx.powerlaw_cluster_graph(1000, 30, 0.3)\n",
    "\n",
    "plt.hist(list(nx.degree_centrality(H).values()))\n",
    "plt.show()\n",
    "\n",
    "# plt.hist(list(nx.degree_centrality(K).values()))\n",
    "# plt.show()"
   ]
  },
  {
   "cell_type": "markdown",
   "metadata": {},
   "source": [
    "#### Let's have a look at Connected Components of a graph.\n",
    "\n",
    "In graph theory, a connected component (or just component) of an undirected graph is a subgraph in which any two vertices are connected to each other by paths, and which is connected to no additional vertices in the supergraph."
   ]
  },
  {
   "cell_type": "code",
   "execution_count": 61,
   "metadata": {},
   "outputs": [
    {
     "data": {
      "image/png": "[encoded data removed]",
      "text/plain": [
       "<matplotlib.figure.Figure at 0x10f06fef0>"
      ]
     },
     "metadata": {},
     "output_type": "display_data"
    }
   ],
   "source": [
    "G = nx.erdos_renyi_graph(10, 0.15, seed=1)\n",
    "nx.draw(G, with_labels=True)"
   ]
  },
  {
   "cell_type": "code",
   "execution_count": 62,
   "metadata": {
    "slideshow": {
     "slide_type": "slide"
    }
   },
   "outputs": [
    {
     "name": "stdout",
     "output_type": "stream",
     "text": [
      "[4158, 14, 12, 10, 9, 9, 8, 8, 8, 8, 8, 8, 7, 7, 7, 7, 7, 7, 7, 7, 6, 6, 6, 6, 6, 6, 6, 6, 6, 6, 6, 6, 5, 5, 5, 5, 5, 5, 5, 5, 5, 5, 5, 5, 5, 5, 5, 5, 5, 4, 4, 4, 4, 4, 4, 4, 4, 4, 4, 4, 4, 4, 4, 4, 4, 4, 4, 4, 4, 4, 4, 4, 4, 4, 4, 4, 4, 4, 4, 3, 3, 3, 3, 3, 3, 3, 3, 3, 3, 3, 3, 3, 3, 3, 3, 3, 3, 3, 3, 3, 3, 3, 3, 3, 3, 3, 3, 3, 3, 3, 3, 3, 3, 3, 3, 3, 3, 3, 3, 3, 3, 3, 3, 3, 3, 3, 3, 3, 3, 3, 3, 3, 3, 3, 3, 3, 3, 3, 3, 3, 3, 3, 3, 3, 3, 3, 3, 3, 3, 3, 3, 3, 3, 3, 3, 3, 3, 3, 3, 3, 3, 3, 3, 3, 3, 3, 3, 3, 3, 3, 3, 3, 3, 3, 3, 3, 3, 2, 2, 2, 2, 2, 2, 2, 2, 2, 2, 2, 2, 2, 2, 2, 2, 2, 2, 2, 2, 2, 2, 2, 2, 2, 2, 2, 2, 2, 2, 2, 2, 2, 2, 2, 2, 2, 2, 2, 2, 2, 2, 2, 2, 2, 2, 2, 2, 2, 2, 2, 2, 2, 2, 2, 2, 2, 2, 2, 2, 2, 2, 2, 2, 2, 2, 2, 2, 2, 2, 2, 2, 2, 2, 2, 2, 2, 2, 2, 2, 2, 2, 2, 2, 2, 2, 2, 2, 2, 2, 2, 2, 2, 2, 2, 2, 2, 2, 2, 2, 2, 2, 2, 2, 2, 2, 2, 2, 2, 2, 2, 2, 2, 2, 2, 2, 2, 2, 2, 2, 2, 2, 2, 2, 2, 2, 2, 2, 2, 2, 2, 2, 2, 2, 2, 2, 2, 2, 2, 2, 2, 2, 2, 2, 2, 2, 2, 2, 2, 2, 2, 2, 2, 2, 2, 2, 2, 2, 2, 2, 2, 2, 2, 2, 2, 2, 2, 2, 2, 2, 2, 2, 2, 2, 2, 2, 2, 1]\n"
     ]
    }
   ],
   "source": [
    "print([len(c) for c in sorted(nx.connected_components(authors_graph), key=len, reverse=True)])"
   ]
  },
  {
   "cell_type": "code",
   "execution_count": 63,
   "metadata": {
    "slideshow": {
     "slide_type": "slide"
    }
   },
   "outputs": [],
   "source": [
    "graphs = [c for c in sorted(nx.connected_component_subgraphs(authors_graph), key=len, reverse=True)]"
   ]
  },
  {
   "cell_type": "code",
   "execution_count": 65,
   "metadata": {},
   "outputs": [
    {
     "data": {
      "text/plain": [
       "4158"
      ]
     },
     "execution_count": 65,
     "metadata": {},
     "output_type": "execute_result"
    }
   ],
   "source": [
    "len(graphs[0])"
   ]
  },
  {
   "cell_type": "code",
   "execution_count": 66,
   "metadata": {},
   "outputs": [
    {
     "data": {
      "image/png": "[encoded data removed]",
      "text/plain": [
       "<matplotlib.figure.Figure at 0x10f1497b8>"
      ]
     },
     "metadata": {},
     "output_type": "display_data"
    }
   ],
   "source": [
    "nx.draw(graphs[10])"
   ]
  },
  {
   "cell_type": "markdown",
   "metadata": {
    "slideshow": {
     "slide_type": "slide"
    }
   },
   "source": [
    "### Graph Traversal"
   ]
  },
  {
   "cell_type": "code",
   "execution_count": 67,
   "metadata": {},
   "outputs": [
    {
     "data": {
      "image/png": "[encoded data removed]",
      "text/plain": [
       "<matplotlib.figure.Figure at 0x10f1490f0>"
      ]
     },
     "metadata": {},
     "output_type": "display_data"
    }
   ],
   "source": [
    "nx.draw(nx.erdos_renyi_graph(10, 0.15, seed=1), with_labels=True)"
   ]
  },
  {
   "cell_type": "code",
   "execution_count": 68,
   "metadata": {},
   "outputs": [
    {
     "name": "stdout",
     "output_type": "stream",
     "text": [
      "['22504', '6512', '18757', '2710', '3677', '23991']\n",
      "6\n",
      "5\n"
     ]
    }
   ],
   "source": [
    "print(nx.shortest_path(graphs[0], '22504', '23991'))\n",
    "print(len(nx.shortest_path(graphs[0], '22504', '23991')))\n",
    "print(nx.shortest_path_length(graphs[0], '22504', '23991'))"
   ]
  },
  {
   "cell_type": "markdown",
   "metadata": {
    "slideshow": {
     "slide_type": "slide"
    }
   },
   "source": [
    "### Excersise - 4\n",
    "##### Six degrees of separation, Erdos Number, Bacon Number!!\n",
    "\n",
    "Find the '22504' number of the graph authors_graph, if there is no connection between nodes then give it the number `-1`.\n",
    "Also plot a histogram of the '22504' number.\n",
    "\n",
    "Find the average shortest path length in the first component i.e. graphs[0]\n",
    "\n",
    "HINT: `nx.shortest_path_length`"
   ]
  },
  {
   "cell_type": "code",
   "execution_count": null,
   "metadata": {
    "slideshow": {
     "slide_type": "slide"
    }
   },
   "outputs": [],
   "source": [
    "# G = nx.fast_gnp_random_graph(10000, 0.1, seed=1)"
   ]
  },
  {
   "cell_type": "code",
   "execution_count": 69,
   "metadata": {
    "slideshow": {
     "slide_type": "-"
    }
   },
   "outputs": [],
   "source": [
    "d = {}\n",
    "for node in authors_graph.nodes():\n",
    "    try:\n",
    "        d[node] = nx.shortest_path_length(authors_graph, '22504', node)\n",
    "    except:\n",
    "        d[node] = -1"
   ]
  },
  {
   "cell_type": "code",
   "execution_count": 70,
   "metadata": {},
   "outputs": [
    {
     "data": {
      "image/png": "[encoded data removed]",
      "text/plain": [
       "<matplotlib.figure.Figure at 0x10e913080>"
      ]
     },
     "metadata": {},
     "output_type": "display_data"
    }
   ],
   "source": [
    "plt.hist(list(d.values()))\n",
    "plt.show()\n",
    "# list(d.values())"
   ]
  },
  {
   "cell_type": "code",
   "execution_count": null,
   "metadata": {},
   "outputs": [],
   "source": [
    "# print(sum([1 for _, val in d.items() if val == -1]))\n",
    "# print(len(authors_graph.nodes()) - len(graphs[0]))\n",
    "# print((sum(val for _, val in d.items() if val != -1))/len(graphs[0]))"
   ]
  },
  {
   "cell_type": "markdown",
   "metadata": {
    "slideshow": {
     "slide_type": "slide"
    }
   },
   "source": [
    "### Directed Graphs\n",
    "\n",
    "![title](images/pagerank.png)"
   ]
  },
  {
   "cell_type": "code",
   "execution_count": 77,
   "metadata": {
    "slideshow": {
     "slide_type": "slide"
    }
   },
   "outputs": [
    {
     "data": {
      "text/plain": [
       "True"
      ]
     },
     "execution_count": 77,
     "metadata": {},
     "output_type": "execute_result"
    }
   ],
   "source": [
    "G = nx.DiGraph()\n",
    "\n",
    "G.add_edge(1, 2)\n",
    "\n",
    "# print(G.edges())\n",
    "# G[2][1]\n",
    "G.is_directed()\n",
    "# type(G)"
   ]
  },
  {
   "cell_type": "code",
   "execution_count": 78,
   "metadata": {},
   "outputs": [
    {
     "data": {
      "image/png": "[encoded data removed]",
      "text/plain": [
       "<matplotlib.figure.Figure at 0x10f528d68>"
      ]
     },
     "metadata": {},
     "output_type": "display_data"
    }
   ],
   "source": [
    "G.add_edges_from([(1, 2), (3, 2), (4, 2), (5, 2), (6, 2), (7, 2)])\n",
    "nx.draw(G, with_labels=True)"
   ]
  },
  {
   "cell_type": "code",
   "execution_count": null,
   "metadata": {
    "slideshow": {
     "slide_type": "slide"
    }
   },
   "outputs": [],
   "source": [
    "G.in_degree()"
   ]
  },
  {
   "cell_type": "code",
   "execution_count": 79,
   "metadata": {},
   "outputs": [
    {
     "data": {
      "text/plain": [
       "{1: 0.0826448180198328,\n",
       " 2: 0.5041310918810031,\n",
       " 3: 0.0826448180198328,\n",
       " 4: 0.0826448180198328,\n",
       " 5: 0.0826448180198328,\n",
       " 6: 0.0826448180198328,\n",
       " 7: 0.0826448180198328}"
      ]
     },
     "execution_count": 79,
     "metadata": {},
     "output_type": "execute_result"
    }
   ],
   "source": [
    "nx.pagerank(G)"
   ]
  },
  {
   "cell_type": "code",
   "execution_count": 80,
   "metadata": {
    "slideshow": {
     "slide_type": "slide"
    }
   },
   "outputs": [
    {
     "data": {
      "image/png": "[encoded data removed]",
      "text/plain": [
       "<matplotlib.figure.Figure at 0x10f071a58>"
      ]
     },
     "metadata": {},
     "output_type": "display_data"
    }
   ],
   "source": [
    "G.add_edge(5, 6)\n",
    "nx.draw(G, with_labels=True)"
   ]
  },
  {
   "cell_type": "code",
   "execution_count": 81,
   "metadata": {},
   "outputs": [
    {
     "data": {
      "text/plain": [
       "{1: 0.08024854052495894,\n",
       " 2: 0.4844028780560986,\n",
       " 3: 0.08024854052495894,\n",
       " 4: 0.08024854052495894,\n",
       " 5: 0.08024854052495894,\n",
       " 6: 0.11435441931910648,\n",
       " 7: 0.08024854052495894}"
      ]
     },
     "execution_count": 81,
     "metadata": {},
     "output_type": "execute_result"
    }
   ],
   "source": [
    "nx.pagerank(G)"
   ]
  },
  {
   "cell_type": "code",
   "execution_count": 82,
   "metadata": {
    "slideshow": {
     "slide_type": "slide"
    }
   },
   "outputs": [
    {
     "data": {
      "image/png": "[encoded data removed]",
      "text/plain": [
       "<matplotlib.figure.Figure at 0x10f4e8588>"
      ]
     },
     "metadata": {},
     "output_type": "display_data"
    }
   ],
   "source": [
    "G.add_edge(2, 8)\n",
    "nx.draw(G, with_labels=True)"
   ]
  },
  {
   "cell_type": "code",
   "execution_count": 83,
   "metadata": {},
   "outputs": [
    {
     "data": {
      "text/plain": [
       "{1: 0.05378612718073915,\n",
       " 2: 0.3246687852772877,\n",
       " 3: 0.05378612718073915,\n",
       " 4: 0.05378612718073915,\n",
       " 5: 0.05378612718073915,\n",
       " 6: 0.0766454192258098,\n",
       " 7: 0.05378612718073915,\n",
       " 8: 0.3297551595932067}"
      ]
     },
     "execution_count": 83,
     "metadata": {},
     "output_type": "execute_result"
    }
   ],
   "source": [
    "nx.pagerank(G)"
   ]
  },
  {
   "cell_type": "code",
   "execution_count": null,
   "metadata": {},
   "outputs": [],
   "source": [
    "%%time\n",
    "deg_centrality = nx.degree_centrality(authors_graph)\n",
    "btw_centrality = nx.betweenness_centrality(authors_graph)\n",
    "\n",
    "deg_cent_sorted = [i[1] for i in sorted(zip(deg_centrality.keys(), deg_centrality.values()))]\n",
    "btw_cent_sorted = [i[1] for i in sorted(zip(btw_centrality.keys(), btw_centrality.values()))]\n",
    "\n",
    "plt.scatter(deg_cent_sorted, btw_cent_sorted)\n",
    "plt.xlabel('degree')\n",
    "plt.ylabel('betweeness')\n",
    "plt.title('centrality scatterplot')"
   ]
  },
  {
   "cell_type": "code",
   "execution_count": null,
   "metadata": {},
   "outputs": [],
   "source": []
  },
  {
   "cell_type": "code",
   "execution_count": null,
   "metadata": {},
   "outputs": [],
   "source": []
  }
 ],
 "metadata": {
  "celltoolbar": "Slideshow",
  "kernelspec": {
   "display_name": "Python 3",
   "language": "python",
   "name": "python3"
  },
  "language_info": {
   "codemirror_mode": {
    "name": "ipython",
    "version": 3
   },
   "file_extension": ".py",
   "mimetype": "text/x-python",
   "name": "python",
   "nbconvert_exporter": "python",
   "pygments_lexer": "ipython3",
   "version": "3.6.1"
  }
 },
 "nbformat": 4,
 "nbformat_minor": 1
}

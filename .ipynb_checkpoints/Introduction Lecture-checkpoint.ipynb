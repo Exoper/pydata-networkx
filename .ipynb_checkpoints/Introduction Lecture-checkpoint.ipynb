{
 "cells": [
  {
   "cell_type": "code",
   "execution_count": 1,
   "metadata": {
    "slideshow": {
     "slide_type": "slide"
    }
   },
   "outputs": [],
   "source": [
    "import networkx as nx\n",
    "import matplotlib.pyplot as plt\n",
    "import numpy as np\n",
    "import warnings\n",
    "warnings.filterwarnings('ignore')\n",
    "\n",
    "%matplotlib inline"
   ]
  },
  {
   "cell_type": "code",
   "execution_count": 2,
   "metadata": {
    "slideshow": {
     "slide_type": "slide"
    }
   },
   "outputs": [],
   "source": [
    "# Create an empty graph object with no nodes and edges.\n",
    "G = nx.Graph() # DiGraph, MultiGraph, MultiDiGraph"
   ]
  },
  {
   "cell_type": "code",
   "execution_count": 3,
   "metadata": {},
   "outputs": [],
   "source": [
    "## Add nodes to our graph object\n",
    "# In NetworkX, nodes can be any hashable object e.g. a text string, an image,\n",
    "# an XML object, another Graph, a customized node object, etc.\n",
    "\n",
    "G.add_node('1')\n",
    "G.add_node(1)\n",
    "G.add_node('second')"
   ]
  },
  {
   "cell_type": "code",
   "execution_count": 4,
   "metadata": {},
   "outputs": [
    {
     "data": {
      "text/plain": [
       "NodeView(('1', 1, 'second'))"
      ]
     },
     "execution_count": 4,
     "metadata": {},
     "output_type": "execute_result"
    }
   ],
   "source": [
    "G.nodes()"
   ]
  },
  {
   "cell_type": "code",
   "execution_count": 5,
   "metadata": {},
   "outputs": [],
   "source": [
    "# G.add_node({'dictionary': 'will throw error'})\n",
    "# G.add_node([1, 2])"
   ]
  },
  {
   "cell_type": "code",
   "execution_count": 6,
   "metadata": {},
   "outputs": [
    {
     "data": {
      "text/plain": [
       "NodeView(('1', 1, 'second'))"
      ]
     },
     "execution_count": 6,
     "metadata": {},
     "output_type": "execute_result"
    }
   ],
   "source": [
    "G.nodes()"
   ]
  },
  {
   "cell_type": "code",
   "execution_count": 7,
   "metadata": {},
   "outputs": [
    {
     "name": "stdout",
     "output_type": "stream",
     "text": [
      "['1', 1, 'second', 2, 3, 'node4']\n"
     ]
    }
   ],
   "source": [
    "list_of_nodes = [1, 2, 3, 'node4']\n",
    "G.add_nodes_from(list_of_nodes)\n",
    "print(G.nodes())"
   ]
  },
  {
   "cell_type": "code",
   "execution_count": 8,
   "metadata": {},
   "outputs": [
    {
     "name": "stdout",
     "output_type": "stream",
     "text": [
      "[0, 1, 2, 3, 4, 5, 6]\n"
     ]
    },
    {
     "data": {
      "image/png": "[encoded data removed]",
      "text/plain": [
       "<Figure size 432x288 with 1 Axes>"
      ]
     },
     "metadata": {},
     "output_type": "display_data"
    }
   ],
   "source": [
    "# NetworkX has a lot of graph generators path_graph is one of them.\n",
    "H = nx.path_graph(7)\n",
    "print(H.nodes())\n",
    "nx.draw(H)"
   ]
  },
  {
   "cell_type": "markdown",
   "metadata": {
    "slideshow": {
     "slide_type": "-"
    }
   },
   "source": [
    "Difference between `G.add_node(H)` and `G.add_nodes_from(H)`?"
   ]
  },
  {
   "cell_type": "code",
   "execution_count": 9,
   "metadata": {},
   "outputs": [
    {
     "name": "stdout",
     "output_type": "stream",
     "text": [
      "['1', 1, 'second', 2, 3, 'node4', 0, 4, 5, 6]\n"
     ]
    }
   ],
   "source": [
    "G.add_nodes_from(H)\n",
    "print(G.nodes())"
   ]
  },
  {
   "cell_type": "code",
   "execution_count": 10,
   "metadata": {},
   "outputs": [
    {
     "name": "stdout",
     "output_type": "stream",
     "text": [
      "['1', 1, 'second', 2, 3, 'node4', 0, 4, 5, 6, <networkx.classes.graph.Graph object at 0x106edd470>]\n"
     ]
    }
   ],
   "source": [
    "G.add_node(H)\n",
    "print(G.nodes())"
   ]
  },
  {
   "cell_type": "code",
   "execution_count": 11,
   "metadata": {},
   "outputs": [
    {
     "data": {
      "text/plain": [
       "EdgeView([('second', 0), ('second', 'node4'), (2, 3), ('node4', 0), (4, 5)])"
      ]
     },
     "execution_count": 11,
     "metadata": {},
     "output_type": "execute_result"
    }
   ],
   "source": [
    "# Now let's talk about edges.\n",
    "# Edge between two nodes means that they share some property/relationship\n",
    "# G.add_node(H)\n",
    "G.add_edge(0, 'second')\n",
    "G.add_edge(2, 3)\n",
    "G.add_edge('second', 'node4')\n",
    "\n",
    "list_of_edges = [(2, 3), (4, 5), ('node4', 0)]\n",
    "G.add_edges_from(list_of_edges)\n",
    "\n",
    "# Check out edges\n",
    "G.edges()"
   ]
  },
  {
   "cell_type": "code",
   "execution_count": 12,
   "metadata": {},
   "outputs": [
    {
     "name": "stdout",
     "output_type": "stream",
     "text": [
      "11 11 11\n",
      "5 5\n",
      "['1', 1, 'second', 2, 3, 'node4', 0, 4, 5, 6, <networkx.classes.graph.Graph object at 0x106edd470>]\n",
      "['1', 1, 'second', 2, 3, 'node4', 4, 5, 6, <networkx.classes.graph.Graph object at 0x106edd470>]\n",
      "[('second', 'node4'), (2, 3), (4, 5)]\n",
      "[('second', 'node4'), (2, 3)]\n",
      "[] []\n"
     ]
    }
   ],
   "source": [
    "# Number of nodes and edges.\n",
    "print(G.number_of_nodes(), len(G), len(G.nodes()))\n",
    "print(G.number_of_edges(), len(G.edges()))\n",
    "\n",
    "print(G.nodes())\n",
    "G.remove_node(0)\n",
    "print(G.nodes())\n",
    "\n",
    "print(G.edges())\n",
    "G.remove_edge(4, 5)\n",
    "print(G.edges())\n",
    "\n",
    "G.clear()\n",
    "print(G.nodes(), G.edges())"
   ]
  },
  {
   "cell_type": "code",
   "execution_count": 13,
   "metadata": {
    "slideshow": {
     "slide_type": "slide"
    }
   },
   "outputs": [
    {
     "name": "stdout",
     "output_type": "stream",
     "text": [
      "[0, 1, 2, 3, 4, 5, 6, 7, 8, 9, 10, 11, 12, 13, 14, 15, 16, 17, 18, 19, 20, 21, 22, 23, 24, 25, 26, 27, 28, 29, 30, 31, 32, 33, 34, 35, 36, 37, 38, 39, 40, 41, 42, 43, 44, 45, 46, 47, 48, 49]\n",
      "[(0, 9), (0, 10), (0, 14), (0, 20), (0, 21), (0, 27), (0, 36), (1, 9), (1, 24), (1, 25), (1, 44), (2, 6), (2, 18), (2, 29), (2, 30), (2, 31), (2, 37), (2, 46), (3, 10), (3, 11), (3, 28), (3, 39), (3, 41), (4, 18), (4, 35), (5, 8), (5, 9), (5, 19), (5, 28), (5, 30), (5, 33), (6, 8), (6, 9), (6, 15), (6, 30), (6, 49), (7, 9), (7, 11), (7, 12), (7, 21), (7, 35), (7, 49), (8, 18), (8, 22), (8, 32), (8, 49), (9, 10), (9, 32), (9, 39), (10, 30), (10, 33), (11, 31), (11, 42), (12, 22), (13, 18), (13, 24), (13, 35), (14, 22), (15, 17), (15, 19), (15, 23), (15, 32), (15, 47), (16, 26), (16, 29), (16, 35), (16, 36), (16, 38), (16, 41), (16, 42), (17, 21), (17, 28), (17, 45), (17, 46), (18, 20), (18, 27), (18, 29), (18, 31), (18, 32), (19, 33), (19, 36), (20, 21), (21, 25), (21, 26), (21, 33), (21, 34), (21, 39), (22, 39), (22, 45), (24, 39), (25, 33), (25, 37), (25, 44), (26, 41), (27, 43), (29, 37), (29, 49), (30, 40), (30, 41), (30, 44), (31, 33), (31, 39), (31, 40), (31, 45), (31, 46), (33, 40), (34, 44), (36, 39), (37, 41), (37, 43), (37, 45), (37, 46), (40, 41), (41, 42), (42, 44), (43, 44), (47, 49), (48, 49)]\n"
     ]
    },
    {
     "data": {
      "image/png": "[encoded data removed]",
      "text/plain": [
       "<Figure size 432x288 with 1 Axes>"
      ]
     },
     "metadata": {},
     "output_type": "display_data"
    }
   ],
   "source": [
    "# One more graph generator. This will create\n",
    "# a Erdos-Reyni Graph\n",
    "G = nx.erdos_renyi_graph(50, 0.1, seed=1)\n",
    "\n",
    "# Let's checkout nodes and edges\n",
    "print(G.nodes())\n",
    "print(G.edges())\n",
    "nx.draw(G)"
   ]
  },
  {
   "cell_type": "code",
   "execution_count": 14,
   "metadata": {
    "slideshow": {
     "slide_type": "slide"
    }
   },
   "outputs": [
    {
     "data": {
      "image/png": "[encoded data removed]",
      "text/plain": [
       "<Figure size 432x288 with 1 Axes>"
      ]
     },
     "metadata": {},
     "output_type": "display_data"
    }
   ],
   "source": [
    "matrix = nx.to_numpy_matrix(G)\n",
    "# print matrix\n",
    "\n",
    "fig = plt.figure()\n",
    "ax = fig.add_subplot(1,1,1)\n",
    "ax.set_aspect('equal')\n",
    "plt.imshow(matrix, interpolation='nearest', cmap=plt.cm.Blues)\n",
    "plt.show()"
   ]
  },
  {
   "cell_type": "markdown",
   "metadata": {
    "slideshow": {
     "slide_type": "slide"
    }
   },
   "source": [
    "Adding attributes and weights."
   ]
  },
  {
   "cell_type": "code",
   "execution_count": 15,
   "metadata": {
    "slideshow": {
     "slide_type": "-"
    }
   },
   "outputs": [],
   "source": [
    "G.add_edge(1, 2, weight=4.7, flow_capacity=100)"
   ]
  },
  {
   "cell_type": "code",
   "execution_count": 16,
   "metadata": {},
   "outputs": [],
   "source": [
    "G.add_edges_from([(3, 4), (4, 5)], color='red')\n",
    "\n",
    "G.add_edges_from([(1, 2, {'color': 'blue'}), (2, 3, {'weight': 8})])"
   ]
  },
  {
   "cell_type": "code",
   "execution_count": 17,
   "metadata": {},
   "outputs": [],
   "source": [
    "G[1][2]['weight'] = 4.1"
   ]
  },
  {
   "cell_type": "code",
   "execution_count": 18,
   "metadata": {},
   "outputs": [
    {
     "data": {
      "text/plain": [
       "EdgeDataView([(0, 9, {}), (0, 10, {}), (0, 14, {}), (0, 20, {}), (0, 21, {}), (0, 27, {}), (0, 36, {}), (1, 9, {}), (1, 24, {}), (1, 25, {}), (1, 44, {}), (1, 2, {'weight': 4.1, 'flow_capacity': 100, 'color': 'blue'}), (2, 6, {}), (2, 18, {}), (2, 29, {}), (2, 30, {}), (2, 31, {}), (2, 37, {}), (2, 46, {}), (2, 3, {'weight': 8}), (3, 10, {}), (3, 11, {}), (3, 28, {}), (3, 39, {}), (3, 41, {}), (3, 4, {'color': 'red'}), (4, 18, {}), (4, 35, {}), (4, 5, {'color': 'red'}), (5, 8, {}), (5, 9, {}), (5, 19, {}), (5, 28, {}), (5, 30, {}), (5, 33, {}), (6, 8, {}), (6, 9, {}), (6, 15, {}), (6, 30, {}), (6, 49, {}), (7, 9, {}), (7, 11, {}), (7, 12, {}), (7, 21, {}), (7, 35, {}), (7, 49, {}), (8, 18, {}), (8, 22, {}), (8, 32, {}), (8, 49, {}), (9, 10, {}), (9, 32, {}), (9, 39, {}), (10, 30, {}), (10, 33, {}), (11, 31, {}), (11, 42, {}), (12, 22, {}), (13, 18, {}), (13, 24, {}), (13, 35, {}), (14, 22, {}), (15, 17, {}), (15, 19, {}), (15, 23, {}), (15, 32, {}), (15, 47, {}), (16, 26, {}), (16, 29, {}), (16, 35, {}), (16, 36, {}), (16, 38, {}), (16, 41, {}), (16, 42, {}), (17, 21, {}), (17, 28, {}), (17, 45, {}), (17, 46, {}), (18, 20, {}), (18, 27, {}), (18, 29, {}), (18, 31, {}), (18, 32, {}), (19, 33, {}), (19, 36, {}), (20, 21, {}), (21, 25, {}), (21, 26, {}), (21, 33, {}), (21, 34, {}), (21, 39, {}), (22, 39, {}), (22, 45, {}), (24, 39, {}), (25, 33, {}), (25, 37, {}), (25, 44, {}), (26, 41, {}), (27, 43, {}), (29, 37, {}), (29, 49, {}), (30, 40, {}), (30, 41, {}), (30, 44, {}), (31, 33, {}), (31, 39, {}), (31, 40, {}), (31, 45, {}), (31, 46, {}), (33, 40, {}), (34, 44, {}), (36, 39, {}), (37, 41, {}), (37, 43, {}), (37, 45, {}), (37, 46, {}), (40, 41, {}), (41, 42, {}), (42, 44, {}), (43, 44, {}), (47, 49, {}), (48, 49, {})])"
      ]
     },
     "execution_count": 18,
     "metadata": {},
     "output_type": "execute_result"
    }
   ],
   "source": [
    "G.edges(data=True)"
   ]
  },
  {
   "cell_type": "markdown",
   "metadata": {
    "slideshow": {
     "slide_type": "slide"
    }
   },
   "source": [
    "### Exercise "
   ]
  },
  {
   "cell_type": "code",
   "execution_count": 19,
   "metadata": {},
   "outputs": [
    {
     "name": "stdout",
     "output_type": "stream",
     "text": [
      "[('Paris', 'Warsaw'), ('Paris', 'Barcelona'), ('Warsaw', 'Berlin'), ('Berlin', 'London')]\n"
     ]
    }
   ],
   "source": [
    "G = nx.Graph()\n",
    "list_of_cities = [('Paris', 'Warsaw', 841), ('Warsaw', 'Berlin', 584), ('Berlin', 'London', 1101), ('Paris', 'Barcelona', 1038)]\n",
    "G.add_weighted_edges_from(list_of_cities)\n",
    "\n",
    "# print G.nodes()\n",
    "print(G.edges())\n",
    "# Iterate through the edges and find the highest weight."
   ]
  },
  {
   "cell_type": "code",
   "execution_count": 20,
   "metadata": {
    "slideshow": {
     "slide_type": "slide"
    }
   },
   "outputs": [
    {
     "name": "stdout",
     "output_type": "stream",
     "text": [
      "1101\n"
     ]
    }
   ],
   "source": [
    "result = max([w['weight'] for u, v, w in G.edges(data=True)])\n",
    "print(result)\n",
    "\n",
    "# max(G.edges(data=True), key=lambda x:x[2])"
   ]
  },
  {
   "cell_type": "markdown",
   "metadata": {
    "slideshow": {
     "slide_type": "slide"
    }
   },
   "source": [
    "### Now let's try to understand the dynamics of a network.\n",
    "\n",
    "Let's start with a random erdos reyni graph.\n",
    "\n",
    "https://en.wikipedia.org/wiki/Erdős–Rényi_model\n"
   ]
  },
  {
   "cell_type": "code",
   "execution_count": 21,
   "metadata": {},
   "outputs": [],
   "source": [
    "G = nx.erdos_renyi_graph(20, 0.1, seed=1)"
   ]
  },
  {
   "cell_type": "code",
   "execution_count": 22,
   "metadata": {},
   "outputs": [
    {
     "data": {
      "image/png": "[encoded data removed]",
      "text/plain": [
       "<Figure size 432x288 with 1 Axes>"
      ]
     },
     "metadata": {},
     "output_type": "display_data"
    }
   ],
   "source": [
    "nx.draw_spring(G, with_labels=True)"
   ]
  },
  {
   "cell_type": "markdown",
   "metadata": {},
   "source": [
    "### Hubs: How do we evaluate the importance of some individuals in a network?\n",
    "\n",
    "Within a social network, there will be certain individuals which perform certain important functions. For example, there may be hyper-connected individuals who are connected to many, many more people. They would be of use in the spreading of information. Alternatively, if this were a disease contact network, identifying them would be useful in stopping the spread of diseases. How would one identify these people?"
   ]
  },
  {
   "cell_type": "markdown",
   "metadata": {},
   "source": [
    "#### Approach 1: Neighbors\n",
    "\n",
    "One way we could compute this is to find out the number of people an individual is conencted to. NetworkX let's us do this by giving us a `G.neighbors(node)` function."
   ]
  },
  {
   "cell_type": "code",
   "execution_count": 23,
   "metadata": {},
   "outputs": [
    {
     "data": {
      "text/plain": [
       "[5, 19]"
      ]
     },
     "execution_count": 23,
     "metadata": {},
     "output_type": "execute_result"
    }
   ],
   "source": [
    "# Let's find out the neighbors of node 12\n",
    "list(G.neighbors(12))"
   ]
  },
  {
   "cell_type": "markdown",
   "metadata": {},
   "source": [
    "#### Approach 2: Degree Centrality\n",
    "\n",
    "The number of other nodes that one node is connected to is a measure of its centrality. NetworkX implements a **degree centrality**, which is defined as the number of neighbors that a node has normalized to the number of individuals it could be connected to in the entire graph. This is accessed by using `nx.degree_centrality(G)`"
   ]
  },
  {
   "cell_type": "code",
   "execution_count": 24,
   "metadata": {},
   "outputs": [
    {
     "data": {
      "text/plain": [
       "{0: 0.15789473684210525,\n",
       " 1: 0.21052631578947367,\n",
       " 2: 0.05263157894736842,\n",
       " 3: 0.10526315789473684,\n",
       " 4: 0.10526315789473684,\n",
       " 5: 0.05263157894736842,\n",
       " 6: 0.15789473684210525,\n",
       " 7: 0.15789473684210525,\n",
       " 8: 0.2631578947368421,\n",
       " 9: 0.21052631578947367,\n",
       " 10: 0.21052631578947367,\n",
       " 11: 0.0,\n",
       " 12: 0.10526315789473684,\n",
       " 13: 0.0,\n",
       " 14: 0.10526315789473684,\n",
       " 15: 0.10526315789473684,\n",
       " 16: 0.10526315789473684,\n",
       " 17: 0.10526315789473684,\n",
       " 18: 0.05263157894736842,\n",
       " 19: 0.15789473684210525}"
      ]
     },
     "execution_count": 24,
     "metadata": {},
     "output_type": "execute_result"
    }
   ],
   "source": [
    "nx.degree_centrality(G)\n",
    "# list(nx.degree_centrality(G).items())[0:5]"
   ]
  },
  {
   "cell_type": "markdown",
   "metadata": {},
   "source": [
    "There are other measures of centrality, namely betweenness centrality, flow centrality and load centrality. You can take a look at their definitions on the NetworkX API docs and their cited references. You can also define your own measures if those don't fit your needs, but that is an advanced topic that won't be dealt with here.\n",
    "The NetworkX API docs that document the centrality measures are here: http://networkx.readthedocs.io/en/networkx-1.11/reference/algorithms.centrality.html?highlight=centrality#module-networkx.algorithms.centrality"
   ]
  },
  {
   "cell_type": "markdown",
   "metadata": {
    "slideshow": {
     "slide_type": "slide"
    }
   },
   "source": [
    "Let's work on a read world network.\n",
    "\n",
    "Arxiv GR-QC (General Relativity and Quantum Cosmology) collaboration network is from the e-print arXiv and covers scientific collaborations between authors papers submitted to General Relativity and Quantum Cosmology category. If an author i co-authored a paper with author j, the graph contains a undirected edge from i to j. If the paper is co-authored by k authors this generates a completely connected (sub)graph on k nodes.\n",
    "\n",
    "source: http://snap.stanford.edu/data/index.html#canets"
   ]
  },
  {
   "cell_type": "code",
   "execution_count": 25,
   "metadata": {},
   "outputs": [
    {
     "data": {
      "image/png": "[encoded data removed]",
      "text/plain": [
       "<Figure size 432x288 with 1 Axes>"
      ]
     },
     "metadata": {},
     "output_type": "display_data"
    }
   ],
   "source": [
    "nx.draw(nx.complete_graph(6))"
   ]
  },
  {
   "cell_type": "code",
   "execution_count": 26,
   "metadata": {},
   "outputs": [],
   "source": [
    "import csv\n",
    "authors_graph = nx.Graph()\n",
    "with open('CA-GrQc.txt', 'r') as f:\n",
    "    reader = csv.reader(f, delimiter='\\t')\n",
    "    for row in reader:\n",
    "        authors_graph.add_edge(row[0], row[1])"
   ]
  },
  {
   "cell_type": "code",
   "execution_count": 27,
   "metadata": {
    "slideshow": {
     "slide_type": "slide"
    }
   },
   "outputs": [
    {
     "name": "stdout",
     "output_type": "stream",
     "text": [
      "14496\n",
      "5242\n"
     ]
    }
   ],
   "source": [
    "print(authors_graph.number_of_edges())\n",
    "print(authors_graph.number_of_nodes())"
   ]
  },
  {
   "cell_type": "markdown",
   "metadata": {
    "slideshow": {
     "slide_type": "-"
    }
   },
   "source": [
    "Neighbors of a node."
   ]
  },
  {
   "cell_type": "code",
   "execution_count": 28,
   "metadata": {},
   "outputs": [
    {
     "name": "stdout",
     "output_type": "stream",
     "text": [
      "33\n",
      "[('22504', 33)]\n",
      "[('22504', 33)]\n"
     ]
    }
   ],
   "source": [
    "# Neighbors/ degree of node is one way of calculating the importance\n",
    "# of the node. Influential nodes.\n",
    "# print(list(authors_graph.neighbors('22504')))\n",
    "print(len(list(authors_graph.neighbors('22504'))))\n",
    "print(nx.degree(authors_graph,['22504']))\n",
    "print(authors_graph.degree(['22504']))"
   ]
  },
  {
   "cell_type": "markdown",
   "metadata": {
    "slideshow": {
     "slide_type": "slide"
    }
   },
   "source": [
    "### Exercise \n",
    "\n",
    "Create a list of (node, degree of node) tuples and find the node with maximum degree."
   ]
  },
  {
   "cell_type": "code",
   "execution_count": 29,
   "metadata": {
    "slideshow": {
     "slide_type": "slide"
    }
   },
   "outputs": [],
   "source": [
    "result = [(node, len(list(authors_graph.neighbors(node)))) for node in authors_graph.nodes()]"
   ]
  },
  {
   "cell_type": "code",
   "execution_count": 30,
   "metadata": {},
   "outputs": [
    {
     "data": {
      "text/plain": [
       "('21012', 81)"
      ]
     },
     "execution_count": 30,
     "metadata": {},
     "output_type": "execute_result"
    }
   ],
   "source": [
    "max(result, key=lambda node:node[1])"
   ]
  },
  {
   "cell_type": "code",
   "execution_count": 31,
   "metadata": {},
   "outputs": [
    {
     "data": {
      "text/plain": [
       "81"
      ]
     },
     "execution_count": 31,
     "metadata": {},
     "output_type": "execute_result"
    }
   ],
   "source": [
    "authors_graph.degree()['21012']\n",
    "# returns a dictionary of degree keyed by node"
   ]
  },
  {
   "cell_type": "code",
   "execution_count": 32,
   "metadata": {
    "slideshow": {
     "slide_type": "slide"
    }
   },
   "outputs": [
    {
     "data": {
      "text/plain": [
       "DegreeView({'3466': 8, '937': 5, '5233': 2, '8579': 5, '10310': 13, '15931': 10, '17038': 17, '18720': 3, '19607': 4, '1854': 8, '4583': 3, '9572': 34, '10841': 7, '13056': 10, '14982': 2, '16310': 17, '19640': 25, '23855': 8, '24372': 1, '24814': 21, '5052': 29, '899': 3, '1796': 2, '2287': 14, '3096': 12, '3386': 11, '4472': 4, '5346': 20, '5740': 1, '6094': 4, '6376': 2, '9124': 24, '10235': 13, '10427': 8, '10597': 6, '15159': 4, '16148': 18, '16741': 7, '18235': 1, '18549': 1, '19297': 16, '20511': 32, '20595': 9, '20613': 10, '24371': 22, '24559': 23, '24731': 1, '25102': 7, '25271': 16, '25396': 23, '1658': 6, '4822': 2, '6864': 2, '7689': 32, '7926': 9, '10268': 7, '12971': 1, '18600': 4, '20421': 3, '20886': 2, '21048': 6, '22393': 5, '23186': 6, '23214': 4, '23298': 2, '23945': 3, '24939': 3, '339': 30, '624': 17, '3731': 9, '4743': 25, '5407': 9, '6610': 68, '6700': 31, '8045': 15, '9099': 9, '9639': 31, '9785': 68, '12141': 5, '15184': 13, '15784': 11, '18719': 22, '19870': 21, '20532': 20, '22527': 25, '23576': 4, '23577': 9, '23649': 9, '24199': 6, '24293': 20, '25201': 13, '10243': 14, '6774': 27, '8049': 8, '8053': 3, '8517': 7, '11964': 13, '15538': 14, '16694': 9, '18648': 4, '19423': 63, '21012': 81, '22457': 30, '22691': 77, '23452': 22, '16174': 4, '16470': 1, '17822': 1, '14265': 37, '392': 1, '2485': 2, '2949': 9, '3173': 1, '3441': 6, '3593': 6, '3853': 1, '3927': 2, '3937': 4, '3939': 18, '5107': 18, '5218': 2, '5230': 2, '6030': 4, '7350': 19, '7504': 11, '7601': 2, '8718': 2, '9522': 5, '11621': 7, '12498': 2, '12691': 2, '15251': 1, '16020': 7, '16261': 1, '17156': 3, '17626': 16, '18622': 2, '19059': 6, '19525': 3, '19738': 5, '20122': 4, '20432': 5, '21866': 1, '22074': 10, '23721': 3, '8916': 11, '13556': 20, '14485': 21, '8612': 18, '615': 18, '743': 9, '2076': 2, '4515': 8, '5773': 4, '9482': 21, '10822': 2, '11175': 9, '11604': 5, '14004': 2, '15003': 62, '15552': 18, '15814': 12, '16083': 10, '17932': 11, '20001': 1, '20100': 12, '23481': 5, '16258': 13, '1356': 4, '1727': 7, '2752': 4, '4125': 5, '6667': 3, '6825': 2, '10039': 11, '10351': 3, '11082': 12, '14123': 13, '16676': 2, '21194': 1, '10912': 3, '14534': 12, '17268': 4, '19783': 1, '21705': 3, '22836': 3, '2710': 33, '62': 7, '106': 4, '260': 5, '2959': 10, '3677': 12, '4708': 3, '5172': 10, '5541': 6, '5794': 3, '5807': 9, '6575': 11, '8458': 2, '10601': 2, '11401': 2, '13026': 4, '13205': 5, '13659': 8, '13989': 10, '14007': 4, '14009': 3, '14599': 30, '15301': 2, '18757': 8, '20934': 5, '21543': 7, '22184': 7, '23647': 12, '23708': 16, '25916': 10, '26023': 3, '26051': 2, '26100': 2, '214': 7, '5435': 3, '6512': 49, '10590': 7, '23559': 3, '1765': 8, '3032': 12, '5302': 11, '7383': 13, '7442': 18, '7768': 10, '13276': 26, '17266': 9, '22415': 12, '10794': 2, '7050': 6, '25850': 2, '10113': 12, '10657': 2, '12130': 11, '17172': 8, '4846': 22, '676': 26, '824': 13, '2133': 12, '2654': 38, '4748': 19, '5672': 2, '10549': 4, '12928': 11, '13220': 11, '14419': 14, '17330': 17, '17439': 29, '18487': 27, '20850': 15, '22779': 11, '23382': 30, '24029': 5, '11785': 21, '45': 49, '46': 42, '570': 48, '773': 55, '1653': 56, '2212': 47, '2741': 65, '2952': 45, '3372': 49, '4046': 1, '4164': 54, '4511': 45, '4513': 43, '5262': 1, '6179': 46, '6830': 45, '7956': 56, '8879': 45, '11241': 49, '11472': 45, '12365': 77, '12496': 48, '12678': 4, '12781': 57, '12851': 45, '14540': 46, '14807': 60, '15659': 45, '16159': 4, '17655': 66, '17692': 45, '18894': 47, '19961': 45, '20108': 45, '20562': 45, '20635': 47, '21281': 79, '21508': 67, '21847': 48, '22798': 6, '22887': 47, '23293': 53, '24955': 51, '25346': 56, '25758': 51, '934': 7, '5579': 1, '9755': 31, '10550': 4, '16032': 16, '17331': 1, '17603': 4, '20644': 6, '22497': 4, '23387': 2, '23907': 5, '24924': 22, '25080': 14, '12422': 3, '1339': 5, '3164': 6, '15580': 7, '16393': 4, '20478': 26, '20956': 1, '3890': 9, '5621': 22, '8824': 2, '11613': 3, '12306': 3, '12860': 3, '14547': 1, '18182': 3, '21707': 3, '24696': 20, '2661': 7, '7899': 5, '8067': 5, '8208': 3, '11132': 7, '11402': 4, '12980': 8, '13364': 8, '14969': 7, '16389': 26, '18109': 5, '18365': 14, '23038': 33, '24845': 8, '25379': 2, '13740': 11, '4550': 21, '4702': 2, '7264': 15, '13096': 22, '14128': 4, '19489': 16, '19527': 4, '19784': 2, '22476': 7, '25006': 22, '25486': 3, '26': 5, '1407': 6, '1488': 31, '8219': 2, '10762': 30, '11801': 11, '12665': 1, '12688': 3, '13142': 28, '15108': 22, '15321': 5, '20647': 3, '20827': 8, '20879': 15, '23614': 26, '3909': 17, '17979': 5, '3872': 8, '5109': 2, '7533': 8, '12409': 3, '20101': 1, '23096': 1, '8862': 7, '78': 4, '4877': 3, '7459': 12, '8254': 13, '12155': 3, '22598': 18, '24932': 5, '888': 6, '1520': 6, '6468': 6, '6627': 3, '7007': 25, '7712': 18, '10711': 23, '13614': 16, '14102': 7, '18517': 9, '18676': 9, '23351': 9, '23689': 3, '24114': 1, '2465': 4, '2592': 2, '3977': 7, '5055': 1, '5993': 13, '9265': 1, '12334': 13, '19890': 6, '20341': 1, '21560': 2, '17309': 1, '24833': 17, '543': 24, '1958': 19, '2193': 6, '3917': 3, '6858': 3, '8148': 3, '9092': 3, '12478': 10, '15366': 3, '18125': 3, '18398': 3, '19675': 16, '21806': 6, '23693': 9, '26196': 7, '10115': 2, '10134': 1, '23916': 1, '7893': 9, '593': 16, '5510': 7, '9360': 10, '12627': 15, '16778': 8, '18037': 3, '18051': 10, '13385': 1, '19578': 1, '12386': 5, '13333': 5, '23896': 15, '8978': 4, '9017': 28, '15170': 4, '15455': 17, '16589': 5, '2255': 5, '3056': 3, '6158': 4, '7307': 26, '7324': 4, '8365': 12, '9023': 1, '11444': 3, '12324': 5, '12472': 11, '13831': 16, '14746': 25, '16128': 4, '17075': 19, '18875': 8, '19900': 4, '20000': 5, '20806': 2, '21944': 4, '21968': 13, '23302': 3, '23665': 12, '23758': 2, '24722': 4, '12045': 1, '12287': 3, '14181': 10, '20257': 3, '21613': 3, '7510': 2, '197': 2, '8851': 11, '1343': 4, '2991': 2, '8299': 1, '15416': 2, '18088': 8, '25286': 13, '1254': 3, '3420': 3, '10130': 15, '2250': 17, '3243': 3, '7717': 17, '7985': 15, '11015': 22, '12085': 9, '13714': 17, '14767': 17, '16056': 12, '16994': 20, '17414': 9, '18971': 17, '19216': 17, '20534': 17, '21776': 5, '21860': 8, '25205': 17, '178': 8, '1248': 3, '1403': 7, '2368': 9, '2420': 5, '16210': 13, '18681': 3, '20641': 2, '24762': 4, '2307': 2, '6934': 14, '22423': 16, '231': 30, '345': 13, '1186': 17, '1234': 7, '1841': 6, '1997': 8, '2404': 8, '2450': 2, '2980': 24, '3409': 16, '5134': 7, '5578': 7, '8503': 14, '9341': 4, '9889': 20, '12503': 9, '13060': 9, '13597': 17, '16611': 6, '18208': 24, '18543': 8, '18866': 44, '22421': 6, '22937': 18, '23363': 10, '23628': 6, '25053': 9, '25251': 2, '2982': 3, '4036': 3, '4115': 5, '12938': 8, '13032': 2, '19215': 2, '21432': 18, '22726': 3, '22834': 6, '22966': 4, '23511': 4, '25528': 3, '25836': 8, '14376': 1, '8710': 2, '22483': 8, '1375': 2, '2846': 16, '5555': 8, '5564': 10, '5787': 8, '9721': 2, '10158': 1, '10942': 11, '13600': 2, '13929': 45, '21075': 16, '21316': 1, '22900': 1, '23637': 10, '23770': 10, '25143': 2, '25601': 1, '25980': 2, '17394': 1, '18924': 8, '3113': 17, '8312': 7, '10765': 6, '17538': 6, '25978': 6, '1172': 8, '5674': 1, '26194': 2, '375': 1, '1838': 2, '12733': 10, '7188': 12, '896': 5, '921': 2, '1508': 3, '6815': 3, '7209': 3, '8279': 5, '13008': 19, '18605': 1, '21158': 3, '4632': 12, '7844': 13, '11053': 6, '11148': 10, '13411': 8, '14512': 14, '16594': 19, '16722': 7, '16726': 3, '16876': 7, '19954': 6, '19992': 15, '20391': 7, '20774': 15, '23403': 11, '4870': 3, '5175': 6, '8282': 3, '22046': 11, '2449': 34, '4766': 2, '3561': 9, '4868': 6, '8352': 2, '10456': 9, '15365': 5, '16931': 8, '8157': 1, '2120': 1, '7713': 1, '19052': 1, '8302': 1, '16484': 1, '17778': 5, '2556': 11, '19159': 6, '21699': 3, '25382': 3, '8701': 10, '523': 2, '5464': 6, '7774': 4, '17379': 14, '18008': 4, '23385': 1, '25868': 1, '26170': 2, '1310': 11, '2922': 3, '3651': 35, '6891': 7, '10162': 2, '10620': 3, '11112': 4, '13174': 4, '14864': 10, '17536': 10, '23153': 2, '24340': 3, '11102': 5, '18592': 5, '22765': 2, '1896': 8, '6838': 7, '25220': 2, '4180': 6, '10055': 17, '12637': 3, '1832': 3, '4383': 1, '7014': 2, '9397': 23, '14344': 3, '14385': 3, '21379': 22, '24163': 2, '4416': 19, '9241': 13, '2620': 8, '3679': 3, '4364': 33, '5712': 14, '13955': 12, '14003': 6, '15235': 8, '18227': 4, '19445': 1, '19495': 1, '20168': 10, '23967': 15, '1116': 9, '15399': 3, '18222': 4, '21287': 8, '23227': 1, '4624': 12, '5355': 2, '6863': 2, '12606': 7, '12968': 10, '15770': 5, '21322': 1, '22265': 11, '22336': 11, '23099': 2, '23880': 7, '25111': 5, '4319': 3, '12758': 3, '22023': 1, '14337': 9, '5849': 3, '10763': 1, '11121': 1, '11194': 6, '15799': 9, '16511': 4, '16575': 6, '16945': 1, '21157': 1, '2326': 7, '10253': 2, '13190': 11, '14325': 2, '19048': 12, '20182': 7, '3595': 4, '18174': 4, '17850': 1, '20620': 1, '12380': 3, '3197': 3, '6160': 3, '8589': 7, '9417': 2, '9829': 15, '14638': 5, '14924': 23, '15972': 1, '17228': 12, '18940': 15, '19090': 3, '19475': 3, '20207': 10, '22644': 12, '22790': 8, '24001': 6, '25228': 5, '9710': 20, '3345': 15, '3430': 5, '5266': 6, '5995': 3, '7999': 1, '8047': 2, '8178': 2, '8868': 1, '10824': 2, '15144': 13, '19107': 6, '19806': 2, '22439': 3, '23304': 1, '24431': 8, '11077': 14, '10211': 10, '14972': 3, '15300': 19, '17158': 3, '17162': 2, '17403': 4, '20149': 2, '20519': 3, '21389': 5, '22951': 8, '23912': 3, '23918': 4, '25589': 3, '6895': 1, '3076': 4, '7444': 28, '8972': 4, '17308': 2, '20574': 37, '21629': 7, '245': 2, '4983': 2, '13480': 6, '14562': 1, '15912': 2, '16976': 11, '19974': 4, '22245': 1, '414': 1, '8708': 1, '23776': 1, '1044': 8, '4975': 5, '5809': 2, '12587': 15, '16123': 5, '20303': 10, '4451': 2, '9983': 1, '15205': 4, '15666': 3, '15667': 3, '19093': 5, '21031': 2, '24330': 20, '5840': 2, '6732': 7, '8614': 1, '13847': 7, '15081': 4, '22609': 3, '3310': 16, '5143': 2, '9735': 4, '17396': 1, '26138': 2, '4700': 2, '5606': 2, '1386': 3, '1738': 3, '2566': 3, '2720': 3, '5634': 2, '9870': 3, '16779': 2, '24475': 3, '25931': 10, '1817': 5, '3725': 4, '5366': 2, '15911': 4, '9800': 9, '26141': 4, '18001': 2, '22177': 21, '25480': 7, '1425': 9, '2501': 10, '2823': 4, '5136': 2, '7105': 5, '7317': 7, '9127': 4, '14615': 10, '17089': 6, '19454': 3, '22758': 11, '23841': 10, '3207': 1, '7125': 10, '20683': 7, '25419': 5, '2591': 6, '8932': 1, '9188': 3, '9773': 2, '13713': 2, '19179': 7, '14818': 5, '26190': 5, '3839': 15, '13615': 3, '16674': 13, '7042': 4, '9269': 2, '11661': 8, '21994': 17, '9943': 11, '10096': 18, '15614': 7, '16368': 11, '17285': 6, '21407': 6, '8715': 4, '21142': 2, '21167': 2, '13621': 1, '25388': 1, '284': 1, '6427': 6, '16835': 2, '18677': 2, '21696': 2, '25854': 2, '25940': 2, '9485': 2, '10435': 3, '14698': 1, '21823': 3, '811': 9, '9964': 4, '11919': 4, '15123': 3, '17021': 2, '19517': 8, '22989': 5, '23485': 6, '8069': 2, '2127': 1, '11712': 12, '10871': 14, '15829': 4, '16106': 4, '17207': 10, '17670': 4, '18286': 7, '18612': 4, '19234': 1, '19724': 3, '22876': 13, '3412': 3, '894': 5, '4814': 10, '5441': 8, '5717': 9, '5934': 17, '9075': 2, '10623': 6, '11223': 4, '11491': 3, '12659': 9, '14351': 9, '19807': 2, '21324': 5, '21665': 4, '22734': 3, '22778': 10, '23246': 6, '25698': 13, '7615': 7, '12806': 6, '1620': 7, '3922': 10, '9133': 1, '9895': 1, '9907': 10, '11791': 3, '18457': 1, '19131': 1, '19997': 1, '21491': 20, '22426': 6, '22791': 2, '25158': 3, '25316': 6, '352': 3, '3996': 5, '10555': 6, '15850': 5, '19101': 5, '20533': 3, '21943': 13, '22603': 2, '23513': 4, '25034': 19, '1280': 3, '5851': 3, '11591': 8, '13520': 16, '16921': 12, '21646': 9, '17559': 13, '1674': 6, '3323': 5, '8680': 5, '9184': 21, '13813': 13, '19204': 11, '19206': 3, '19657': 10, '20373': 25, '23204': 12, '409': 3, '2474': 3, '4241': 18, '6746': 3, '10476': 4, '16568': 4, '21771': 7, '24620': 3, '2081': 1, '2664': 1, '12212': 15, '13528': 2, '14628': 2, '22574': 9, '25872': 1, '1545': 14, '2202': 4, '15206': 1, '17233': 4, '18158': 3, '21317': 2, '24271': 4, '8547': 4, '10791': 15, '10919': 2, '11275': 19, '15600': 3, '15608': 6, '16644': 1, '24568': 8, '25996': 5, '26098': 6, '1059': 3, '6154': 15, '7725': 6, '11125': 3, '13705': 1, '15435': 14, '16039': 7, '17821': 2, '18540': 14, '20536': 2, '23529': 9, '10588': 12, '3916': 8, '4525': 8, '4952': 28, '5352': 4, '5729': 3, '10490': 9, '12101': 12, '13801': 45, '15311': 5, '21754': 12, '23134': 21, '24614': 7, '4493': 5, '14627': 5, '23720': 6, '930': 5, '3946': 1, '4760': 2, '17189': 4, '10463': 2, '10526': 1, '11788': 3, '17746': 6, '18189': 1, '21438': 1, '22611': 2, '26038': 15, '4195': 5, '7069': 4, '9098': 2, '17721': 10, '21723': 5, '24587': 1, '7895': 2, '11863': 2, '12110': 3, '1000': 25, '1149': 9, '1694': 10, '2115': 17, '4575': 19, '5605': 10, '6288': 6, '12016': 7, '12070': 10, '13469': 12, '16101': 10, '18250': 2, '20667': 1, '20716': 28, '23107': 9, '23344': 9, '23939': 17, '25402': 7, '25948': 4, '6963': 12, '8374': 3, '17465': 3, '19865': 26, '3006': 10, '3630': 8, '5901': 27, '5953': 14, '7911': 10, '8730': 3, '10406': 7, '12874': 6, '13177': 3, '16817': 9, '19723': 5, '24885': 7, '13653': 1, '22599': 2, '3265': 9, '3998': 3, '8513': 2, '10501': 2, '13029': 3, '13622': 2, '13682': 3, '16324': 7, '16640': 7, '16749': 3, '26059': 3, '26065': 9, '580': 2, '6431': 2, '1877': 10, '2042': 17, '15880': 9, '16967': 8, '19710': 3, '20014': 6, '23163': 3, '23225': 3, '3683': 1, '3845': 1, '6748': 2, '14664': 1, '16065': 1, '16963': 1, '20650': 2, '3804': 10, '4032': 2, '5194': 5, '23137': 2, '11495': 3, '12842': 15, '495': 4, '2742': 1, '3965': 2, '5622': 2, '7855': 1, '8928': 1, '8968': 10, '9458': 5, '17968': 6, '18375': 1, '8335': 9, '1104': 2, '5427': 1, '13322': 4, '13529': 1, '18619': 9, '18751': 8, '6494': 7, '2526': 6, '6364': 6, '6857': 10, '7853': 6, '14976': 6, '24781': 10, '321': 2, '21853': 5, '884': 2, '5469': 3, '5575': 3, '10183': 1, '10966': 6, '16624': 3, '24699': 4, '14308': 7, '5166': 3, '5597': 12, '9066': 7, '20787': 6, '23836': 15, '25050': 8, '5287': 10, '17273': 5, '9283': 7, '953': 3, '17794': 5, '114': 1, '2348': 1, '6631': 1, '8854': 5, '4290': 1, '8200': 2, '11113': 3, '12302': 2, '21017': 1, '23297': 5, '6355': 2, '7194': 5, '20960': 2, '7542': 1, '15322': 1, '18415': 5, '23066': 3, '3765': 7, '14500': 2, '17918': 2, '3418': 5, '4798': 6, '12866': 3, '20196': 2, '2004': 1, '21191': 1, '21663': 2, '14020': 5, '22203': 3, '1600': 2, '15905': 1, '21635': 2, '16543': 8, '238': 4, '4793': 7, '6218': 13, '15516': 5, '16553': 4, '16563': 4, '16565': 4, '22964': 3, '8442': 2, '10412': 2, '8887': 1, '6072': 1, '491': 11, '1124': 7, '1818': 3, '4552': 3, '5739': 4, '6823': 21, '7882': 8, '13328': 8, '17039': 3, '17082': 10, '22028': 5, '23454': 1, '3681': 3, '7126': 2, '3547': 13, '449': 30, '882': 4, '1405': 2, '1498': 3, '3033': 3, '3048': 5, '3511': 2, '7091': 3, '14707': 8, '17245': 6, '18340': 1, '6804': 7, '12260': 2, '19624': 4, '22826': 5, '25491': 2, '25844': 1, '6184': 1, '19161': 4, '21831': 3, '88': 42, '1995': 42, '2338': 42, '2530': 42, '2535': 42, '4355': 31, '4755': 42, '5210': 33, '6340': 42, '7197': 42, '7635': 42, '8727': 33, '9313': 31, '9656': 42, '9869': 41, '10350': 43, '12507': 42, '12710': 33, '14648': 31, '14766': 42, '15010': 42, '15244': 59, '15245': 33, '15457': 34, '15933': 41, '16654': 42, '17807': 42, '18225': 42, '18453': 36, '18778': 34, '19114': 31, '19446': 33, '19645': 42, '19939': 42, '20346': 2, '20576': 41, '21178': 31, '22504': 33, '23712': 34, '24453': 5, '24718': 40, '12308': 4, '15935': 5, '18276': 4, '18904': 5, '2190': 4, '6172': 6, '8592': 6, '14933': 4, '4249': 2, '21718': 6, '22290': 2, '23441': 11, '24113': 1, '6421': 6, '8224': 6, '11182': 4, '11696': 19, '12286': 10, '23423': 5, '500': 8, '2085': 4, '2568': 5, '3099': 5, '4468': 2, '4631': 3, '9892': 6, '10358': 3, '10458': 7, '10615': 8, '11011': 7, '12074': 6, '13971': 2, '14079': 3, '16754': 6, '18783': 2, '19612': 6, '20552': 4, '20553': 2, '21032': 3, '23355': 3, '24454': 3, '25086': 10, '25180': 2, '25785': 6, '10539': 4, '4254': 1, '9337': 1, '1497': 2, '6724': 8, '16890': 1, '2630': 5, '7563': 7, '14403': 11, '17392': 3, '23503': 8, '2558': 2, '21910': 11, '18910': 2, '2511': 5, '10986': 1, '13318': 3, '14051': 6, '14414': 2, '22119': 3, '1006': 2, '4351': 9, '11372': 19, '16414': 21, '639': 7, '1941': 7, '5227': 3, '7015': 3, '9647': 5, '12852': 1, '15846': 10, '16333': 1, '16347': 8, '4576': 1, '6941': 5, '7206': 1, '7485': 3, '9389': 3, '9426': 3, '10246': 1, '11026': 6, '17953': 2, '18946': 1, '18983': 4, '19013': 2, '23458': 4, '23986': 7, '4697': 5, '3007': 2, '22082': 5, '25537': 3, '5695': 17, '574': 2, '6971': 4, '13282': 5, '15409': 2, '18745': 3, '18758': 3, '21497': 3, '22366': 19, '23714': 2, '1153': 1, '17501': 13, '4183': 1, '6010': 2, '9862': 7, '12370': 3, '16834': 2, '16853': 3, '16899': 4, '21199': 2, '22299': 4, '22309': 3, '22620': 2, '20248': 2, '12679': 2, '573': 4, '1430': 2, '2072': 16, '4966': 3, '19493': 5, '22278': 3, '5769': 2, '10896': 1, '20915': 1, '22848': 2, '1347': 1, '4782': 7, '15582': 7, '17472': 7, '19707': 7, '21930': 7, '24835': 8, '24959': 1, '24009': 9, '283': 2, '1880': 1, '5505': 3, '15959': 9, '15961': 1, '24444': 3, '14316': 3, '14690': 8, '22254': 1, '749': 1, '1373': 5, '3607': 2, '7245': 8, '8031': 4, '15907': 1, '19164': 4, '302': 2, '2335': 2, '6702': 1, '11490': 5, '16108': 2, '17174': 1, '17924': 1, '3999': 1, '8211': 2, '12373': 2, '20059': 7, '2155': 10, '4283': 3, '6408': 12, '7715': 2, '8920': 1, '23256': 5, '2607': 11, '3450': 2, '4588': 6, '5130': 4, '5353': 4, '5835': 6, '9450': 10, '12165': 4, '12722': 7, '20003': 4, '20184': 4, '24640': 3, '4685': 3, '15415': 1, '24152': 1, '8376': 3, '8888': 3, '13067': 6, '4213': 3, '7045': 10, '11892': 1, '20645': 2, '23264': 1, '10600': 6, '13493': 3, '13496': 2, '18788': 4, '18791': 2, '23394': 6, '140': 6, '17304': 4, '18587': 4, '19404': 6, '22462': 4, '24122': 1, '1078': 5, '5164': 4, '9387': 1, '11640': 2, '12545': 22, '13371': 4, '17116': 5, '19741': 5, '22149': 1, '16331': 3, '19184': 2, '17843': 5, '1685': 9, '8134': 6, '12687': 11, '23409': 2, '1321': 4, '4433': 2, '5125': 3, '7625': 6, '10895': 8, '11899': 1, '13711': 4, '16162': 6, '16475': 2, '19167': 1, '19387': 4, '21089': 11, '21727': 2, '23863': 2, '25565': 4, '5060': 1, '20660': 4, '1608': 2, '20030': 7, '11447': 4, '834': 3, '2490': 5, '5570': 3, '15625': 1, '15917': 4, '18140': 14, '18790': 2, '24110': 7, '4466': 6, '8505': 2, '16357': 10, '20116': 7, '20148': 12, '22899': 5, '25710': 3, '4068': 13, '9517': 2, '11400': 18, '11630': 5, '11700': 1, '11733': 13, '11951': 3, '12268': 7, '14093': 5, '15685': 2, '16006': 17, '16495': 6, '17135': 2, '20169': 2, '22188': 8, '22189': 2, '22621': 3, '22811': 2, '22975': 5, '23110': 8, '23509': 3, '23552': 14, '23805': 12, '23806': 3, '25557': 5, '25562': 5, '7801': 6, '14089': 5, '14967': 5, '25215': 5, '11868': 3, '24023': 9, '2559': 3, '5543': 3, '5767': 4, '10931': 10, '24097': 10, '14952': 12, '16953': 3, '20191': 3, '25934': 2, '10467': 3, '13175': 2, '20892': 4, '21816': 2, '25209': 6, '14371': 1, '17443': 6, '141': 4, '8408': 8, '17286': 4, '25827': 2, '5246': 3, '10524': 2, '12337': 2, '15419': 1, '24': 4, '3858': 4, '15066': 21, '23161': 4, '25378': 11, '205': 6, '12389': 2, '15718': 1, '16506': 3, '21650': 7, '22502': 3, '482': 13, '3411': 3, '4428': 3, '5392': 8, '6317': 4, '7541': 8, '15664': 4, '16469': 19, '17665': 7, '20424': 4, '24734': 3, '8206': 1, '12865': 1, '13384': 16, '17688': 5, '3826': 2, '12369': 2, '13498': 1, '19111': 2, '22239': 2, '19084': 5, '23943': 4, '75': 1, '8807': 4, '22530': 2, '15353': 4, '3449': 2, '17950': 1, '18522': 1, '6709': 1, '18003': 2, '5545': 1, '12135': 6, '2475': 3, '3209': 2, '15973': 2, '21928': 3, '24765': 5, '6219': 3, '18160': 3, '1833': 2, '8177': 7, '12107': 2, '4819': 2, '7863': 2, '8596': 2, '13635': 4, '17848': 1, '25152': 2, '25408': 4, '11891': 4, '20243': 4, '19233': 3, '733': 2, '20597': 2, '3171': 1, '19149': 1, '19340': 11, '7824': 4, '8815': 2, '12065': 3, '14558': 2, '15306': 1, '15400': 1, '22528': 2, '22832': 2, '10969': 2, '13321': 1, '16958': 1, '19109': 5, '23346': 1, '2848': 2, '4896': 10, '8666': 9, '10552': 1, '12884': 9, '18511': 9, '25988': 2, '22371': 1, '11566': 2, '11808': 2, '18560': 2, '15249': 1, '15624': 1, '1058': 9, '2614': 2, '3730': 3, '7449': 3, '10801': 12, '14661': 13, '21321': 6, '22376': 4, '24295': 4, '5485': 3, '23870': 5, '6638': 6, '17754': 2, '25674': 1, '9273': 2, '9325': 7, '2783': 2, '9408': 2, '12927': 16, '13310': 2, '6264': 32, '7204': 6, '12247': 5, '19433': 8, '18867': 1, '24943': 1, '731': 1, '17359': 9, '23558': 4, '6828': 1, '25319': 1, '3953': 4, '13196': 4, '15568': 6, '17163': 3, '22954': 3, '14606': 2, '22144': 11, '1840': 5, '4713': 5, '6824': 5, '12492': 5, '10478': 1, '16675': 1, '13859': 8, '4141': 4, '9267': 3, '11052': 6, '16091': 3, '17755': 2, '20053': 1, '22395': 3, '26168': 3, '8378': 1, '16607': 4, '2054': 5, '1552': 1, '8719': 1, '9760': 1, '10355': 1, '13741': 1, '5116': 5, '9629': 12, '7087': 11, '9984': 3, '10153': 4, '10543': 6, '10967': 2, '16336': 2, '20435': 2, '20479': 2, '21433': 2, '25569': 10, '25783': 7, '7039': 3, '12166': 3, '14970': 2, '7277': 9, '16766': 3, '16770': 3, '16858': 3, '17113': 12, '17389': 3, '18408': 10, '19089': 5, '20033': 4, '23429': 4, '24578': 4, '4724': 4, '6904': 4, '7452': 1, '12491': 15, '13369': 9, '14346': 1, '18065': 8, '18271': 9, '19244': 1, '23989': 1, '10983': 12, '4642': 1, '16708': 4, '8231': 1, '9616': 8, '24149': 1, '1519': 3, '8768': 18, '9937': 7, '24270': 7, '25435': 6, '5181': 4, '6316': 1, '17235': 2, '2870': 11, '2536': 4, '9207': 5, '9732': 4, '12654': 8, '16041': 4, '22555': 13, '24753': 13, '25870': 1, '5830': 2, '10991': 1, '17306': 4, '19924': 1, '10923': 6, '11821': 3, '16013': 4, '21469': 3, '11944': 2, '16429': 6, '25784': 2, '21608': 9, '23092': 3, '25571': 1, '5444': 2, '11734': 3, '13931': 3, '21549': 2, '25615': 2, '8476': 1, '13388': 2, '12739': 7, '4847': 3, '10842': 3, '11293': 13, '25125': 4, '1672': 4, '8079': 4, '11461': 6, '16755': 3, '1711': 8, '3174': 1, '6726': 1, '6813': 5, '13703': 2, '20046': 8, '20854': 2, '5411': 3, '5503': 4, '10390': 3, '11186': 3, '7522': 4, '9944': 1, '17086': 4, '21341': 3, '16010': 6, '22696': 2, '25585': 4, '3526': 2, '15786': 2, '135': 11, '1776': 4, '4102': 9, '12311': 5, '12675': 9, '15816': 4, '19945': 5, '26176': 5, '1550': 3, '20952': 3, '24280': 3, '365': 5, '9511': 6, '14552': 5, '15585': 5, '16906': 4, '17187': 5, '18579': 13, '18736': 11, '19791': 5, '1229': 7, '1862': 1, '3194': 1, '3532': 1, '5400': 1, '7154': 13, '9946': 2, '10381': 9, '11107': 8, '17934': 1, '22721': 3, '24129': 1, '215': 17, '185': 17, '351': 17, '1074': 17, '1858': 17, '4512': 17, '6892': 17, '8280': 17, '14542': 17, '17751': 17, '18095': 17, '18143': 17, '18649': 17, '18943': 17, '19573': 17, '22601': 37, '22793': 17, '3877': 20, '4354': 20, '5412': 20, '6544': 20, '7357': 20, '7719': 20, '10477': 20, '11445': 20, '12788': 20, '18185': 20, '19246': 20, '19463': 20, '20780': 20, '21861': 20, '22284': 20, '22741': 20, '23514': 20, '18161': 1, '11093': 2, '165': 2, '293': 2, '3228': 6, '6556': 3, '17194': 5, '6524': 6, '22436': 2, '9504': 2, '5359': 2, '2915': 3, '10956': 6, '20089': 3, '25358': 2, '2350': 2, '2385': 3, '20783': 3, '25405': 2, '15209': 2, '15669': 3, '10807': 2, '21466': 6, '6832': 1, '19557': 2, '1090': 6, '3990': 3, '4635': 2, '4759': 2, '15166': 3, '24860': 4, '6375': 5, '10519': 3, '20230': 1, '4775': 2, '7095': 2, '9138': 1, '9432': 5, '20229': 2, '2926': 2, '22275': 6, '6023': 11, '13624': 5, '19682': 4, '17859': 3, '6075': 3, '13932': 1, '14499': 2, '20345': 2, '4023': 3, '11902': 4, '13647': 6, '19146': 3, '22699': 6, '23622': 1, '25057': 2, '11617': 1, '21029': 1, '12040': 5, '1217': 24, '269': 3, '1150': 3, '1611': 3, '2165': 13, '3944': 3, '5488': 5, '6033': 6, '8128': 5, '9974': 4, '12735': 5, '14430': 15, '19877': 5, '20495': 2, '21638': 3, '21708': 3, '22242': 10, '23233': 8, '24126': 6, '25648': 6, '3501': 23, '16278': 3, '24705': 7, '19355': 1, '22018': 8, '25660': 5, '3312': 3, '11493': 3, '5059': 1, '21530': 2, '13485': 1, '11032': 2, '10719': 4, '2200': 4, '17729': 2, '20052': 7, '21830': 3, '379': 2, '6064': 6, '9439': 6, '10907': 2, '4638': 1, '23909': 1, '18237': 1, '19219': 2, '18171': 2, '85': 1, '5413': 1, '8630': 1, '16521': 4, '20517': 3, '26005': 1, '8774': 7, '5209': 12, '6943': 2, '22748': 2, '24057': 23, '25902': 9, '1014': 4, '12112': 2, '17440': 2, '19150': 4, '21027': 2, '8087': 3, '15523': 2, '17339': 1, '19711': 1, '20307': 2, '1194': 1, '21858': 1, '7829': 4, '5360': 1, '19544': 1, '715': 4, '16554': 1, '4252': 1, '24451': 2, '23856': 1, '6095': 3, '7446': 4, '25236': 3, '2852': 2, '12599': 7, '25056': 2, '25721': 2, '11638': 2, '7246': 2, '17240': 2, '25091': 1, '13970': 1, '80': 2, '8742': 3, '23063': 2, '19903': 1, '25469': 7, '2851': 2, '11416': 7, '23751': 4, '8552': 5, '1595': 1, '1910': 2, '2293': 3, '4135': 5, '4554': 2, '9316': 2, '16498': 4, '17939': 1, '21587': 3, '24160': 2, '25354': 4, '10676': 1, '24961': 1, '8305': 3, '22771': 1, '1736': 6, '1914': 4, '7586': 3, '14424': 5, '19462': 5, '2569': 1, '5546': 1, '3654': 3, '11557': 15, '14154': 1, '15477': 9, '15882': 1, '281': 8, '5241': 1, '9471': 24, '20765': 18, '3948': 2, '4013': 10, '25516': 8, '25684': 3, '546': 2, '8641': 5, '19922': 5, '23175': 2, '21206': 1, '25662': 1, '887': 2, '3721': 2, '9634': 3, '14781': 2, '18972': 1, '25321': 2, '8074': 3, '13164': 13, '14541': 2, '15127': 2, '18524': 2, '16230': 1, '20702': 3, '25225': 3, '70': 2, '4727': 4, '15559': 5, '123': 1, '23240': 1, '3980': 2, '16962': 2, '3821': 1, '17991': 2, '3875': 1, '9094': 1, '19061': 1, '2080': 2, '4069': 1, '5385': 13, '1968': 1, '9082': 6, '9306': 11, '15942': 1, '1588': 19, '2805': 2, '8063': 5, '9419': 1, '5827': 1, '6351': 3, '6527': 1, '10881': 1, '5367': 4, '14983': 4, '19144': 4, '24183': 7, '2184': 3, '3193': 7, '4371': 6, '15998': 6, '23866': 1, '26004': 7, '11822': 1, '21016': 1, '21169': 1, '2936': 1, '10354': 1, '18905': 2, '21563': 2, '15198': 1, '18067': 1, '18297': 6, '19781': 8, '10186': 1, '1327': 1, '6738': 1, '10825': 2, '25863': 1, '4382': 1, '2789': 5, '6641': 1, '15920': 2, '18233': 3, '24582': 2, '24583': 1, '6583': 25, '15960': 2, '15974': 2, '17564': 1, '18782': 5, '23883': 4, '14033': 6, '25383': 1, '22197': 4, '9255': 4, '20065': 2, '22917': 11, '23910': 1, '25572': 2, '25582': 9, '193': 4, '9993': 4, '10819': 4, '11231': 6, '12149': 3, '20129': 6, '23114': 14, '4878': 2, '5184': 3, '8643': 3, '11967': 4, '21779': 3, '24503': 2, '24942': 2, '2119': 1, '7637': 1, '11442': 5, '13651': 2, '81': 2, '1029': 2, '3819': 1, '869': 5, '3618': 13, '14709': 6, '122': 8, '6530': 3, '6707': 3, '6911': 3, '15479': 3, '3524': 2, '19927': 4, '19350': 3, '25959': 1, '7281': 1, '25597': 3, '727': 6, '8471': 12, '16649': 3, '18331': 12, '19469': 2, '1105': 1, '14985': 1, '17911': 14, '26127': 8, '20215': 2, '21333': 2, '18625': 1, '7584': 3, '12049': 3, '12763': 2, '17382': 3, '408': 2, '13834': 1, '17149': 6, '23267': 1, '5843': 3, '11213': 3, '25877': 2, '5361': 1, '18097': 1, '272': 6, '2912': 18, '11811': 6, '11840': 6, '19012': 5, '20305': 5, '4483': 7, '6175': 3, '6266': 3, '8215': 3, '8310': 1, '21401': 4, '4673': 10, '7475': 6, '11426': 3, '23673': 2, '26088': 8, '2797': 8, '9314': 1, '12291': 1, '12639': 2, '13292': 1, '13320': 1, '12664': 2, '1109': 3, '9126': 3, '10655': 3, '11610': 3, '12742': 4, '18445': 1, '4052': 1, '195': 3, '17208': 2, '19168': 3, '20119': 5, '21929': 2, '17589': 1, '6533': 3, '8155': 5, '14165': 8, '24204': 3, '25911': 2, '24506': 3, '24595': 2, '9483': 2, '25250': 7, '1258': 4, '12032': 5, '12797': 2, '21584': 2, '6434': 6, '21162': 5, '10879': 3, '11925': 3, '15082': 3, '18595': 2, '8787': 1, '11979': 3, '16274': 5, '22722': 2, '183': 1, '3982': 1, '9090': 10, '17543': 4, '18723': 4, '21090': 3, '24589': 4, '23145': 3, '7573': 1, '8193': 1, '16576': 1, '16889': 1, '18521': 3, '21391': 2, '244': 7, '1353': 4, '3286': 3, '4765': 7, '16900': 3, '18030': 9, '22246': 3, '3752': 3, '4650': 2, '15971': 5, '24174': 3, '16765': 4, '17017': 1, '17161': 2, '8925': 3, '16505': 5, '20255': 1, '21450': 5, '3743': 8, '839': 2, '2394': 5, '5848': 4, '7098': 3, '12642': 1, '21184': 3, '23149': 4, '4442': 12, '7935': 4, '25896': 7, '12406': 10, '16485': 2, '3034': 2, '6156': 4, '18381': 4, '19686': 3, '20335': 3, '22523': 10, '2451': 1, '2341': 2, '3508': 1, '12641': 1, '13068': 1, '23723': 8, '9713': 2, '1963': 2, '4302': 4, '8475': 4, '19022': 6, '26181': 4, '364': 4, '396': 4, '13616': 1, '15214': 3, '23266': 2, '5425': 5, '2784': 3, '16109': 3, '16224': 2, '21808': 3, '24161': 2, '21927': 4, '6626': 3, '10805': 3, '25069': 2, '25628': 3, '2239': 4, '10652': 5, '17984': 6, '22147': 6, '22979': 4, '24592': 3, '2877': 3, '3876': 3, '7481': 3, '9338': 1, '12611': 5, '12861': 3, '15175': 3, '22493': 7, '4301': 2, '16265': 2, '21614': 2, '7578': 5, '14834': 14, '15821': 4, '22100': 9, '11607': 4, '19351': 4, '2563': 1, '8437': 2, '12071': 2, '2770': 4, '6806': 2, '11806': 2, '8678': 2, '8301': 2, '267': 3, '24240': 8, '6632': 3, '8386': 4, '12187': 10, '13153': 4, '14345': 1, '10081': 5, '3185': 1, '13291': 3, '20547': 3, '20792': 3, '7885': 2, '19551': 3, '22190': 1, '9758': 3, '17006': 4, '1859': 2, '4298': 4, '15192': 2, '17274': 2, '18941': 2, '20902': 4, '21798': 8, '3631': 1, '23901': 2, '13702': 6, '14667': 8, '17874': 6, '18152': 1, '19978': 3, '199': 2, '16935': 3, '6482': 13, '24148': 3, '11629': 3, '17099': 1, '11325': 6, '11318': 13, '12720': 13, '25729': 4, '12743': 2, '21712': 2, '950': 7, '1265': 10, '1839': 9, '3063': 3, '3502': 9, '4446': 4, '5639': 7, '6009': 4, '6896': 4, '9736': 4, '9980': 2, '13470': 2, '15126': 9, '16881': 9, '17828': 9, '17875': 3, '18210': 3, '19140': 7, '19316': 4, '23095': 3, '23864': 9, '25910': 12, '25917': 3, '14286': 3, '17131': 3, '20940': 6, '6039': 1, '6176': 2, '6303': 2, '15161': 2, '20949': 3, '22879': 5, '18215': 11, '19051': 1, '21125': 12, '2656': 2, '14560': 2, '24251': 2, '1098': 3, '16107': 1, '26171': 1, '8150': 2, '16703': 4, '13202': 1, '22253': 2, '4128': 1, '5738': 6, '5478': 3, '6538': 6, '8349': 6, '12042': 1, '17252': 3, '18142': 3, '13501': 2, '16216': 1, '1490': 1, '20813': 1, '4781': 3, '6081': 2, '6919': 1, '19358': 2, '23616': 1, '4756': 3, '5497': 3, '8298': 5, '12709': 2, '18443': 4, '18658': 2, '18667': 3, '26157': 2, '450': 1, '11284': 4, '11910': 2, '23477': 2, '11923': 1, '4293': 3, '20616': 2, '11602': 4, '5636': 1, '17988': 1, '2883': 2, '4015': 2, '25189': 4, '2055': 2, '2560': 9, '4146': 13, '10926': 9, '12553': 9, '18668': 9, '15495': 4, '9264': 5, '12614': 3, '24970': 6, '10640': 2, '15247': 2, '17426': 2, '3037': 2, '9712': 2, '10726': 7, '16482': 11, '17990': 3, '23151': 10, '2339': 1, '24594': 1, '5477': 2, '13497': 1, '14496': 2, '19457': 1, '5529': 4, '5655': 8, '2771': 4, '5417': 3, '13352': 8, '13619': 6, '18585': 6, '20513': 3, '4117': 2, '16471': 2, '4199': 4, '6443': 4, '19932': 4, '19936': 6, '25864': 4, '2118': 1, '26132': 1, '17944': 3, '20884': 2, '200': 14, '492': 14, '4422': 8, '6708': 14, '7013': 18, '8151': 14, '9020': 14, '9021': 14, '9208': 14, '9722': 14, '16719': 2, '16882': 14, '17016': 2, '17022': 14, '19586': 14, '19678': 14, '24861': 14, '9994': 2, '17276': 2, '18383': 2, '12701': 4, '18879': 4, '11841': 1, '20550': 1, '4211': 9, '7104': 2, '11670': 7, '11876': 5, '17808': 4, '24121': 4, '25962': 2, '22283': 1, '15824': 1, '21195': 4, '15171': 4, '15305': 6, '17864': 4, '23417': 4, '4139': 4, '5698': 1, '9659': 5, '10496': 7, '11713': 1, '20002': 4, '25598': 2, '25607': 8, '25661': 3, '4138': 2, '11328': 4, '2455': 2, '14353': 2, '14886': 4, '2043': 2, '6315': 2, '21131': 1, '23859': 1, '5156': 5, '7483': 1, '10904': 2, '12707': 2, '14282': 2, '17933': 1, '294': 1, '8626': 1, '21546': 1, '11459': 1, '6706': 1, '8428': 3, '10637': 2, '18603': 1, '21340': 2, '12868': 1, '17180': 1, '17738': 8, '18154': 1, '16213': 3, '20383': 5, '24870': 4, '6703': 3, '12803': 2, '13999': 4, '15596': 3, '17592': 2, '18920': 6, '15657': 2, '10878': 5, '26020': 2, '11034': 3, '18764': 3, '22433': 3, '9093': 1, '13680': 1, '13346': 13, '6183': 5, '369': 5, '7727': 3, '16433': 5, '16570': 4, '5601': 2, '7645': 6, '13675': 1, '4186': 1, '12616': 2, '4485': 2, '16266': 2, '1822': 1, '6503': 5, '3773': 1, '12887': 1, '21695': 4, '1594': 5, '4774': 4, '5673': 4, '15382': 3, '16717': 7, '19603': 4, '15172': 1, '17076': 1, '19018': 2, '17595': 3, '5078': 8, '25172': 8, '11035': 1, '21864': 3, '4284': 2, '9643': 4, '13837': 5, '15194': 2, '15623': 3, '17250': 5, '23470': 6, '25094': 3, '26067': 2, '6056': 10, '17289': 2, '23051': 8, '8823': 24, '9194': 2, '6635': 2, '9216': 3, '19019': 1, '22507': 3, '5519': 6, '5730': 1, '11047': 4, '15252': 1, '21289': 2, '26167': 2, '25112': 1, '13389': 1, '6185': 1, '23224': 3, '24412': 9, '5363': 4, '253': 3, '4634': 3, '17122': 1, '21051': 4, '2259': 1, '10317': 2, '11816': 1, '6448': 1, '1346': 1, '2136': 2, '9591': 11, '17453': 7, '309': 5, '2186': 1, '6012': 5, '10677': 3, '11030': 5, '13704': 1, '17015': 5, '23946': 5, '25611': 5, '1050': 1, '17120': 1, '9595': 1, '6744': 1, '1125': 1, '8055': 2, '8526': 3, '9486': 1, '11537': 4, '12453': 15, '18880': 2, '18909': 1, '19962': 2, '23476': 3, '19078': 3, '20427': 4, '8520': 2, '16177': 3, '21100': 6, '21156': 3, '9125': 2, '15943': 2, '15626': 1, '1154': 2, '12017': 2, '12930': 4, '8704': 2, '17591': 2, '12161': 1, '19162': 1, '1093': 3, '3059': 3, '9649': 4, '10251': 5, '25903': 1, '4143': 5, '6808': 4, '7802': 4, '17127': 3, '20554': 1, '21777': 2, '22108': 5, '23555': 4, '25718': 3, '4247': 3, '4250': 3, '8726': 2, '9491': 4, '11379': 8, '11405': 2, '15196': 2, '15938': 3, '17126': 2, '17764': 7, '232': 1, '1075': 1, '8737': 2, '13481': 1, '13862': 3, '16742': 1, '24402': 5, '128': 4, '4353': 6, '6558': 4, '6920': 3, '14865': 4, '15941': 5, '16877': 3, '10000': 1, '17337': 2, '21634': 1, '851': 6, '2713': 3, '13199': 5, '16837': 1, '18032': 1, '19568': 4, '20004': 3, '1341': 4, '1408': 3, '4273': 4, '5259': 5, '7355': 8, '9143': 7, '14357': 4, '16332': 3, '19940': 2, '853': 4, '8441': 1, '16070': 1, '16087': 1, '17231': 2, '19434': 1, '23944': 1, '24499': 1, '10062': 7, '23681': 6, '23727': 1, '2169': 5, '5938': 3, '16084': 1, '18724': 3, '18739': 4, '19581': 1, '20954': 2, '23991': 3, '6629': 1, '8786': 6, '14078': 5, '22088': 1, '22224': 5, '4641': 2, '17937': 2, '21660': 1, '12056': 1, '2761': 4, '14647': 4, '4269': 3, '26159': 3, '3066': 6, '5434': 4, '7991': 4, '8116': 20, '11609': 8, '15384': 2, '16946': 3, '17612': 9, '15528': 4, '163': 2, '3825': 2, '20893': 2, '10910': 3, '25777': 10, '14771': 1, '24127': 1, '2143': 1, '12118': 15, '15329': 3, '25116': 3, '12689': 3, '17560': 3, '21697': 3, '17599': 2, '19442': 4, '12419': 3, '3507': 3, '11626': 2, '19313': 2, '21755': 1, '19356': 1, '23465': 1, '598': 1, '5255': 2, '8864': 4, '16131': 4, '16235': 2, '16280': 4, '17137': 4, '23810': 2, '1728': 4, '5656': 4, '6082': 1, '18488': 4, '22610': 4, '6390': 1, '5731': 1, '6280': 5, '1499': 2, '20261': 2, '24002': 1, '23653': 1, '5225': 6, '3849': 3, '7010': 3, '7506': 3, '9312': 3, '20781': 2, '8728': 2, '11227': 3, '5862': 6, '7959': 2, '17569': 1, '18973': 3, '19207': 3, '19580': 4, '3988': 1, '16348': 1, '4017': 2, '7888': 2, '17291': 2, '1008': 8, '2185': 8, '8369': 4, '11824': 8, '12066': 8, '16888': 4, '20808': 8, '21815': 8, '1985': 2, '9763': 4, '21657': 1, '16225': 2, '21404': 2, '26058': 5, '9893': 1, '20526': 2, '5202': 3, '17800': 3, '21995': 2, '3188': 1, '3136': 4, '9248': 5, '11108': 1, '13966': 8, '4189': 2, '16234': 2, '17251': 1, '18373': 4, '20557': 1, '19871': 2, '25526': 2, '23786': 2, '25534': 2, '11631': 2, '11861': 17, '18580': 2, '18623': 1, '20217': 3, '25436': 3, '21588': 1, '17797': 1, '1667': 9, '4258': 8, '5608': 4, '5771': 7, '6675': 10, '7386': 2, '16264': 7, '17401': 1, '18741': 7, '19895': 4, '20315': 4, '23741': 5, '25107': 10, '25439': 7, '16281': 1, '24728': 1, '2762': 1, '22378': 1, '9986': 1, '11719': 1, '4467': 1, '21658': 1, '23490': 2, '1669': 1, '12703': 2, '5260': 1, '6810': 3, '13636': 2, '16696': 2, '17739': 3, '19605': 2, '5838': 2, '11572': 3, '21630': 2, '6073': 2, '9391': 2, '2059': 1, '11746': 7, '21800': 4, '22372': 2, '6465': 5, '11563': 1, '15891': 5, '17385': 18, '1599': 1, '5812': 8, '17248': 3, '20618': 3, '20853': 6, '9392': 2, '24252': 1, '13422': 7, '16349': 1, '11939': 3, '17191': 1, '1350': 1, '1023': 29, '1675': 1, '2512': 3, '3058': 2, '11815': 2, '20924': 8, '23420': 1, '19464': 2, '23968': 2, '9597': 1, '11820': 2, '17019': 2, '17121': 1, '7811': 2, '22269': 4, '25272': 1, '1787': 3, '1279': 2, '14550': 2, '15258': 6, '7071': 3, '8195': 4, '15951': 5, '400': 1, '4379': 3, '6541': 3, '6905': 2, '8216': 3, '14498': 1, '17502': 2, '17740': 2, '5408': 2, '19609': 2, '11066': 3, '2340': 3, '2443': 13, '6918': 4, '7650': 37, '8184': 4, '8625': 7, '14369': 10, '15395': 12, '17583': 6, '25977': 2, '18684': 3, '19501': 4, '20942': 3, '17724': 2, '25957': 4, '25958': 1, '8263': 2, '12046': 1, '19126': 2, '2182': 5, '3553': 2, '15571': 6, '10918': 3, '20253': 2, '15388': 1, '15387': 1, '3955': 3, '10532': 11, '7524': 7, '8721': 8, '15005': 8, '15372': 10, '16022': 8, '18685': 7, '22083': 7, '22105': 2, '11522': 4, '8857': 4, '12235': 6, '22129': 3, '25387': 3, '2826': 5, '23216': 3, '8530': 2, '10906': 2, '21144': 1, '1073': 3, '18399': 1, '14149': 8, '3750': 3, '8147': 1, '11616': 2, '14662': 2, '16648': 1, '19560': 3, '22199': 1, '23530': 3, '4289': 2, '9135': 1, '12160': 3, '19809': 3, '4027': 1, '7450': 4, '836': 3, '16747': 5, '18193': 5, '9095': 1, '12043': 2, '18742': 1, '22890': 3, '26044': 1, '8876': 3, '10990': 1, '4255': 5, '4771': 6, '5251': 6, '18256': 9, '18337': 9, '20236': 3, '11279': 2, '9832': 2, '17750': 4, '22976': 1, '25609': 1, '124': 2, '14319': 3, '15663': 1, '16937': 2, '18052': 3, '20258': 2, '9151': 1, '25856': 1, '2047': 4, '3632': 4, '15383': 4, '24385': 11, '3716': 13, '8391': 4, '14497': 3, '24101': 5, '2388': 3, '16955': 3, '12981': 1, '19642': 2, '7592': 3, '8179': 1, '7579': 2, '21653': 3, '5542': 1, '4080': 4, '14747': 3, '17463': 1, '19324': 4, '20567': 11, '21550': 4, '24220': 4, '25179': 1, '25553': 4, '25554': 4, '11468': 2, '11470': 2, '17804': 3, '17294': 2, '2309': 3, '6532': 3, '8553': 1, '4633': 1, '11593': 1, '16818': 1, '23648': 1, '939': 1, '1834': 2, '5056': 2, '13664': 5, '14037': 1, '16940': 3, '19613': 3, '16335': 1, '6913': 1, '3594': 4, '10024': 5, '23713': 4, '10376': 5, '15325': 4, '20344': 3, '2001': 3, '3633': 2, '23064': 1, '5083': 2, '5084': 2, '8711': 2, '12712': 3, '14324': 2, '21409': 6, '17124': 5, '25719': 1, '8261': 18, '11464': 14, '17997': 14, '20662': 7, '22837': 7, '2316': 3, '11929': 1, '350': 2, '951': 2, '25676': 2, '2532': 1, '14067': 9, '20086': 2, '21772': 3, '15715': 1, '925': 1, '8615': 1, '6506': 4, '9037': 10, '13483': 1, '14711': 1, '23623': 2, '23686': 1, '864': 1, '1311': 3, '3983': 3, '26013': 3, '17882': 1, '18379': 1, '18217': 4, '26173': 2, '21297': 2, '18447': 2, '21165': 2, '4988': 3, '17125': 3, '9913': 2, '22382': 1, '17884': 2, '20538': 2, '24032': 2, '2009': 6, '7309': 1, '8156': 1, '8403': 5, '16011': 1, '22929': 1, '22993': 1, '8732': 3, '10022': 4, '14932': 6, '16659': 3, '22377': 3, '22806': 5, '14809': 1, '22953': 2, '23950': 2, '18489': 1, '95': 2, '15524': 1, '3291': 3, '12696': 1, '14869': 1, '6190': 4, '10656': 4, '11002': 2, '11403': 4, '20106': 2, '24060': 3, '25610': 4, '22693': 3, '23920': 3, '4458': 10, '5547': 3, '5659': 3, '7883': 3, '8387': 2, '12313': 3, '15160': 3, '19325': 3, '21205': 3, '22831': 3, '1556': 3, '11965': 1, '14096': 1, '23154': 1, '15191': 1, '5212': 4, '6628': 4, '19015': 4, '19444': 4, '25139': 4, '9441': 1, '10388': 2, '8222': 4, '21495': 5, '6807': 2, '2075': 3, '3873': 2, '4182': 3, '10439': 3, '14619': 1, '2044': 4, '4490': 4, '17001': 6, '18013': 6, '9147': 3, '24398': 5, '5216': 3, '17290': 1, '20155': 2, '1045': 1, '6265': 1, '5402': 1, '15947': 1, '2203': 1, '7594': 1, '21130': 5, '21615': 1, '2622': 1, '4960': 2, '16270': 7, '16102': 4, '17956': 5, '20375': 4, '22463': 4, '3878': 3, '16584': 4, '2997': 3, '6888': 3, '11664': 2, '4712': 1, '11017': 1, '7632': 2, '14170': 2, '20414': 3, '11427': 1, '5240': 6, '9074': 4, '12425': 4, '18275': 1, '20636': 2, '4640': 3, '19248': 3, '11109': 2, '21562': 2, '21149': 3, '312': 2, '16545': 2, '12786': 6, '13673': 7, '7958': 1, '25130': 3, '14543': 2, '21221': 2, '9266': 1, '2750': 1, '20668': 1, '3068': 1, '5631': 2, '16067': 2, '19569': 1, '2917': 2, '6031': 2, '2010': 3, '8064': 3, '20599': 3, '179': 3, '547': 5, '1829': 6, '1982': 3, '3178': 5, '4989': 4, '18870': 5, '20062': 4, '22464': 3, '6878': 3, '11528': 2, '22244': 1, '11812': 2, '24248': 2, '8122': 3, '9769': 3, '15253': 1, '16647': 3, '22489': 3, '23412': 1, '25443': 1, '8511': 8, '22503': 2, '13604': 1, '4704': 3, '8801': 4, '12695': 3, '15125': 3, '15420': 2, '25204': 1, '385': 6, '1323': 2, '1606': 5, '7072': 3, '9890': 1, '12849': 3, '14377': 3, '17981': 2, '18234': 3, '21220': 11, '22225': 2, '23506': 5, '23620': 4, '24332': 3, '376': 2, '2611': 4, '16620': 3, '1908': 4, '16621': 2, '12106': 2, '1267': 4, '1511': 3, '15793': 5, '18102': 4, '20772': 3, '23248': 1, '26193': 5, '10872': 2, '2666': 2, '24250': 2, '9630': 2, '10252': 2, '16820': 2, '22830': 2, '14159': 2, '5144': 2, '24852': 3, '8869': 1, '299': 5, '14174': 2, '18746': 2, '22051': 5, '22075': 2, '24713': 6, '14616': 2, '17817': 3, '2356': 1, '6337': 10, '17419': 8, '18105': 2, '2773': 5, '5661': 1, '6529': 5, '6543': 5, '16486': 2, '8523': 2, '19964': 5, '2342': 3, '2516': 3, '21998': 4, '941': 9, '13712': 7, '16727': 7, '22321': 7, '23383': 7, '25442': 8, '19980': 8, '5957': 14, '7716': 8, '11233': 8, '14090': 8, '18397': 8, '25541': 8, '2249': 8, '6077': 8, '6611': 8, '8672': 8, '19955': 8, '21832': 8, '3316': 2, '9759': 1, '11865': 1, '3199': 1, '19507': 2, '12798': 1, '855': 1, '4261': 1, '7772': 1, '23299': 1, '8871': 2, '17090': 2, '3772': 1, '4104': 4, '4431': 4, '4967': 2, '11152': 3, '15616': 3, '16262': 1, '18995': 4, '19562': 7, '22087': 3, '22109': 2, '22839': 3, '23683': 3, '24477': 7, '25304': 4, '14854': 3, '24489': 7, '6835': 1, '24219': 2, '3321': 3, '1151': 13, '2410': 13, '3843': 19, '6301': 13, '10247': 1, '15414': 13, '18743': 13, '22032': 13, '22903': 15, '23674': 13, '24294': 13, '24706': 13, '25998': 15, '2124': 1, '3293': 2, '5825': 4, '628': 1, '9413': 2, '13641': 1, '1962': 2, '1613': 4, '13992': 4, '15217': 4, '15665': 1, '16154': 8, '21159': 1, '915': 2, '10438': 2, '18624': 2, '20558': 2, '10026': 2, '15316': 3, '17249': 1, '18066': 3, '12787': 3, '21621': 6, '24877': 8, '93': 5, '17343': 2, '20328': 10, '9103': 2, '10684': 2, '11878': 1, '18557': 2, '21101': 1, '19909': 2, '23474': 2, '7093': 2, '8000': 2, '17395': 1, '18582': 1, '22375': 3, '23419': 1, '2593': 1, '10433': 1, '3231': 15, '4705': 11, '4773': 15, '6411': 15, '8549': 11, '10500': 4, '16352': 15, '17546': 4, '19808': 11, '21931': 11, '22369': 11, '22466': 4, '25159': 4, '22815': 10, '29': 1, '16751': 1, '750': 2, '19641': 2, '23480': 1, '23652': 1, '1278': 8, '778': 3, '1048': 3, '16743': 3, '22235': 3, '4376': 4, '18246': 3, '3718': 2, '7511': 2, '6642': 3, '17277': 3, '18209': 3, '7247': 3, '9459': 3, '11829': 3, '10338': 6, '7523': 3, '12458': 5, '12460': 4, '14844': 1, '16651': 4, '19378': 5, '161': 4, '97': 2, '3105': 1, '11418': 1, '19583': 2, '21821': 1, '22719': 4, '21684': 3, '22720': 2, '24169': 2, '16872': 3, '24816': 2, '9871': 2, '17179': 2, '19996': 3, '380': 3, '20078': 3, '5061': 1, '20317': 1, '12411': 4, '8922': 1, '9488': 1, '17182': 1, '22894': 2, '10041': 6, '13995': 5, '10383': 4, '13319': 4, '16115': 6, '21583': 4, '25229': 1, '2074': 2, '10996': 4, '19080': 3, '751': 1, '2655': 1, '20008': 2, '25866': 2, '2087': 6, '2993': 5, '4377': 4, '6271': 30, '7023': 10, '13404': 16, '1563': 23, '2457': 23, '3534': 23, '4639': 19, '5065': 23, '6387': 23, '14379': 23, '15145': 21, '15562': 23, '15708': 23, '15714': 23, '15805': 23, '17345': 4, '17580': 23, '17584': 21, '18396': 24, '18952': 23, '19677': 23, '20231': 3, '23241': 21, '24616': 21, '24617': 19, '24819': 23, '1157': 3, '16334': 3, '9922': 1, '2504': 2, '19585': 2, '9987': 1, '21554': 1, '19598': 2, '11216': 1, '13815': 1, '7463': 6, '12318': 3, '15150': 1, '19800': 3, '7695': 1, '3827': 3, '8595': 3, '14691': 3, '7025': 1, '25540': 8, '3239': 2, '11465': 2, '11577': 2, '6666': 5, '17986': 1, '21190': 2, '9217': 2, '2596': 3, '23462': 1, '23464': 3, '25644': 3, '3452': 2, '6442': 7, '9968': 3, '14383': 2, '14652': 3, '17681': 7, '20587': 6, '21592': 3, '2144': 23, '2774': 23, '3055': 23, '3652': 23, '3655': 23, '3766': 23, '3814': 23, '6388': 23, '7096': 23, '9249': 23, '12051': 23, '12423': 23, '12885': 23, '14808': 23, '15173': 23, '15189': 23, '15999': 23, '18942': 23, '19705': 23, '20250': 23, '21030': 23, '21825': 23, '25108': 23, '13684': 3, '18283': 3, '19301': 3, '21814': 2, '1404': 4, '2562': 4, '11199': 4, '18552': 2, '17141': 1, '11462': 1, '11612': 2, '24944': 2, '5814': 1, '17690': 1, '1656': 4, '4040': 1, '5828': 2, '11842': 1, '21531': 2, '1992': 1, '3102': 3, '12414': 4, '18562': 3, '24439': 7, '14431': 2, '20537': 2, '20543': 3, '21339': 2, '1092': 2, '3196': 1, '23226': 1, '4033': 3, '20782': 3, '23730': 3, '4625': 1, '12296': 3, '20959': 1, '3119': 2, '19004': 2, '7103': 1, '2503': 3, '5465': 3, '18141': 3, '20663': 3, '7384': 2, '6944': 4, '12660': 4, '14372': 4, '26178': 4, '7024': 3, '17393': 3, '17827': 1, '24207': 7, '1281': 6, '3653': 6, '10163': 6, '12551': 7, '17588': 3, '18621': 7, '25287': 6, '9962': 3, '2506': 2, '10682': 2, '22428': 1, '6354': 1, '15188': 1, '19060': 1, '10004': 5, '25234': 3, '18314': 11, '3684': 2, '5395': 3, '5445': 2, '11141': 5, '18370': 4, '19447': 2, '20434': 2, '4263': 3, '6859': 3, '17999': 3, '18282': 3, '9959': 2, '6008': 2, '20914': 2, '5081': 1, '12256': 2, '17237': 1, '8877': 1, '3280': 2, '13191': 1, '13013': 1, '18899': 5, '21293': 2, '1107': 1, '6973': 1, '2950': 1, '9335': 1, '25235': 1, '25668': 1, '6455': 1, '19801': 1, '65': 7, '358': 2, '8504': 1, '21152': 2, '19379': 1, '19247': 1, '18586': 1, '27': 4, '11114': 4, '19081': 4, '24726': 4, '12320': 2, '12321': 2, '19222': 2, '18344': 1, '3292': 1, '10391': 2, '1857': 2, '3967': 2, '12053': 4, '880': 3, '252': 1, '15418': 1, '4019': 2, '5626': 2, '24957': 2, '4148': 2, '9863': 2, '8457': 2, '15478': 1, '24203': 2, '8557': 3, '8308': 1, '21288': 1, '26191': 1, '3516': 5, '7053': 1, '12618': 2, '13144': 3, '15413': 5, '18634': 2, '1378': 1, '7877': 4, '3852': 2, '11622': 2, '15422': 1, '2984': 2, '8731': 2, '10564': 4, '8970': 2, '15187': 2, '3850': 1, '9128': 2, '113': 4, '4103': 3, '12312': 3, '17994': 2, '20947': 3, '26021': 2, '3204': 6, '25937': 6, '2476': 1, '18984': 1, '187': 2, '1821': 2, '21386': 2, '866': 2, '17825': 3, '20173': 2, '6305': 5, '7726': 5, '14870': 5, '14872': 10, '20316': 5, '1493': 11, '2452': 5, '3811': 11, '9027': 5, '14153': 5, '1436': 3, '20064': 2, '20331': 1, '13864': 1, '21154': 2, '10133': 1, '18218': 1, '3067': 1, '18721': 1, '1293': 34, '2621': 34, '2623': 34, '3283': 34, '3812': 34, '3820': 34, '3824': 34, '4834': 36, '5131': 34, '6222': 34, '6456': 34, '6525': 34, '6868': 34, '7525': 34, '8448': 34, '9433': 34, '12802': 34, '13482': 34, '13526': 34, '14157': 37, '14373': 34, '15148': 34, '17600': 34, '17819': 34, '17823': 34, '17824': 34, '18000': 34, '18444': 34, '22324': 34, '22901': 34, '24474': 34, '24479': 34, '24615': 34, '26039': 34, '844': 2, '890': 2, '11197': 2, '13035': 3, '16110': 3, '26130': 3, '1916': 2, '20953': 2, '24463': 2, '15706': 2, '374': 1, '20776': 1, '25449': 2, '24341': 1, '23135': 1, '17818': 3, '19697': 6, '23219': 2, '23809': 4, '11583': 1, '19252': 1, '3195': 1, '24597': 1, '17280': 4, '2785': 3, '3682': 3, '19956': 3, '2879': 1, '7861': 2, '2355': 1, '12704': 1, '17297': 3, '16227': 2, '25219': 1, '25089': 3, '820': 2, '2515': 1, '194': 1, '8628': 1, '4425': 5, '7278': 1, '14559': 2, '2459': 1, '6380': 1, '1025': 1, '1026': 2, '1696': 2, '15197': 2, '18195': 2, '13832': 1, '17114': 2, '20489': 2, '7088': 2, '7546': 4, '8146': 1, '21028': 1, '23418': 1, '10897': 1, '5548': 1, '15898': 3, '11924': 1, '25437': 1, '6159': 2, '19554': 2, '24878': 2, '5577': 1, '23881': 1, '12387': 2, '19520': 3, '23084': 5, '23554': 2, '19931': 1, '23553': 1, '22888': 1, '12547': 1, '25181': 1, '12617': 1, '17388': 2, '6037': 1, '3431': 1, '164': 2, '2142': 5, '13283': 4, '23858': 4, '24601': 4, '800': 2, '13167': 2, '15485': 2, '20260': 1, '4275': 5, '4081': 3, '13625': 3, '17878': 2, '24471': 3, '18122': 13, '1699': 4, '2303': 6, '7878': 4, '8541': 8, '8593': 3, '17575': 4, '17683': 4, '17923': 4, '18771': 7, '24593': 4, '25875': 4, '12645': 3, '16803': 3, '12749': 1, '16819': 2, '24034': 3, '17861': 2, '5415': 1, '4380': 2, '16756': 2, '3100': 1, '18098': 1, '16729': 1, '2049': 2, '9915': 2, '19380': 1, '1695': 1, '1825': 2, '6226': 2, '14317': 2, '20775': 1, '4469': 1, '9618': 2, '11285': 2, '12193': 2, '2306': 4, '10514': 2, '3964': 3, '4018': 2, '9414': 3, '12640': 3, '16608': 3, '16800': 1, '4051': 3, '21187': 2, '21313': 3, '26092': 4, '11879': 1, '21310': 1, '2803': 1, '2295': 1, '5826': 1, '22': 6, '11183': 3, '19440': 3, '22618': 4, '25043': 5, '3074': 1, '23416': 1, '1101': 2, '9030': 4, '17854': 2, '22487': 2, '25891': 2, '1823': 1, '2003': 2, '22031': 1, '885': 3, '2505': 3, '17192': 3, '19911': 1, '25487': 1, '6229': 2, '6423': 1, '7647': 1, '1966': 3, '8048': 3, '15717': 3, '10847': 1, '10148': 1, '4875': 3, '4488': 9, '15913': 1, '11009': 4, '20157': 2, '21344': 5, '22990': 2, '23471': 2, '3206': 2, '6535': 1, '6579': 1, '2386': 2, '16941': 1, '8446': 4, '18597': 1, '11502': 7, '11903': 3, '12157': 1, '12158': 3, '24210': 4, '12290': 2, '17307': 1, '20031': 1, '1860': 1, '3073': 1, '4000': 1, '17173': 1, '3685': 2, '25853': 1, '8404': 1, '25': 1, '22891': 1, '28': 1, '7916': 3, '21515': 2, '21523': 2, '4656': 3, '18196': 3, '23303': 3, '24841': 8, '4265': 3, '5267': 3, '5271': 4, '7597': 2, '7638': 2, '7648': 2, '11844': 3, '7854': 2, '1668': 2, '4835': 2, '15007': 1, '10559': 1, '18245': 1, '10445': 2, '21594': 1, '22738': 3, '6389': 2, '6914': 2, '18279': 2, '7468': 1, '10002': 1, '12041': 1, '14384': 1, '17341': 1, '24470': 1, '15186': 1, '8443': 2, '15248': 2, '13683': 3, '21203': 4, '21778': 3, '26042': 1, '3451': 1, '7038': 2, '17951': 1, '833': 1, '2810': 3, '18145': 2, '21799': 2, '192': 4, '4826': 2, '4021': 2, '26022': 2, '6161': 1, '7055': 1, '19712': 1, '21024': 4, '8071': 1, '17178': 4, '23215': 2, '3062': 2, '16892': 2, '19572': 2, '7857': 2, '11968': 1, '19810': 2, '14841': 1, '920': 2, '25904': 1, '25829': 3, '25849': 3, '13355': 3, '13022': 1, '8077': 1, '6300': 1, '2117': 1, '5182': 2, '13311': 2, '1879': 1, '21548': 1, '21809': 1, '15609': 1, '21177': 3, '1174': 2, '2712': 2, '14176': 2, '21018': 1, '5479': 1, '16124': 2, '20807': 2, '24334': 2, '16415': 6, '7046': 6, '14710': 6, '15682': 6, '17157': 6, '23093': 6, '21547': 3, '15357': 9, '6076': 6, '7311': 6, '8629': 2, '12615': 6, '15163': 6, '16483': 2, '17731': 7, '18913': 3, '13990': 2, '4555': 2, '7482': 1, '15681': 2, '20793': 1, '10346': 5, '15687': 3, '19143': 3, '19383': 3, '6291': 2, '19223': 1, '19739': 2, '20568': 2, '8452': 1, '22233': 7, '12612': 4, '14843': 3, '19208': 4, '20569': 3, '17585': 1, '15218': 1, '19703': 3, '7957': 1, '18895': 1, '4825': 6, '8037': 1, '9593': 4, '14621': 2, '19608': 2, '15250': 2, '15589': 2, '4836': 1, '11898': 1, '1028': 7, '9924': 5, '12262': 5, '15181': 1, '2331': 1, '17461': 2, '188': 2, '22920': 2, '373': 1, '21579': 1, '23775': 2, '11012': 2, '8198': 3, '13010': 4, '320': 6, '1897': 2, '5602': 2, '6024': 2, '17464': 2, '17590': 2, '18042': 4, '21315': 1, '22770': 1, '5483': 2, '18884': 2, '22727': 2, '2487': 1, '3052': 5, '6711': 3, '16232': 2, '22725': 4, '14991': 2, '20560': 2, '10356': 1, '19062': 1, '8973': 1, '14600': 1, '23138': 1, '4372': 2, '10880': 2, '16598': 4, '3851': 1, '7011': 1, '8702': 1, '18159': 1, '15200': 1, '15617': 1, '7807': 1, '11828': 1, '2352': 1, '1855': 2, '2527': 2, '5057': 2, '7094': 1, '10432': 2, '5774': 1, '16891': 1, '2624': 1, '24202': 1, '21314': 1, '15572': 1, '7356': 1, '22556': 2, '19102': 1, '748': 1, '8811': 1, '22021': 1, '2332': 2, '18544': 2, '21596': 2, '16783': 2, '15642': 2, '17563': 2, '12252': 1, '22404': 2, '9026': 1, '18669': 2, '19866': 2, '25545': 3, '8538': 1, '19450': 1, '7536': 1, '7534': 1, '3383': 1, '1344': 1, '18126': 1, '1322': 2, '10925': 3, '15195': 3, '16068': 2, '17467': 3, '11611': 2, '20779': 2, '24490': 1, '4276': 1, '24159': 3, '717': 1, '17865': 1, '1376': 1, '4267': 1, '1289': 3, '1560': 1, '4365': 1, '1915': 1, '12263': 1, '22000': 1, '25136': 2, '15259': 1, '348': 2, '5660': 2, '15847': 2, '16155': 1, '315': 1, '5629': 4, '10499': 1, '16718': 2, '25599': 2, '11969': 2, '1967': 2, '18996': 2, '832': 15, '3387': 15, '4703': 15, '7447': 15, '9764': 15, '10117': 15, '14340': 15, '14370': 15, '15006': 15, '16231': 15, '16590': 15, '16730': 15, '19957': 15, '21848': 15, '22320': 15, '15712': 1, '19596': 1, '5365': 1, '7769': 2, '15977': 1, '17118': 2, '1292': 3, '6648': 5, '10341': 3, '14840': 5, '16040': 1, '10936': 3, '19509': 1, '19510': 1, '23687': 1, '17293': 3, '15668': 3, '25614': 3, '26006': 3, '22394': 2, '10178': 2, '3744': 2, '24133': 2, '19256': 1, '3989': 1, '17471': 1, '510': 2, '22285': 1, '10679': 3, '115': 2, '5268': 2, '8671': 1, '23757': 2, '830': 2, '16802': 2, '9053': 1, '12504': 1, '10850': 1, '12644': 1, '20528': 1, '1589': 1, '7603': 1, '23759': 1, '15208': 1, '1561': 1, '4484': 2, '22379': 2, '21558': 3, '19683': 3, '22744': 3, '22746': 2, '1981': 7, '5468': 5, '5668': 5, '6908': 2, '8187': 5, '18034': 5, '19879': 5, '25444': 2, '3818': 3, '3388': 3, '6735': 6, '23167': 3, '2806': 2, '9209': 2, '914': 7, '2243': 7, '3442': 7, '5162': 7, '18633': 7, '5119': 1, '10517': 1, '13036': 1, '6446': 1, '8036': 1, '25114': 1, '21544': 1, '13': 5, '7596': 1, '11196': 1, '19170': 1, '7090': 5, '6350': 8, '4495': 1, '8372': 6, '11823': 4, '13628': 6, '15246': 4, '16014': 1, '20332': 4, '23710': 4, '5137': 1, '6884': 1, '1013': 1, '19011': 2, '2123': 1, '71': 1, '20803': 2, '6356': 1, '25231': 1, '1551': 1, '8058': 2, '2328': 1, '8336': 1, '24464': 1, '12745': 1, '19023': 1, '10468': 1, '8398': 3, '9327': 4, '8739': 2, '13357': 3, '25115': 2, '25852': 1, '403': 1, '3200': 2, '4264': 2, '17468': 2, '25510': 1, '3279': 1, '1782': 2, '13521': 1, '18784': 1, '8976': 2, '3910': 1, '10513': 2, '25059': 1, '25595': 1, '7477': 2, '19257': 2, '22961': 2, '19906': 1, '26102': 1, '13749': 4, '12121': 2, '13034': 2, '6079': 1, '19941': 1, '14135': 1, '13325': 4, '14502': 4, '20926': 3, '15899': 2, '16338': 1, '21390': 1, '82': 1, '3844': 1, '7595': 2, '8118': 2, '15802': 1, '15688': 1, '22692': 1, '4955': 1, '4954': 1, '5409': 1, '8623': 1, '11926': 1, '8340': 5, '5839': 2, '7026': 2, '12192': 2, '3053': 1, '20883': 1, '787': 2, '12940': 1, '2222': 5, '2215': 3, '10792': 2, '15695': 5, '20422': 2, '21309': 4, '20379': 1, '1549': 4, '22766': 3, '23168': 3, '24732': 1, '4272': 1, '2557': 1, '2247': 1, '9606': 6, '4958': 3, '5973': 2, '10884': 3, '12122': 2, '16353': 3, '1427': 2, '11037': 1, '2981': 1, '4427': 1, '6669': 1, '9865': 1, '8449': 3, '13490': 3, '19528': 3, '22577': 2, '25440': 2, '18366': 1, '25217': 1, '4750': 2, '19147': 2, '20174': 1, '7588': 1, '7590': 1, '3599': 1, '14130': 1, '14302': 2, '5432': 1, '12676': 1, '11721': 3, '12151': 3, '15221': 3, '11792': 3, '16831': 3, '5667': 3, '3297': 3, '14770': 4, '23461': 3, '2329': 2, '24846': 2, '8367': 1, '14894': 2, '1670': 1, '22927': 1, '3362': 2, '3347': 1, '16957': 1, '8969': 1, '25649': 2, '25839': 2, '2938': 1, '18581': 1, '1024': 2, '12552': 2, '16513': 1, '21593': 1, '22325': 1, '18970': 4, '2409': 4, '3522': 4, '4286': 4, '4288': 4, '18278': 1, '2201': 2, '14868': 2, '16226': 2, '5211': 3, '11028': 3, '21171': 3, '22730': 3, '1187': 1, '6290': 1, '8161': 4, '12054': 2, '21468': 3, '13677': 2, '18288': 2, '23206': 2, '4110': 2, '16523': 1, '17696': 1, '15641': 3, '5466': 1, '12801': 2, '19548': 2, '10352': 1, '15423': 1, '18144': 1, '4959': 1, '6867': 2, '19110': 1, '9149': 2, '17346': 2, '20319': 2, '16042': 2, '5533': 2, '782': 3, '11539': 3, '15227': 4, '16655': 3, '18151': 1, '21811': 2, '254': 1, '7572': 1, '20150': 2, '22312': 2, '25226': 2, '23621': 1, '11623': 1, '23306': 4, '5960': 4, '8705': 4, '11662': 4, '14094': 4, '19014': 4, '24575': 2, '8255': 1, '14842': 1, '3719': 11, '5067': 16, '6907': 16, '8072': 11, '8375': 11, '9025': 16, '13649': 16, '19545': 11, '25060': 11, '25289': 16, '15683': 10, '19923': 10, '20664': 10, '21824': 10, '25359': 10, '1989': 4, '4106': 4, '7515': 4, '17782': 4, '18231': 4, '18628': 1, '17785': 3, '15583': 2, '24272': 2, '18091': 3, '24456': 3, '25211': 1, '11971': 1, '938': 2, '5087': 2, '17936': 1, '7636': 1, '12554': 1, '4278': 1, '18183': 1, '10522': 1, '10561': 1, '25678': 4, '1660': 4, '3377': 5, '23068': 4, '25631': 4, '1383': 1, '6737': 2, '9988': 2, '14620': 2, '822': 2, '9518': 2, '16358': 2, '18238': 3, '4777': 4, '15396': 3, '26180': 3, '19064': 1, '360': 3, '2304': 3, '7602': 3, '8307': 3, '9514': 1, '1959': 2, '9723': 2, '21713': 2, '25470': 2, '5446': 2, '5632': 2, '20433': 2, '18558': 1, '10818': 2, '11016': 2, '25596': 2, '6513': 2, '25138': 2, '17275': 1, '16801': 1, '19451': 2, '9579': 5, '16932': 2, '6534': 1, '11561': 1, '22381': 1, '12863': 1, '18390': 1, '1836': 1, '8400': 1, '13387': 2, '22048': 2, '23424': 4, '8153': 4, '15182': 4, '16728': 4, '22319': 4, '8054': 1, '24504': 1, '22605': 1, '21623': 1, '7479': 5, '2754': 4, '5511': 4, '7265': 4, '10056': 4, '13390': 1, '25176': 1, '10382': 1, '25482': 1, '2223': 2, '4266': 2, '20216': 2, '16643': 1, '20035': 1, '6170': 2, '8881': 1, '16609': 1, '372': 1, '14131': 1, '12113': 1, '16886': 3, '142': 2, '18626': 2, '8735': 1, '25062': 1, '1793': 2, '5481': 2, '3754': 3, '8185': 2, '16496': 2, '9039': 1, '11911': 1, '18613': 4, '10497': 1, '357': 4, '23300': 4, '24960': 4, '21303': 1, '734': 1, '19221': 1, '17470': 1, '18772': 1, '21949': 1, '18194': 1, '5697': 1, '14358': 1, '8558': 1, '13717': 1, '8534': 1, '8676': 1, '14639': 1, '2073': 3, '1662': 2, '2613': 2, '9224': 3, '10154': 2, '11410': 2, '16830': 3, '4144': 2, '18596': 2, '23771': 2, '16622': 1, '18454': 1, '13031': 3, '8738': 2, '13334': 2, '13620': 1, '16312': 1, '16314': 1, '20515': 1, '23915': 9, '12266': 9, '15678': 9, '17134': 9, '21436': 9, '23146': 8, '23488': 9, '25575': 9, '11991': 1, '3186': 1, '14182': 1, '17537': 1, '15358': 2, '18036': 2, '18338': 2, '9631': 2, '10898': 2, '14175': 2, '12307': 2, '22980': 2, '5387': 1, '18156': 1, '19145': 1, '23760': 1, '1983': 2, '13012': 2, '20943': 2, '22110': 1, '5231': 1, '22311': 1, '20084': 1, '6576': 2, '1621': 2, '7109': 2, '9018': 3, '14374': 4, '18299': 5, '19687': 4, '12751': 1, '6307': 1, '13486': 2, '4259': 2, '18688': 2, '4630': 3, '9921': 3, '10672': 3, '12512': 3, '831': 1, '11280': 1, '15154': 1, '14132': 1, '4034': 2, '9715': 5, '9717': 2, '8512': 3, '25492': 3, '25511': 3, '1798': 2, '4828': 2, '5404': 2, '24462': 1, '11641': 1, '14338': 1, '22729': 1, '677': 2, '4426': 2, '4242': 2, '19466': 2, '7543': 2, '24128': 2, '17581': 1, '10446': 1, '11411': 1, '24242': 1, '5853': 1, '5492': 1, '9979': 1, '18094': 2, '8870': 1, '9831': 1, '12473': 1, '18388': 1, '20654': 1, '9867': 1, '4037': 2, '25663': 2, '4196': 1, '15401': 1, '1051': 2, '4245': 2, '25664': 2, '24140': 1, '16823': 3, '5571': 3, '13802': 3, '19553': 3, '25447': 1, '15962': 1, '19892': 1, '18417': 1, '4643': 1, '20320': 1, '14990': 1, '25975': 1, '24708': 3, '19443': 3, '23492': 3, '8395': 2, '8725': 2, '11054': 2, '14763': 1, '4432': 1, '5062': 1, '19881': 1, '20766': 1, '11718': 1, '15553': 1, '15374': 1, '5490': 1, '8474': 1, '1976': 1, '23672': 1, '12295': 2, '9189': 5, '2116': 5, '9765': 5, '9774': 5, '12034': 5, '17935': 5, '12248': 1, '98': 1, '10116': 1, '4181': 1, '17992': 1, '8409': 1, '2248': 1, '11579': 1, '15073': 1, '16922': 1, '20925': 1, '22645': 1, '13415': 2, '7585': 2, '15386': 2, '23772': 1, '735': 1, '6078': 1, '74': 2, '2298': 2, '16129': 2, '8717': 1, '10638': 1, '13558': 6, '8669': 6, '9038': 6, '12213': 6, '21710': 6, '22318': 6, '24888': 6, '22728': 1, '2561': 1, '23094': 1, '1969': 2, '8472': 2, '24141': 2, '16971': 2, '5228': 2, '20170': 2, '18608': 2, '14339': 1, '22816': 1, '7280': 2, '7267': 2, '20309': 2, '8891': 2, '11893': 2, '25667': 2, '6776': 1, '24733': 1, '18455': 1, '2334': 2, '10180': 2, '17587': 2, '11215': 1, '23156': 1, '23970': 2, '7718': 2, '19502': 2, '3748': 1, '17503': 1, '10602': 1, '20805': 1, '11467': 1, '19575': 1, '4038': 2, '7058': 2, '23811': 2, '1878': 2, '12338': 2, '15800': 2, '9130': 1, '25095': 1, '20066': 1, '1010': 1, '2749': 1, '5829': 1, '11642': 1, '25230': 1, '5256': 2, '5257': 2, '22827': 2, '16015': 1, '22938': 1, '15774': 1, '20333': 1, '4262': 1, '6701': 1, '10407': 1, '5406': 1, '22435': 1, '11120': 3, '16340': 1, '17851': 1, '20233': 1, '4366': 1, '410': 1, '9211': 1, '13413': 1, '19473': 1, '23812': 1, '24214': 1, '4116': 1, '25496': 5, '19314': 5, '19880': 5, '25543': 5, '26019': 5, '26048': 5, '24820': 1, '20707': 1, '5486': 1, '8366': 1, '5261': 1, '6282': 1, '18908': 1, '25531': 1, '12050': 1, '5364': 1, '14': 1, '14171': 1, '14845': 2, '5232': 2, '19521': 2})"
      ]
     },
     "execution_count": 32,
     "metadata": {},
     "output_type": "execute_result"
    }
   ],
   "source": [
    "authors_graph.degree()"
   ]
  },
  {
   "cell_type": "code",
   "execution_count": 33,
   "metadata": {
    "slideshow": {
     "slide_type": "slide"
    }
   },
   "outputs": [
    {
     "data": {
      "text/plain": [
       "{'3466': 0.0015264262545315779,\n",
       " '937': 0.0009540164090822362,\n",
       " '5233': 0.00038160656363289447,\n",
       " '8579': 0.0009540164090822362,\n",
       " '10310': 0.002480442663613814,\n",
       " '15931': 0.0019080328181644724,\n",
       " '17038': 0.003243655790879603,\n",
       " '18720': 0.0005724098454493417,\n",
       " '19607': 0.0007632131272657889,\n",
       " '1854': 0.0015264262545315779,\n",
       " '4583': 0.0005724098454493417,\n",
       " '9572': 0.006487311581759206,\n",
       " '10841': 0.0013356229727151307,\n",
       " '13056': 0.0019080328181644724,\n",
       " '14982': 0.00038160656363289447,\n",
       " '16310': 0.003243655790879603,\n",
       " '19640': 0.004770082045411181,\n",
       " '23855': 0.0015264262545315779,\n",
       " '24372': 0.00019080328181644724,\n",
       " '24814': 0.0040068689181453915,\n",
       " '5052': 0.00553329517267697,\n",
       " '899': 0.0005724098454493417,\n",
       " '1796': 0.00038160656363289447,\n",
       " '2287': 0.0026712459454302615,\n",
       " '3096': 0.0022896393817973667,\n",
       " '3386': 0.0020988360999809196,\n",
       " '4472': 0.0007632131272657889,\n",
       " '5346': 0.003816065636328945,\n",
       " '5740': 0.00019080328181644724,\n",
       " '6094': 0.0007632131272657889,\n",
       " '6376': 0.00038160656363289447,\n",
       " '9124': 0.0045792787635947334,\n",
       " '10235': 0.002480442663613814,\n",
       " '10427': 0.0015264262545315779,\n",
       " '10597': 0.0011448196908986834,\n",
       " '15159': 0.0007632131272657889,\n",
       " '16148': 0.00343445907269605,\n",
       " '16741': 0.0013356229727151307,\n",
       " '18235': 0.00019080328181644724,\n",
       " '18549': 0.00019080328181644724,\n",
       " '19297': 0.0030528525090631558,\n",
       " '20511': 0.0061057050181263115,\n",
       " '20595': 0.001717229536348025,\n",
       " '20613': 0.0019080328181644724,\n",
       " '24371': 0.004197672199961839,\n",
       " '24559': 0.004388475481778287,\n",
       " '24731': 0.00019080328181644724,\n",
       " '25102': 0.0013356229727151307,\n",
       " '25271': 0.0030528525090631558,\n",
       " '25396': 0.004388475481778287,\n",
       " '1658': 0.0011448196908986834,\n",
       " '4822': 0.00038160656363289447,\n",
       " '6864': 0.00038160656363289447,\n",
       " '7689': 0.0061057050181263115,\n",
       " '7926': 0.001717229536348025,\n",
       " '10268': 0.0013356229727151307,\n",
       " '12971': 0.00019080328181644724,\n",
       " '18600': 0.0007632131272657889,\n",
       " '20421': 0.0005724098454493417,\n",
       " '20886': 0.00038160656363289447,\n",
       " '21048': 0.0011448196908986834,\n",
       " '22393': 0.0009540164090822362,\n",
       " '23186': 0.0011448196908986834,\n",
       " '23214': 0.0007632131272657889,\n",
       " '23298': 0.00038160656363289447,\n",
       " '23945': 0.0005724098454493417,\n",
       " '24939': 0.0005724098454493417,\n",
       " '339': 0.005724098454493417,\n",
       " '624': 0.003243655790879603,\n",
       " '3731': 0.001717229536348025,\n",
       " '4743': 0.004770082045411181,\n",
       " '5407': 0.001717229536348025,\n",
       " '6610': 0.012974623163518412,\n",
       " '6700': 0.005914901736309864,\n",
       " '8045': 0.0028620492272467086,\n",
       " '9099': 0.001717229536348025,\n",
       " '9639': 0.005914901736309864,\n",
       " '9785': 0.012974623163518412,\n",
       " '12141': 0.0009540164090822362,\n",
       " '15184': 0.002480442663613814,\n",
       " '15784': 0.0020988360999809196,\n",
       " '18719': 0.004197672199961839,\n",
       " '19870': 0.0040068689181453915,\n",
       " '20532': 0.003816065636328945,\n",
       " '22527': 0.004770082045411181,\n",
       " '23576': 0.0007632131272657889,\n",
       " '23577': 0.001717229536348025,\n",
       " '23649': 0.001717229536348025,\n",
       " '24199': 0.0011448196908986834,\n",
       " '24293': 0.003816065636328945,\n",
       " '25201': 0.002480442663613814,\n",
       " '10243': 0.0026712459454302615,\n",
       " '6774': 0.005151688609044075,\n",
       " '8049': 0.0015264262545315779,\n",
       " '8053': 0.0005724098454493417,\n",
       " '8517': 0.0013356229727151307,\n",
       " '11964': 0.002480442663613814,\n",
       " '15538': 0.0026712459454302615,\n",
       " '16694': 0.001717229536348025,\n",
       " '18648': 0.0007632131272657889,\n",
       " '19423': 0.012020606754436176,\n",
       " '21012': 0.015455065827132226,\n",
       " '22457': 0.005724098454493417,\n",
       " '22691': 0.014691852699866437,\n",
       " '23452': 0.004197672199961839,\n",
       " '16174': 0.0007632131272657889,\n",
       " '16470': 0.00019080328181644724,\n",
       " '17822': 0.00019080328181644724,\n",
       " '14265': 0.007059721427208548,\n",
       " '392': 0.00019080328181644724,\n",
       " '2485': 0.00038160656363289447,\n",
       " '2949': 0.001717229536348025,\n",
       " '3173': 0.00019080328181644724,\n",
       " '3441': 0.0011448196908986834,\n",
       " '3593': 0.0011448196908986834,\n",
       " '3853': 0.00019080328181644724,\n",
       " '3927': 0.00038160656363289447,\n",
       " '3937': 0.0007632131272657889,\n",
       " '3939': 0.00343445907269605,\n",
       " '5107': 0.00343445907269605,\n",
       " '5218': 0.00038160656363289447,\n",
       " '5230': 0.00038160656363289447,\n",
       " '6030': 0.0007632131272657889,\n",
       " '7350': 0.0036252623545124977,\n",
       " '7504': 0.0020988360999809196,\n",
       " '7601': 0.00038160656363289447,\n",
       " '8718': 0.00038160656363289447,\n",
       " '9522': 0.0009540164090822362,\n",
       " '11621': 0.0013356229727151307,\n",
       " '12498': 0.00038160656363289447,\n",
       " '12691': 0.00038160656363289447,\n",
       " '15251': 0.00019080328181644724,\n",
       " '16020': 0.0013356229727151307,\n",
       " '16261': 0.00019080328181644724,\n",
       " '17156': 0.0005724098454493417,\n",
       " '17626': 0.0030528525090631558,\n",
       " '18622': 0.00038160656363289447,\n",
       " '19059': 0.0011448196908986834,\n",
       " '19525': 0.0005724098454493417,\n",
       " '19738': 0.0009540164090822362,\n",
       " '20122': 0.0007632131272657889,\n",
       " '20432': 0.0009540164090822362,\n",
       " '21866': 0.00019080328181644724,\n",
       " '22074': 0.0019080328181644724,\n",
       " '23721': 0.0005724098454493417,\n",
       " '8916': 0.0020988360999809196,\n",
       " '13556': 0.003816065636328945,\n",
       " '14485': 0.0040068689181453915,\n",
       " '8612': 0.00343445907269605,\n",
       " '615': 0.00343445907269605,\n",
       " '743': 0.001717229536348025,\n",
       " '2076': 0.00038160656363289447,\n",
       " '4515': 0.0015264262545315779,\n",
       " '5773': 0.0007632131272657889,\n",
       " '9482': 0.0040068689181453915,\n",
       " '10822': 0.00038160656363289447,\n",
       " '11175': 0.001717229536348025,\n",
       " '11604': 0.0009540164090822362,\n",
       " '14004': 0.00038160656363289447,\n",
       " '15003': 0.011829803472619728,\n",
       " '15552': 0.00343445907269605,\n",
       " '15814': 0.0022896393817973667,\n",
       " '16083': 0.0019080328181644724,\n",
       " '17932': 0.0020988360999809196,\n",
       " '20001': 0.00019080328181644724,\n",
       " '20100': 0.0022896393817973667,\n",
       " '23481': 0.0009540164090822362,\n",
       " '16258': 0.002480442663613814,\n",
       " '1356': 0.0007632131272657889,\n",
       " '1727': 0.0013356229727151307,\n",
       " '2752': 0.0007632131272657889,\n",
       " '4125': 0.0009540164090822362,\n",
       " '6667': 0.0005724098454493417,\n",
       " '6825': 0.00038160656363289447,\n",
       " '10039': 0.0020988360999809196,\n",
       " '10351': 0.0005724098454493417,\n",
       " '11082': 0.0022896393817973667,\n",
       " '14123': 0.002480442663613814,\n",
       " '16676': 0.00038160656363289447,\n",
       " '21194': 0.00019080328181644724,\n",
       " '10912': 0.0005724098454493417,\n",
       " '14534': 0.0022896393817973667,\n",
       " '17268': 0.0007632131272657889,\n",
       " '19783': 0.00019080328181644724,\n",
       " '21705': 0.0005724098454493417,\n",
       " '22836': 0.0005724098454493417,\n",
       " '2710': 0.006296508299942759,\n",
       " '62': 0.0013356229727151307,\n",
       " '106': 0.0007632131272657889,\n",
       " '260': 0.0009540164090822362,\n",
       " '2959': 0.0019080328181644724,\n",
       " '3677': 0.0022896393817973667,\n",
       " '4708': 0.0005724098454493417,\n",
       " '5172': 0.0019080328181644724,\n",
       " '5541': 0.0011448196908986834,\n",
       " '5794': 0.0005724098454493417,\n",
       " '5807': 0.001717229536348025,\n",
       " '6575': 0.0020988360999809196,\n",
       " '8458': 0.00038160656363289447,\n",
       " '10601': 0.00038160656363289447,\n",
       " '11401': 0.00038160656363289447,\n",
       " '13026': 0.0007632131272657889,\n",
       " '13205': 0.0009540164090822362,\n",
       " '13659': 0.0015264262545315779,\n",
       " '13989': 0.0019080328181644724,\n",
       " '14007': 0.0007632131272657889,\n",
       " '14009': 0.0005724098454493417,\n",
       " '14599': 0.005724098454493417,\n",
       " '15301': 0.00038160656363289447,\n",
       " '18757': 0.0015264262545315779,\n",
       " '20934': 0.0009540164090822362,\n",
       " '21543': 0.0013356229727151307,\n",
       " '22184': 0.0013356229727151307,\n",
       " '23647': 0.0022896393817973667,\n",
       " '23708': 0.0030528525090631558,\n",
       " '25916': 0.0019080328181644724,\n",
       " '26023': 0.0005724098454493417,\n",
       " '26051': 0.00038160656363289447,\n",
       " '26100': 0.00038160656363289447,\n",
       " '214': 0.0013356229727151307,\n",
       " '5435': 0.0005724098454493417,\n",
       " '6512': 0.009349360809005915,\n",
       " '10590': 0.0013356229727151307,\n",
       " '23559': 0.0005724098454493417,\n",
       " '1765': 0.0015264262545315779,\n",
       " '3032': 0.0022896393817973667,\n",
       " '5302': 0.0020988360999809196,\n",
       " '7383': 0.002480442663613814,\n",
       " '7442': 0.00343445907269605,\n",
       " '7768': 0.0019080328181644724,\n",
       " '13276': 0.004960885327227628,\n",
       " '17266': 0.001717229536348025,\n",
       " '22415': 0.0022896393817973667,\n",
       " '10794': 0.00038160656363289447,\n",
       " '7050': 0.0011448196908986834,\n",
       " '25850': 0.00038160656363289447,\n",
       " '10113': 0.0022896393817973667,\n",
       " '10657': 0.00038160656363289447,\n",
       " '12130': 0.0020988360999809196,\n",
       " '17172': 0.0015264262545315779,\n",
       " '4846': 0.004197672199961839,\n",
       " '676': 0.004960885327227628,\n",
       " '824': 0.002480442663613814,\n",
       " '2133': 0.0022896393817973667,\n",
       " '2654': 0.007250524709024995,\n",
       " '4748': 0.0036252623545124977,\n",
       " '5672': 0.00038160656363289447,\n",
       " '10549': 0.0007632131272657889,\n",
       " '12928': 0.0020988360999809196,\n",
       " '13220': 0.0020988360999809196,\n",
       " '14419': 0.0026712459454302615,\n",
       " '17330': 0.003243655790879603,\n",
       " '17439': 0.00553329517267697,\n",
       " '18487': 0.005151688609044075,\n",
       " '20850': 0.0028620492272467086,\n",
       " '22779': 0.0020988360999809196,\n",
       " '23382': 0.005724098454493417,\n",
       " '24029': 0.0009540164090822362,\n",
       " '11785': 0.0040068689181453915,\n",
       " '45': 0.009349360809005915,\n",
       " '46': 0.008013737836290783,\n",
       " '570': 0.009158557527189467,\n",
       " '773': 0.010494180499904597,\n",
       " '1653': 0.010684983781721046,\n",
       " '2212': 0.00896775424537302,\n",
       " '2741': 0.01240221331806907,\n",
       " '2952': 0.008586147681740125,\n",
       " '3372': 0.009349360809005915,\n",
       " '4046': 0.00019080328181644724,\n",
       " '4164': 0.01030337721808815,\n",
       " '4511': 0.008586147681740125,\n",
       " '4513': 0.008204541118107232,\n",
       " '5262': 0.00019080328181644724,\n",
       " '6179': 0.008776950963556573,\n",
       " '6830': 0.008586147681740125,\n",
       " '7956': 0.010684983781721046,\n",
       " '8879': 0.008586147681740125,\n",
       " '11241': 0.009349360809005915,\n",
       " '11472': 0.008586147681740125,\n",
       " '12365': 0.014691852699866437,\n",
       " '12496': 0.009158557527189467,\n",
       " '12678': 0.0007632131272657889,\n",
       " '12781': 0.010875787063537493,\n",
       " '12851': 0.008586147681740125,\n",
       " '14540': 0.008776950963556573,\n",
       " '14807': 0.011448196908986834,\n",
       " '15659': 0.008586147681740125,\n",
       " '16159': 0.0007632131272657889,\n",
       " '17655': 0.012593016599885518,\n",
       " '17692': 0.008586147681740125,\n",
       " '18894': 0.00896775424537302,\n",
       " '19961': 0.008586147681740125,\n",
       " '20108': 0.008586147681740125,\n",
       " '20562': 0.008586147681740125,\n",
       " '20635': 0.00896775424537302,\n",
       " '21281': 0.01507345926349933,\n",
       " '21508': 0.012783819881701965,\n",
       " '21847': 0.009158557527189467,\n",
       " '22798': 0.0011448196908986834,\n",
       " '22887': 0.00896775424537302,\n",
       " '23293': 0.010112573936271704,\n",
       " '24955': 0.009730967372638809,\n",
       " '25346': 0.010684983781721046,\n",
       " '25758': 0.009730967372638809,\n",
       " '934': 0.0013356229727151307,\n",
       " '5579': 0.00019080328181644724,\n",
       " '9755': 0.005914901736309864,\n",
       " '10550': 0.0007632131272657889,\n",
       " '16032': 0.0030528525090631558,\n",
       " '17331': 0.00019080328181644724,\n",
       " '17603': 0.0007632131272657889,\n",
       " '20644': 0.0011448196908986834,\n",
       " '22497': 0.0007632131272657889,\n",
       " '23387': 0.00038160656363289447,\n",
       " '23907': 0.0009540164090822362,\n",
       " '24924': 0.004197672199961839,\n",
       " '25080': 0.0026712459454302615,\n",
       " '12422': 0.0005724098454493417,\n",
       " '1339': 0.0009540164090822362,\n",
       " '3164': 0.0011448196908986834,\n",
       " '15580': 0.0013356229727151307,\n",
       " '16393': 0.0007632131272657889,\n",
       " '20478': 0.004960885327227628,\n",
       " '20956': 0.00019080328181644724,\n",
       " '3890': 0.001717229536348025,\n",
       " '5621': 0.004197672199961839,\n",
       " '8824': 0.00038160656363289447,\n",
       " '11613': 0.0005724098454493417,\n",
       " '12306': 0.0005724098454493417,\n",
       " '12860': 0.0005724098454493417,\n",
       " '14547': 0.00019080328181644724,\n",
       " '18182': 0.0005724098454493417,\n",
       " '21707': 0.0005724098454493417,\n",
       " '24696': 0.003816065636328945,\n",
       " '2661': 0.0013356229727151307,\n",
       " '7899': 0.0009540164090822362,\n",
       " '8067': 0.0009540164090822362,\n",
       " '8208': 0.0005724098454493417,\n",
       " '11132': 0.0013356229727151307,\n",
       " '11402': 0.0007632131272657889,\n",
       " '12980': 0.0015264262545315779,\n",
       " '13364': 0.0015264262545315779,\n",
       " '14969': 0.0013356229727151307,\n",
       " '16389': 0.004960885327227628,\n",
       " '18109': 0.0009540164090822362,\n",
       " '18365': 0.0026712459454302615,\n",
       " '23038': 0.006296508299942759,\n",
       " '24845': 0.0015264262545315779,\n",
       " '25379': 0.00038160656363289447,\n",
       " '13740': 0.0020988360999809196,\n",
       " '4550': 0.0040068689181453915,\n",
       " '4702': 0.00038160656363289447,\n",
       " '7264': 0.0028620492272467086,\n",
       " '13096': 0.004197672199961839,\n",
       " '14128': 0.0007632131272657889,\n",
       " '19489': 0.0030528525090631558,\n",
       " '19527': 0.0007632131272657889,\n",
       " '19784': 0.00038160656363289447,\n",
       " '22476': 0.0013356229727151307,\n",
       " '25006': 0.004197672199961839,\n",
       " '25486': 0.0005724098454493417,\n",
       " '26': 0.0009540164090822362,\n",
       " '1407': 0.0011448196908986834,\n",
       " '1488': 0.005914901736309864,\n",
       " '8219': 0.00038160656363289447,\n",
       " '10762': 0.005724098454493417,\n",
       " '11801': 0.0020988360999809196,\n",
       " '12665': 0.00019080328181644724,\n",
       " '12688': 0.0005724098454493417,\n",
       " '13142': 0.005342491890860523,\n",
       " '15108': 0.004197672199961839,\n",
       " '15321': 0.0009540164090822362,\n",
       " '20647': 0.0005724098454493417,\n",
       " '20827': 0.0015264262545315779,\n",
       " '20879': 0.0028620492272467086,\n",
       " '23614': 0.004960885327227628,\n",
       " '3909': 0.003243655790879603,\n",
       " '17979': 0.0009540164090822362,\n",
       " '3872': 0.0015264262545315779,\n",
       " '5109': 0.00038160656363289447,\n",
       " '7533': 0.0015264262545315779,\n",
       " '12409': 0.0005724098454493417,\n",
       " '20101': 0.00019080328181644724,\n",
       " '23096': 0.00019080328181644724,\n",
       " '8862': 0.0013356229727151307,\n",
       " '78': 0.0007632131272657889,\n",
       " '4877': 0.0005724098454493417,\n",
       " '7459': 0.0022896393817973667,\n",
       " '8254': 0.002480442663613814,\n",
       " '12155': 0.0005724098454493417,\n",
       " '22598': 0.00343445907269605,\n",
       " '24932': 0.0009540164090822362,\n",
       " '888': 0.0011448196908986834,\n",
       " '1520': 0.0011448196908986834,\n",
       " '6468': 0.0011448196908986834,\n",
       " '6627': 0.0005724098454493417,\n",
       " '7007': 0.004770082045411181,\n",
       " '7712': 0.00343445907269605,\n",
       " '10711': 0.004388475481778287,\n",
       " '13614': 0.0030528525090631558,\n",
       " '14102': 0.0013356229727151307,\n",
       " '18517': 0.001717229536348025,\n",
       " '18676': 0.001717229536348025,\n",
       " '23351': 0.001717229536348025,\n",
       " '23689': 0.0005724098454493417,\n",
       " '24114': 0.00019080328181644724,\n",
       " '2465': 0.0007632131272657889,\n",
       " '2592': 0.00038160656363289447,\n",
       " '3977': 0.0013356229727151307,\n",
       " '5055': 0.00019080328181644724,\n",
       " '5993': 0.002480442663613814,\n",
       " '9265': 0.00019080328181644724,\n",
       " '12334': 0.002480442663613814,\n",
       " '19890': 0.0011448196908986834,\n",
       " '20341': 0.00019080328181644724,\n",
       " '21560': 0.00038160656363289447,\n",
       " '17309': 0.00019080328181644724,\n",
       " '24833': 0.003243655790879603,\n",
       " '543': 0.0045792787635947334,\n",
       " '1958': 0.0036252623545124977,\n",
       " '2193': 0.0011448196908986834,\n",
       " '3917': 0.0005724098454493417,\n",
       " '6858': 0.0005724098454493417,\n",
       " '8148': 0.0005724098454493417,\n",
       " '9092': 0.0005724098454493417,\n",
       " '12478': 0.0019080328181644724,\n",
       " '15366': 0.0005724098454493417,\n",
       " '18125': 0.0005724098454493417,\n",
       " '18398': 0.0005724098454493417,\n",
       " '19675': 0.0030528525090631558,\n",
       " '21806': 0.0011448196908986834,\n",
       " '23693': 0.001717229536348025,\n",
       " '26196': 0.0013356229727151307,\n",
       " '10115': 0.00038160656363289447,\n",
       " '10134': 0.00019080328181644724,\n",
       " '23916': 0.00019080328181644724,\n",
       " '7893': 0.001717229536348025,\n",
       " '593': 0.0030528525090631558,\n",
       " '5510': 0.0013356229727151307,\n",
       " '9360': 0.0019080328181644724,\n",
       " '12627': 0.0028620492272467086,\n",
       " '16778': 0.0015264262545315779,\n",
       " '18037': 0.0005724098454493417,\n",
       " '18051': 0.0019080328181644724,\n",
       " '13385': 0.00019080328181644724,\n",
       " '19578': 0.00019080328181644724,\n",
       " '12386': 0.0009540164090822362,\n",
       " '13333': 0.0009540164090822362,\n",
       " '23896': 0.0028620492272467086,\n",
       " '8978': 0.0007632131272657889,\n",
       " '9017': 0.005342491890860523,\n",
       " '15170': 0.0007632131272657889,\n",
       " '15455': 0.003243655790879603,\n",
       " '16589': 0.0009540164090822362,\n",
       " '2255': 0.0009540164090822362,\n",
       " '3056': 0.0005724098454493417,\n",
       " '6158': 0.0007632131272657889,\n",
       " '7307': 0.004960885327227628,\n",
       " '7324': 0.0007632131272657889,\n",
       " '8365': 0.0022896393817973667,\n",
       " '9023': 0.00019080328181644724,\n",
       " '11444': 0.0005724098454493417,\n",
       " '12324': 0.0009540164090822362,\n",
       " '12472': 0.0020988360999809196,\n",
       " '13831': 0.0030528525090631558,\n",
       " '14746': 0.004770082045411181,\n",
       " '16128': 0.0007632131272657889,\n",
       " '17075': 0.0036252623545124977,\n",
       " '18875': 0.0015264262545315779,\n",
       " '19900': 0.0007632131272657889,\n",
       " '20000': 0.0009540164090822362,\n",
       " '20806': 0.00038160656363289447,\n",
       " '21944': 0.0007632131272657889,\n",
       " '21968': 0.002480442663613814,\n",
       " '23302': 0.0005724098454493417,\n",
       " '23665': 0.0022896393817973667,\n",
       " '23758': 0.00038160656363289447,\n",
       " '24722': 0.0007632131272657889,\n",
       " '12045': 0.00019080328181644724,\n",
       " '12287': 0.0005724098454493417,\n",
       " '14181': 0.0019080328181644724,\n",
       " '20257': 0.0005724098454493417,\n",
       " '21613': 0.0005724098454493417,\n",
       " '7510': 0.00038160656363289447,\n",
       " '197': 0.00038160656363289447,\n",
       " '8851': 0.0020988360999809196,\n",
       " '1343': 0.0007632131272657889,\n",
       " '2991': 0.00038160656363289447,\n",
       " '8299': 0.00019080328181644724,\n",
       " '15416': 0.00038160656363289447,\n",
       " '18088': 0.0015264262545315779,\n",
       " '25286': 0.002480442663613814,\n",
       " '1254': 0.0005724098454493417,\n",
       " '3420': 0.0005724098454493417,\n",
       " '10130': 0.0028620492272467086,\n",
       " '2250': 0.003243655790879603,\n",
       " '3243': 0.0005724098454493417,\n",
       " '7717': 0.003243655790879603,\n",
       " '7985': 0.0028620492272467086,\n",
       " '11015': 0.004197672199961839,\n",
       " '12085': 0.001717229536348025,\n",
       " '13714': 0.003243655790879603,\n",
       " '14767': 0.003243655790879603,\n",
       " '16056': 0.0022896393817973667,\n",
       " '16994': 0.003816065636328945,\n",
       " '17414': 0.001717229536348025,\n",
       " '18971': 0.003243655790879603,\n",
       " '19216': 0.003243655790879603,\n",
       " '20534': 0.003243655790879603,\n",
       " '21776': 0.0009540164090822362,\n",
       " '21860': 0.0015264262545315779,\n",
       " '25205': 0.003243655790879603,\n",
       " '178': 0.0015264262545315779,\n",
       " '1248': 0.0005724098454493417,\n",
       " '1403': 0.0013356229727151307,\n",
       " '2368': 0.001717229536348025,\n",
       " '2420': 0.0009540164090822362,\n",
       " '16210': 0.002480442663613814,\n",
       " '18681': 0.0005724098454493417,\n",
       " '20641': 0.00038160656363289447,\n",
       " '24762': 0.0007632131272657889,\n",
       " '2307': 0.00038160656363289447,\n",
       " '6934': 0.0026712459454302615,\n",
       " '22423': 0.0030528525090631558,\n",
       " '231': 0.005724098454493417,\n",
       " '345': 0.002480442663613814,\n",
       " '1186': 0.003243655790879603,\n",
       " '1234': 0.0013356229727151307,\n",
       " '1841': 0.0011448196908986834,\n",
       " '1997': 0.0015264262545315779,\n",
       " '2404': 0.0015264262545315779,\n",
       " '2450': 0.00038160656363289447,\n",
       " '2980': 0.0045792787635947334,\n",
       " '3409': 0.0030528525090631558,\n",
       " '5134': 0.0013356229727151307,\n",
       " '5578': 0.0013356229727151307,\n",
       " '8503': 0.0026712459454302615,\n",
       " '9341': 0.0007632131272657889,\n",
       " '9889': 0.003816065636328945,\n",
       " '12503': 0.001717229536348025,\n",
       " '13060': 0.001717229536348025,\n",
       " '13597': 0.003243655790879603,\n",
       " '16611': 0.0011448196908986834,\n",
       " '18208': 0.0045792787635947334,\n",
       " '18543': 0.0015264262545315779,\n",
       " '18866': 0.008395344399923678,\n",
       " '22421': 0.0011448196908986834,\n",
       " '22937': 0.00343445907269605,\n",
       " '23363': 0.0019080328181644724,\n",
       " '23628': 0.0011448196908986834,\n",
       " '25053': 0.001717229536348025,\n",
       " '25251': 0.00038160656363289447,\n",
       " '2982': 0.0005724098454493417,\n",
       " '4036': 0.0005724098454493417,\n",
       " '4115': 0.0009540164090822362,\n",
       " '12938': 0.0015264262545315779,\n",
       " '13032': 0.00038160656363289447,\n",
       " '19215': 0.00038160656363289447,\n",
       " '21432': 0.00343445907269605,\n",
       " '22726': 0.0005724098454493417,\n",
       " '22834': 0.0011448196908986834,\n",
       " '22966': 0.0007632131272657889,\n",
       " '23511': 0.0007632131272657889,\n",
       " '25528': 0.0005724098454493417,\n",
       " '25836': 0.0015264262545315779,\n",
       " '14376': 0.00019080328181644724,\n",
       " '8710': 0.00038160656363289447,\n",
       " '22483': 0.0015264262545315779,\n",
       " '1375': 0.00038160656363289447,\n",
       " '2846': 0.0030528525090631558,\n",
       " '5555': 0.0015264262545315779,\n",
       " '5564': 0.0019080328181644724,\n",
       " '5787': 0.0015264262545315779,\n",
       " '9721': 0.00038160656363289447,\n",
       " '10158': 0.00019080328181644724,\n",
       " '10942': 0.0020988360999809196,\n",
       " '13600': 0.00038160656363289447,\n",
       " '13929': 0.008586147681740125,\n",
       " '21075': 0.0030528525090631558,\n",
       " '21316': 0.00019080328181644724,\n",
       " '22900': 0.00019080328181644724,\n",
       " '23637': 0.0019080328181644724,\n",
       " '23770': 0.0019080328181644724,\n",
       " '25143': 0.00038160656363289447,\n",
       " '25601': 0.00019080328181644724,\n",
       " '25980': 0.00038160656363289447,\n",
       " '17394': 0.00019080328181644724,\n",
       " '18924': 0.0015264262545315779,\n",
       " '3113': 0.003243655790879603,\n",
       " '8312': 0.0013356229727151307,\n",
       " '10765': 0.0011448196908986834,\n",
       " '17538': 0.0011448196908986834,\n",
       " '25978': 0.0011448196908986834,\n",
       " '1172': 0.0015264262545315779,\n",
       " '5674': 0.00019080328181644724,\n",
       " '26194': 0.00038160656363289447,\n",
       " '375': 0.00019080328181644724,\n",
       " '1838': 0.00038160656363289447,\n",
       " '12733': 0.0019080328181644724,\n",
       " '7188': 0.0022896393817973667,\n",
       " '896': 0.0009540164090822362,\n",
       " '921': 0.00038160656363289447,\n",
       " '1508': 0.0005724098454493417,\n",
       " '6815': 0.0005724098454493417,\n",
       " '7209': 0.0005724098454493417,\n",
       " '8279': 0.0009540164090822362,\n",
       " '13008': 0.0036252623545124977,\n",
       " '18605': 0.00019080328181644724,\n",
       " '21158': 0.0005724098454493417,\n",
       " '4632': 0.0022896393817973667,\n",
       " '7844': 0.002480442663613814,\n",
       " '11053': 0.0011448196908986834,\n",
       " '11148': 0.0019080328181644724,\n",
       " '13411': 0.0015264262545315779,\n",
       " '14512': 0.0026712459454302615,\n",
       " '16594': 0.0036252623545124977,\n",
       " '16722': 0.0013356229727151307,\n",
       " '16726': 0.0005724098454493417,\n",
       " '16876': 0.0013356229727151307,\n",
       " '19954': 0.0011448196908986834,\n",
       " '19992': 0.0028620492272467086,\n",
       " '20391': 0.0013356229727151307,\n",
       " '20774': 0.0028620492272467086,\n",
       " '23403': 0.0020988360999809196,\n",
       " '4870': 0.0005724098454493417,\n",
       " '5175': 0.0011448196908986834,\n",
       " '8282': 0.0005724098454493417,\n",
       " '22046': 0.0020988360999809196,\n",
       " '2449': 0.006487311581759206,\n",
       " '4766': 0.00038160656363289447,\n",
       " '3561': 0.001717229536348025,\n",
       " '4868': 0.0011448196908986834,\n",
       " '8352': 0.00038160656363289447,\n",
       " '10456': 0.001717229536348025,\n",
       " '15365': 0.0009540164090822362,\n",
       " '16931': 0.0015264262545315779,\n",
       " '8157': 0.00019080328181644724,\n",
       " '2120': 0.00019080328181644724,\n",
       " '7713': 0.00019080328181644724,\n",
       " '19052': 0.00019080328181644724,\n",
       " '8302': 0.00019080328181644724,\n",
       " '16484': 0.00019080328181644724,\n",
       " '17778': 0.0009540164090822362,\n",
       " '2556': 0.0020988360999809196,\n",
       " '19159': 0.0011448196908986834,\n",
       " '21699': 0.0005724098454493417,\n",
       " '25382': 0.0005724098454493417,\n",
       " '8701': 0.0019080328181644724,\n",
       " '523': 0.00038160656363289447,\n",
       " '5464': 0.0011448196908986834,\n",
       " '7774': 0.0007632131272657889,\n",
       " '17379': 0.0026712459454302615,\n",
       " '18008': 0.0007632131272657889,\n",
       " '23385': 0.00019080328181644724,\n",
       " '25868': 0.00019080328181644724,\n",
       " '26170': 0.00038160656363289447,\n",
       " '1310': 0.0020988360999809196,\n",
       " '2922': 0.0005724098454493417,\n",
       " '3651': 0.0066781148635756534,\n",
       " '6891': 0.0013356229727151307,\n",
       " '10162': 0.00038160656363289447,\n",
       " '10620': 0.0005724098454493417,\n",
       " '11112': 0.0007632131272657889,\n",
       " '13174': 0.0007632131272657889,\n",
       " '14864': 0.0019080328181644724,\n",
       " '17536': 0.0019080328181644724,\n",
       " '23153': 0.00038160656363289447,\n",
       " '24340': 0.0005724098454493417,\n",
       " '11102': 0.0009540164090822362,\n",
       " '18592': 0.0009540164090822362,\n",
       " '22765': 0.00038160656363289447,\n",
       " '1896': 0.0015264262545315779,\n",
       " '6838': 0.0013356229727151307,\n",
       " '25220': 0.00038160656363289447,\n",
       " '4180': 0.0011448196908986834,\n",
       " '10055': 0.003243655790879603,\n",
       " '12637': 0.0005724098454493417,\n",
       " '1832': 0.0005724098454493417,\n",
       " '4383': 0.00019080328181644724,\n",
       " '7014': 0.00038160656363289447,\n",
       " '9397': 0.004388475481778287,\n",
       " '14344': 0.0005724098454493417,\n",
       " '14385': 0.0005724098454493417,\n",
       " '21379': 0.004197672199961839,\n",
       " '24163': 0.00038160656363289447,\n",
       " '4416': 0.0036252623545124977,\n",
       " '9241': 0.002480442663613814,\n",
       " '2620': 0.0015264262545315779,\n",
       " '3679': 0.0005724098454493417,\n",
       " '4364': 0.006296508299942759,\n",
       " '5712': 0.0026712459454302615,\n",
       " '13955': 0.0022896393817973667,\n",
       " '14003': 0.0011448196908986834,\n",
       " '15235': 0.0015264262545315779,\n",
       " '18227': 0.0007632131272657889,\n",
       " '19445': 0.00019080328181644724,\n",
       " '19495': 0.00019080328181644724,\n",
       " '20168': 0.0019080328181644724,\n",
       " '23967': 0.0028620492272467086,\n",
       " '1116': 0.001717229536348025,\n",
       " '15399': 0.0005724098454493417,\n",
       " '18222': 0.0007632131272657889,\n",
       " '21287': 0.0015264262545315779,\n",
       " '23227': 0.00019080328181644724,\n",
       " '4624': 0.0022896393817973667,\n",
       " '5355': 0.00038160656363289447,\n",
       " '6863': 0.00038160656363289447,\n",
       " '12606': 0.0013356229727151307,\n",
       " '12968': 0.0019080328181644724,\n",
       " '15770': 0.0009540164090822362,\n",
       " '21322': 0.00019080328181644724,\n",
       " '22265': 0.0020988360999809196,\n",
       " '22336': 0.0020988360999809196,\n",
       " '23099': 0.00038160656363289447,\n",
       " '23880': 0.0013356229727151307,\n",
       " '25111': 0.0009540164090822362,\n",
       " '4319': 0.0005724098454493417,\n",
       " '12758': 0.0005724098454493417,\n",
       " '22023': 0.00019080328181644724,\n",
       " '14337': 0.001717229536348025,\n",
       " '5849': 0.0005724098454493417,\n",
       " '10763': 0.00019080328181644724,\n",
       " '11121': 0.00019080328181644724,\n",
       " '11194': 0.0011448196908986834,\n",
       " '15799': 0.001717229536348025,\n",
       " '16511': 0.0007632131272657889,\n",
       " '16575': 0.0011448196908986834,\n",
       " '16945': 0.00019080328181644724,\n",
       " '21157': 0.00019080328181644724,\n",
       " '2326': 0.0013356229727151307,\n",
       " '10253': 0.00038160656363289447,\n",
       " '13190': 0.0020988360999809196,\n",
       " '14325': 0.00038160656363289447,\n",
       " '19048': 0.0022896393817973667,\n",
       " '20182': 0.0013356229727151307,\n",
       " '3595': 0.0007632131272657889,\n",
       " '18174': 0.0007632131272657889,\n",
       " '17850': 0.00019080328181644724,\n",
       " '20620': 0.00019080328181644724,\n",
       " '12380': 0.0005724098454493417,\n",
       " '3197': 0.0005724098454493417,\n",
       " '6160': 0.0005724098454493417,\n",
       " '8589': 0.0013356229727151307,\n",
       " '9417': 0.00038160656363289447,\n",
       " '9829': 0.0028620492272467086,\n",
       " '14638': 0.0009540164090822362,\n",
       " '14924': 0.004388475481778287,\n",
       " '15972': 0.00019080328181644724,\n",
       " '17228': 0.0022896393817973667,\n",
       " '18940': 0.0028620492272467086,\n",
       " '19090': 0.0005724098454493417,\n",
       " '19475': 0.0005724098454493417,\n",
       " '20207': 0.0019080328181644724,\n",
       " '22644': 0.0022896393817973667,\n",
       " '22790': 0.0015264262545315779,\n",
       " '24001': 0.0011448196908986834,\n",
       " '25228': 0.0009540164090822362,\n",
       " '9710': 0.003816065636328945,\n",
       " '3345': 0.0028620492272467086,\n",
       " '3430': 0.0009540164090822362,\n",
       " '5266': 0.0011448196908986834,\n",
       " '5995': 0.0005724098454493417,\n",
       " '7999': 0.00019080328181644724,\n",
       " '8047': 0.00038160656363289447,\n",
       " '8178': 0.00038160656363289447,\n",
       " '8868': 0.00019080328181644724,\n",
       " '10824': 0.00038160656363289447,\n",
       " '15144': 0.002480442663613814,\n",
       " '19107': 0.0011448196908986834,\n",
       " '19806': 0.00038160656363289447,\n",
       " '22439': 0.0005724098454493417,\n",
       " '23304': 0.00019080328181644724,\n",
       " '24431': 0.0015264262545315779,\n",
       " '11077': 0.0026712459454302615,\n",
       " '10211': 0.0019080328181644724,\n",
       " '14972': 0.0005724098454493417,\n",
       " '15300': 0.0036252623545124977,\n",
       " '17158': 0.0005724098454493417,\n",
       " '17162': 0.00038160656363289447,\n",
       " '17403': 0.0007632131272657889,\n",
       " '20149': 0.00038160656363289447,\n",
       " '20519': 0.0005724098454493417,\n",
       " '21389': 0.0009540164090822362,\n",
       " '22951': 0.0015264262545315779,\n",
       " '23912': 0.0005724098454493417,\n",
       " '23918': 0.0007632131272657889,\n",
       " '25589': 0.0005724098454493417,\n",
       " '6895': 0.00019080328181644724,\n",
       " '3076': 0.0007632131272657889,\n",
       " '7444': 0.005342491890860523,\n",
       " '8972': 0.0007632131272657889,\n",
       " '17308': 0.00038160656363289447,\n",
       " '20574': 0.007059721427208548,\n",
       " '21629': 0.0013356229727151307,\n",
       " '245': 0.00038160656363289447,\n",
       " '4983': 0.00038160656363289447,\n",
       " '13480': 0.0011448196908986834,\n",
       " '14562': 0.00019080328181644724,\n",
       " '15912': 0.00038160656363289447,\n",
       " '16976': 0.0020988360999809196,\n",
       " '19974': 0.0007632131272657889,\n",
       " '22245': 0.00019080328181644724,\n",
       " '414': 0.00019080328181644724,\n",
       " '8708': 0.00019080328181644724,\n",
       " '23776': 0.00019080328181644724,\n",
       " '1044': 0.0015264262545315779,\n",
       " '4975': 0.0009540164090822362,\n",
       " '5809': 0.00038160656363289447,\n",
       " '12587': 0.0028620492272467086,\n",
       " '16123': 0.0009540164090822362,\n",
       " '20303': 0.0019080328181644724,\n",
       " '4451': 0.00038160656363289447,\n",
       " '9983': 0.00019080328181644724,\n",
       " '15205': 0.0007632131272657889,\n",
       " '15666': 0.0005724098454493417,\n",
       " '15667': 0.0005724098454493417,\n",
       " '19093': 0.0009540164090822362,\n",
       " '21031': 0.00038160656363289447,\n",
       " '24330': 0.003816065636328945,\n",
       " '5840': 0.00038160656363289447,\n",
       " '6732': 0.0013356229727151307,\n",
       " '8614': 0.00019080328181644724,\n",
       " '13847': 0.0013356229727151307,\n",
       " '15081': 0.0007632131272657889,\n",
       " '22609': 0.0005724098454493417,\n",
       " '3310': 0.0030528525090631558,\n",
       " '5143': 0.00038160656363289447,\n",
       " '9735': 0.0007632131272657889,\n",
       " '17396': 0.00019080328181644724,\n",
       " '26138': 0.00038160656363289447,\n",
       " '4700': 0.00038160656363289447,\n",
       " '5606': 0.00038160656363289447,\n",
       " '1386': 0.0005724098454493417,\n",
       " '1738': 0.0005724098454493417,\n",
       " '2566': 0.0005724098454493417,\n",
       " '2720': 0.0005724098454493417,\n",
       " '5634': 0.00038160656363289447,\n",
       " '9870': 0.0005724098454493417,\n",
       " '16779': 0.00038160656363289447,\n",
       " '24475': 0.0005724098454493417,\n",
       " '25931': 0.0019080328181644724,\n",
       " '1817': 0.0009540164090822362,\n",
       " '3725': 0.0007632131272657889,\n",
       " '5366': 0.00038160656363289447,\n",
       " '15911': 0.0007632131272657889,\n",
       " '9800': 0.001717229536348025,\n",
       " '26141': 0.0007632131272657889,\n",
       " '18001': 0.00038160656363289447,\n",
       " '22177': 0.0040068689181453915,\n",
       " '25480': 0.0013356229727151307,\n",
       " '1425': 0.001717229536348025,\n",
       " '2501': 0.0019080328181644724,\n",
       " '2823': 0.0007632131272657889,\n",
       " '5136': 0.00038160656363289447,\n",
       " '7105': 0.0009540164090822362,\n",
       " '7317': 0.0013356229727151307,\n",
       " '9127': 0.0007632131272657889,\n",
       " '14615': 0.0019080328181644724,\n",
       " '17089': 0.0011448196908986834,\n",
       " '19454': 0.0005724098454493417,\n",
       " '22758': 0.0020988360999809196,\n",
       " '23841': 0.0019080328181644724,\n",
       " '3207': 0.00019080328181644724,\n",
       " '7125': 0.0019080328181644724,\n",
       " '20683': 0.0013356229727151307,\n",
       " '25419': 0.0009540164090822362,\n",
       " '2591': 0.0011448196908986834,\n",
       " '8932': 0.00019080328181644724,\n",
       " '9188': 0.0005724098454493417,\n",
       " '9773': 0.00038160656363289447,\n",
       " '13713': 0.00038160656363289447,\n",
       " '19179': 0.0013356229727151307,\n",
       " '14818': 0.0009540164090822362,\n",
       " '26190': 0.0009540164090822362,\n",
       " '3839': 0.0028620492272467086,\n",
       " '13615': 0.0005724098454493417,\n",
       " '16674': 0.002480442663613814,\n",
       " '7042': 0.0007632131272657889,\n",
       " '9269': 0.00038160656363289447,\n",
       " '11661': 0.0015264262545315779,\n",
       " '21994': 0.003243655790879603,\n",
       " '9943': 0.0020988360999809196,\n",
       " '10096': 0.00343445907269605,\n",
       " '15614': 0.0013356229727151307,\n",
       " '16368': 0.0020988360999809196,\n",
       " '17285': 0.0011448196908986834,\n",
       " '21407': 0.0011448196908986834,\n",
       " '8715': 0.0007632131272657889,\n",
       " '21142': 0.00038160656363289447,\n",
       " '21167': 0.00038160656363289447,\n",
       " '13621': 0.00019080328181644724,\n",
       " '25388': 0.00019080328181644724,\n",
       " '284': 0.00019080328181644724,\n",
       " '6427': 0.0011448196908986834,\n",
       " '16835': 0.00038160656363289447,\n",
       " '18677': 0.00038160656363289447,\n",
       " '21696': 0.00038160656363289447,\n",
       " '25854': 0.00038160656363289447,\n",
       " '25940': 0.00038160656363289447,\n",
       " '9485': 0.00038160656363289447,\n",
       " '10435': 0.0005724098454493417,\n",
       " '14698': 0.00019080328181644724,\n",
       " '21823': 0.0005724098454493417,\n",
       " '811': 0.001717229536348025,\n",
       " '9964': 0.0007632131272657889,\n",
       " '11919': 0.0007632131272657889,\n",
       " '15123': 0.0005724098454493417,\n",
       " '17021': 0.00038160656363289447,\n",
       " '19517': 0.0015264262545315779,\n",
       " '22989': 0.0009540164090822362,\n",
       " '23485': 0.0011448196908986834,\n",
       " '8069': 0.00038160656363289447,\n",
       " '2127': 0.00019080328181644724,\n",
       " '11712': 0.0022896393817973667,\n",
       " '10871': 0.0026712459454302615,\n",
       " '15829': 0.0007632131272657889,\n",
       " '16106': 0.0007632131272657889,\n",
       " '17207': 0.0019080328181644724,\n",
       " '17670': 0.0007632131272657889,\n",
       " '18286': 0.0013356229727151307,\n",
       " '18612': 0.0007632131272657889,\n",
       " '19234': 0.00019080328181644724,\n",
       " '19724': 0.0005724098454493417,\n",
       " '22876': 0.002480442663613814,\n",
       " '3412': 0.0005724098454493417,\n",
       " '894': 0.0009540164090822362,\n",
       " '4814': 0.0019080328181644724,\n",
       " '5441': 0.0015264262545315779,\n",
       " '5717': 0.001717229536348025,\n",
       " '5934': 0.003243655790879603,\n",
       " '9075': 0.00038160656363289447,\n",
       " '10623': 0.0011448196908986834,\n",
       " '11223': 0.0007632131272657889,\n",
       " '11491': 0.0005724098454493417,\n",
       " '12659': 0.001717229536348025,\n",
       " '14351': 0.001717229536348025,\n",
       " '19807': 0.00038160656363289447,\n",
       " '21324': 0.0009540164090822362,\n",
       " '21665': 0.0007632131272657889,\n",
       " '22734': 0.0005724098454493417,\n",
       " '22778': 0.0019080328181644724,\n",
       " '23246': 0.0011448196908986834,\n",
       " '25698': 0.002480442663613814,\n",
       " '7615': 0.0013356229727151307,\n",
       " '12806': 0.0011448196908986834,\n",
       " '1620': 0.0013356229727151307,\n",
       " '3922': 0.0019080328181644724,\n",
       " '9133': 0.00019080328181644724,\n",
       " '9895': 0.00019080328181644724,\n",
       " '9907': 0.0019080328181644724,\n",
       " '11791': 0.0005724098454493417,\n",
       " '18457': 0.00019080328181644724,\n",
       " '19131': 0.00019080328181644724,\n",
       " '19997': 0.00019080328181644724,\n",
       " '21491': 0.003816065636328945,\n",
       " '22426': 0.0011448196908986834,\n",
       " '22791': 0.00038160656363289447,\n",
       " '25158': 0.0005724098454493417,\n",
       " '25316': 0.0011448196908986834,\n",
       " '352': 0.0005724098454493417,\n",
       " '3996': 0.0009540164090822362,\n",
       " '10555': 0.0011448196908986834,\n",
       " '15850': 0.0009540164090822362,\n",
       " '19101': 0.0009540164090822362,\n",
       " '20533': 0.0005724098454493417,\n",
       " '21943': 0.002480442663613814,\n",
       " '22603': 0.00038160656363289447,\n",
       " '23513': 0.0007632131272657889,\n",
       " '25034': 0.0036252623545124977,\n",
       " '1280': 0.0005724098454493417,\n",
       " '5851': 0.0005724098454493417,\n",
       " '11591': 0.0015264262545315779,\n",
       " '13520': 0.0030528525090631558,\n",
       " '16921': 0.0022896393817973667,\n",
       " '21646': 0.001717229536348025,\n",
       " '17559': 0.002480442663613814,\n",
       " '1674': 0.0011448196908986834,\n",
       " '3323': 0.0009540164090822362,\n",
       " '8680': 0.0009540164090822362,\n",
       " '9184': 0.0040068689181453915,\n",
       " '13813': 0.002480442663613814,\n",
       " '19204': 0.0020988360999809196,\n",
       " '19206': 0.0005724098454493417,\n",
       " '19657': 0.0019080328181644724,\n",
       " '20373': 0.004770082045411181,\n",
       " '23204': 0.0022896393817973667,\n",
       " '409': 0.0005724098454493417,\n",
       " '2474': 0.0005724098454493417,\n",
       " '4241': 0.00343445907269605,\n",
       " '6746': 0.0005724098454493417,\n",
       " '10476': 0.0007632131272657889,\n",
       " '16568': 0.0007632131272657889,\n",
       " '21771': 0.0013356229727151307,\n",
       " '24620': 0.0005724098454493417,\n",
       " '2081': 0.00019080328181644724,\n",
       " '2664': 0.00019080328181644724,\n",
       " '12212': 0.0028620492272467086,\n",
       " '13528': 0.00038160656363289447,\n",
       " '14628': 0.00038160656363289447,\n",
       " '22574': 0.001717229536348025,\n",
       " ...}"
      ]
     },
     "execution_count": 33,
     "metadata": {},
     "output_type": "execute_result"
    }
   ],
   "source": [
    "nx.degree_centrality(authors_graph)"
   ]
  },
  {
   "cell_type": "markdown",
   "metadata": {
    "slideshow": {
     "slide_type": "slide"
    }
   },
   "source": [
    "### Exercise\n",
    "\n",
    "Plot degree centrality of authors_graph.\n",
    "\n",
    "(count vs degree centrality)"
   ]
  },
  {
   "cell_type": "code",
   "execution_count": 34,
   "metadata": {
    "slideshow": {
     "slide_type": "slide"
    }
   },
   "outputs": [
    {
     "data": {
      "image/png": "[encoded data removed]",
      "text/plain": [
       "<Figure size 432x288 with 1 Axes>"
      ]
     },
     "metadata": {},
     "output_type": "display_data"
    },
    {
     "data": {
      "image/png": "[encoded data removed]",
      "text/plain": [
       "<Figure size 432x288 with 1 Axes>"
      ]
     },
     "metadata": {},
     "output_type": "display_data"
    },
    {
     "data": {
      "image/png": "[encoded data removed]",
      "text/plain": [
       "<Figure size 432x288 with 1 Axes>"
      ]
     },
     "metadata": {},
     "output_type": "display_data"
    }
   ],
   "source": [
    "plt.hist(list(nx.degree_centrality(authors_graph).values()))\n",
    "plt.show()\n",
    "\n",
    "G = nx.erdos_renyi_graph(1000, 0.3, seed=1)\n",
    "plt.hist(list(nx.degree_centrality(G).values()))\n",
    "plt.show()\n",
    "\n",
    "H = nx.barabasi_albert_graph(1000, 30, 0.3)\n",
    "# K = nx.powerlaw_cluster_graph(1000, 30, 0.3)\n",
    "\n",
    "plt.hist(list(nx.degree_centrality(H).values()))\n",
    "plt.show()\n",
    "\n",
    "# plt.hist(list(nx.degree_centrality(K).values()))\n",
    "# plt.show()"
   ]
  },
  {
   "cell_type": "markdown",
   "metadata": {},
   "source": [
    "#### Let's have a look at Connected Components of a graph.\n",
    "\n",
    "In graph theory, a connected component (or just component) of an undirected graph is a subgraph in which any two vertices are connected to each other by paths, and which is connected to no additional vertices in the supergraph."
   ]
  },
  {
   "cell_type": "code",
   "execution_count": 35,
   "metadata": {},
   "outputs": [
    {
     "data": {
      "image/png": "[encoded data removed]",
      "text/plain": [
       "<Figure size 432x288 with 1 Axes>"
      ]
     },
     "metadata": {},
     "output_type": "display_data"
    }
   ],
   "source": [
    "G = nx.erdos_renyi_graph(10, 0.15, seed=1)\n",
    "nx.draw(G, with_labels=True)"
   ]
  },
  {
   "cell_type": "code",
   "execution_count": 36,
   "metadata": {
    "slideshow": {
     "slide_type": "slide"
    }
   },
   "outputs": [
    {
     "name": "stdout",
     "output_type": "stream",
     "text": [
      "[4158, 14, 12, 10, 9, 9, 8, 8, 8, 8, 8, 8, 7, 7, 7, 7, 7, 7, 7, 7, 6, 6, 6, 6, 6, 6, 6, 6, 6, 6, 6, 6, 5, 5, 5, 5, 5, 5, 5, 5, 5, 5, 5, 5, 5, 5, 5, 5, 5, 4, 4, 4, 4, 4, 4, 4, 4, 4, 4, 4, 4, 4, 4, 4, 4, 4, 4, 4, 4, 4, 4, 4, 4, 4, 4, 4, 4, 4, 4, 3, 3, 3, 3, 3, 3, 3, 3, 3, 3, 3, 3, 3, 3, 3, 3, 3, 3, 3, 3, 3, 3, 3, 3, 3, 3, 3, 3, 3, 3, 3, 3, 3, 3, 3, 3, 3, 3, 3, 3, 3, 3, 3, 3, 3, 3, 3, 3, 3, 3, 3, 3, 3, 3, 3, 3, 3, 3, 3, 3, 3, 3, 3, 3, 3, 3, 3, 3, 3, 3, 3, 3, 3, 3, 3, 3, 3, 3, 3, 3, 3, 3, 3, 3, 3, 3, 3, 3, 3, 3, 3, 3, 3, 3, 3, 3, 3, 3, 2, 2, 2, 2, 2, 2, 2, 2, 2, 2, 2, 2, 2, 2, 2, 2, 2, 2, 2, 2, 2, 2, 2, 2, 2, 2, 2, 2, 2, 2, 2, 2, 2, 2, 2, 2, 2, 2, 2, 2, 2, 2, 2, 2, 2, 2, 2, 2, 2, 2, 2, 2, 2, 2, 2, 2, 2, 2, 2, 2, 2, 2, 2, 2, 2, 2, 2, 2, 2, 2, 2, 2, 2, 2, 2, 2, 2, 2, 2, 2, 2, 2, 2, 2, 2, 2, 2, 2, 2, 2, 2, 2, 2, 2, 2, 2, 2, 2, 2, 2, 2, 2, 2, 2, 2, 2, 2, 2, 2, 2, 2, 2, 2, 2, 2, 2, 2, 2, 2, 2, 2, 2, 2, 2, 2, 2, 2, 2, 2, 2, 2, 2, 2, 2, 2, 2, 2, 2, 2, 2, 2, 2, 2, 2, 2, 2, 2, 2, 2, 2, 2, 2, 2, 2, 2, 2, 2, 2, 2, 2, 2, 2, 2, 2, 2, 2, 2, 2, 2, 2, 2, 2, 2, 2, 2, 2, 2, 1]\n"
     ]
    }
   ],
   "source": [
    "print([len(c) for c in sorted(nx.connected_components(authors_graph), key=len, reverse=True)])"
   ]
  },
  {
   "cell_type": "code",
   "execution_count": 37,
   "metadata": {
    "slideshow": {
     "slide_type": "slide"
    }
   },
   "outputs": [],
   "source": [
    "graphs = [c for c in sorted(nx.connected_component_subgraphs(authors_graph), key=len, reverse=True)]"
   ]
  },
  {
   "cell_type": "code",
   "execution_count": 38,
   "metadata": {},
   "outputs": [
    {
     "data": {
      "text/plain": [
       "4158"
      ]
     },
     "execution_count": 38,
     "metadata": {},
     "output_type": "execute_result"
    }
   ],
   "source": [
    "len(graphs[0])"
   ]
  },
  {
   "cell_type": "code",
   "execution_count": 39,
   "metadata": {},
   "outputs": [
    {
     "data": {
      "image/png": "[encoded data removed]",
      "text/plain": [
       "<Figure size 432x288 with 1 Axes>"
      ]
     },
     "metadata": {},
     "output_type": "display_data"
    }
   ],
   "source": [
    "nx.draw(graphs[10])"
   ]
  },
  {
   "cell_type": "markdown",
   "metadata": {
    "slideshow": {
     "slide_type": "slide"
    }
   },
   "source": [
    "### Graph Traversal"
   ]
  },
  {
   "cell_type": "code",
   "execution_count": 40,
   "metadata": {},
   "outputs": [
    {
     "data": {
      "image/png": "[encoded data removed]",
      "text/plain": [
       "<Figure size 432x288 with 1 Axes>"
      ]
     },
     "metadata": {},
     "output_type": "display_data"
    }
   ],
   "source": [
    "nx.draw(nx.erdos_renyi_graph(10, 0.15, seed=1), with_labels=True)"
   ]
  },
  {
   "cell_type": "code",
   "execution_count": 41,
   "metadata": {},
   "outputs": [
    {
     "name": "stdout",
     "output_type": "stream",
     "text": [
      "['22504', '6512', '18757', '5172', '3677', '23991']\n",
      "6\n",
      "5\n"
     ]
    }
   ],
   "source": [
    "print(nx.shortest_path(graphs[0], '22504', '23991'))\n",
    "print(len(nx.shortest_path(graphs[0], '22504', '23991')))\n",
    "print(nx.shortest_path_length(graphs[0], '22504', '23991'))"
   ]
  },
  {
   "cell_type": "markdown",
   "metadata": {
    "slideshow": {
     "slide_type": "slide"
    }
   },
   "source": [
    "### Excersise - 4\n",
    "##### Six degrees of separation, Erdos Number, Bacon Number!!\n",
    "\n",
    "Find the '22504' number of the graph authors_graph, if there is no connection between nodes then give it the number `-1`.\n",
    "Also plot a histogram of the '22504' number.\n",
    "\n",
    "Find the average shortest path length in the first component i.e. graphs[0]\n",
    "\n",
    "HINT: `nx.shortest_path_length`"
   ]
  },
  {
   "cell_type": "code",
   "execution_count": 42,
   "metadata": {
    "slideshow": {
     "slide_type": "slide"
    }
   },
   "outputs": [],
   "source": [
    "# G = nx.fast_gnp_random_graph(10000, 0.1, seed=1)"
   ]
  },
  {
   "cell_type": "code",
   "execution_count": 43,
   "metadata": {
    "slideshow": {
     "slide_type": "-"
    }
   },
   "outputs": [],
   "source": [
    "d = {}\n",
    "for node in authors_graph.nodes():\n",
    "    try:\n",
    "        d[node] = nx.shortest_path_length(authors_graph, '22504', node)\n",
    "    except:\n",
    "        d[node] = -1"
   ]
  },
  {
   "cell_type": "code",
   "execution_count": 44,
   "metadata": {},
   "outputs": [
    {
     "data": {
      "image/png": "[encoded data removed]",
      "text/plain": [
       "<Figure size 432x288 with 1 Axes>"
      ]
     },
     "metadata": {},
     "output_type": "display_data"
    }
   ],
   "source": [
    "plt.hist(list(d.values()))\n",
    "plt.show()\n",
    "# list(d.values())"
   ]
  },
  {
   "cell_type": "code",
   "execution_count": 45,
   "metadata": {},
   "outputs": [],
   "source": [
    "# print(sum([1 for _, val in d.items() if val == -1]))\n",
    "# print(len(authors_graph.nodes()) - len(graphs[0]))\n",
    "# print((sum(val for _, val in d.items() if val != -1))/len(graphs[0]))"
   ]
  },
  {
   "cell_type": "markdown",
   "metadata": {
    "slideshow": {
     "slide_type": "slide"
    }
   },
   "source": [
    "### Directed Graphs\n",
    "\n",
    "![title](images/pagerank.png)"
   ]
  },
  {
   "cell_type": "code",
   "execution_count": 46,
   "metadata": {
    "slideshow": {
     "slide_type": "slide"
    }
   },
   "outputs": [
    {
     "data": {
      "text/plain": [
       "True"
      ]
     },
     "execution_count": 46,
     "metadata": {},
     "output_type": "execute_result"
    }
   ],
   "source": [
    "G = nx.DiGraph()\n",
    "\n",
    "G.add_edge(1, 2)\n",
    "\n",
    "# print(G.edges())\n",
    "# G[2][1]\n",
    "G.is_directed()\n",
    "# type(G)"
   ]
  },
  {
   "cell_type": "code",
   "execution_count": 47,
   "metadata": {},
   "outputs": [
    {
     "data": {
      "image/png": "[encoded data removed]",
      "text/plain": [
       "<Figure size 432x288 with 1 Axes>"
      ]
     },
     "metadata": {},
     "output_type": "display_data"
    }
   ],
   "source": [
    "G.add_edges_from([(1, 2), (3, 2), (4, 2), (5, 2), (6, 2), (7, 2)])\n",
    "nx.draw(G, with_labels=True)"
   ]
  },
  {
   "cell_type": "code",
   "execution_count": 48,
   "metadata": {
    "slideshow": {
     "slide_type": "slide"
    }
   },
   "outputs": [
    {
     "data": {
      "text/plain": [
       "InDegreeView({1: 0, 2: 6, 3: 0, 4: 0, 5: 0, 6: 0, 7: 0})"
      ]
     },
     "execution_count": 48,
     "metadata": {},
     "output_type": "execute_result"
    }
   ],
   "source": [
    "G.in_degree()"
   ]
  },
  {
   "cell_type": "code",
   "execution_count": 49,
   "metadata": {},
   "outputs": [
    {
     "data": {
      "text/plain": [
       "{1: 0.0826448180198328,\n",
       " 2: 0.5041310918810031,\n",
       " 3: 0.0826448180198328,\n",
       " 4: 0.0826448180198328,\n",
       " 5: 0.0826448180198328,\n",
       " 6: 0.0826448180198328,\n",
       " 7: 0.0826448180198328}"
      ]
     },
     "execution_count": 49,
     "metadata": {},
     "output_type": "execute_result"
    }
   ],
   "source": [
    "nx.pagerank(G)"
   ]
  },
  {
   "cell_type": "code",
   "execution_count": 50,
   "metadata": {
    "slideshow": {
     "slide_type": "slide"
    }
   },
   "outputs": [
    {
     "data": {
      "image/png": "[encoded data removed]",
      "text/plain": [
       "<Figure size 432x288 with 1 Axes>"
      ]
     },
     "metadata": {},
     "output_type": "display_data"
    }
   ],
   "source": [
    "G.add_edge(5, 6)\n",
    "nx.draw(G, with_labels=True)"
   ]
  },
  {
   "cell_type": "code",
   "execution_count": 51,
   "metadata": {},
   "outputs": [
    {
     "data": {
      "text/plain": [
       "{1: 0.08024854052495894,\n",
       " 2: 0.4844028780560986,\n",
       " 3: 0.08024854052495894,\n",
       " 4: 0.08024854052495894,\n",
       " 5: 0.08024854052495894,\n",
       " 6: 0.11435441931910648,\n",
       " 7: 0.08024854052495894}"
      ]
     },
     "execution_count": 51,
     "metadata": {},
     "output_type": "execute_result"
    }
   ],
   "source": [
    "nx.pagerank(G)"
   ]
  },
  {
   "cell_type": "code",
   "execution_count": 52,
   "metadata": {
    "slideshow": {
     "slide_type": "slide"
    }
   },
   "outputs": [
    {
     "data": {
      "image/png": "[encoded data removed]",
      "text/plain": [
       "<Figure size 432x288 with 1 Axes>"
      ]
     },
     "metadata": {},
     "output_type": "display_data"
    }
   ],
   "source": [
    "G.add_edge(2, 8)\n",
    "nx.draw(G, with_labels=True)"
   ]
  },
  {
   "cell_type": "code",
   "execution_count": 53,
   "metadata": {},
   "outputs": [
    {
     "data": {
      "text/plain": [
       "{1: 0.05378612718073915,\n",
       " 2: 0.3246687852772877,\n",
       " 3: 0.05378612718073915,\n",
       " 4: 0.05378612718073915,\n",
       " 5: 0.05378612718073915,\n",
       " 6: 0.0766454192258098,\n",
       " 7: 0.05378612718073915,\n",
       " 8: 0.3297551595932067}"
      ]
     },
     "execution_count": 53,
     "metadata": {},
     "output_type": "execute_result"
    }
   ],
   "source": [
    "nx.pagerank(G)"
   ]
  },
  {
   "cell_type": "code",
   "execution_count": 54,
   "metadata": {},
   "outputs": [
    {
     "name": "stdout",
     "output_type": "stream",
     "text": [
      "CPU times: user 1min 53s, sys: 516 ms, total: 1min 53s\n",
      "Wall time: 2min 4s\n"
     ]
    },
    {
     "data": {
      "image/png": "[encoded data removed]",
      "text/plain": [
       "<Figure size 432x288 with 1 Axes>"
      ]
     },
     "metadata": {},
     "output_type": "display_data"
    }
   ],
   "source": [
    "%%time\n",
    "deg_centrality = nx.degree_centrality(authors_graph)\n",
    "btw_centrality = nx.betweenness_centrality(authors_graph)\n",
    "\n",
    "deg_cent_sorted = [i[1] for i in sorted(zip(deg_centrality.keys(), deg_centrality.values()))]\n",
    "btw_cent_sorted = [i[1] for i in sorted(zip(btw_centrality.keys(), btw_centrality.values()))]\n",
    "\n",
    "plt.scatter(deg_cent_sorted, btw_cent_sorted)\n",
    "plt.xlabel('degree')\n",
    "plt.ylabel('betweeness')\n",
    "plt.title('centrality scatterplot')"
   ]
  },
  {
   "cell_type": "code",
   "execution_count": null,
   "metadata": {},
   "outputs": [],
   "source": []
  },
  {
   "cell_type": "code",
   "execution_count": null,
   "metadata": {},
   "outputs": [],
   "source": []
  }
 ],
 "metadata": {
  "celltoolbar": "Slideshow",
  "kernelspec": {
   "display_name": "Python 3",
   "language": "python",
   "name": "python3"
  },
  "language_info": {
   "codemirror_mode": {
    "name": "ipython",
    "version": 3
   },
   "file_extension": ".py",
   "mimetype": "text/x-python",
   "name": "python",
   "nbconvert_exporter": "python",
   "pygments_lexer": "ipython3",
   "version": "3.6.5"
  }
 },
 "nbformat": 4,
 "nbformat_minor": 2
}
